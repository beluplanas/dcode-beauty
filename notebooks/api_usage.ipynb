{
 "cells": [
  {
   "cell_type": "code",
   "execution_count": 1,
   "metadata": {},
   "outputs": [],
   "source": [
    "import requests "
   ]
  },
  {
   "cell_type": "code",
   "execution_count": 24,
   "metadata": {},
   "outputs": [],
   "source": [
    "url = \"http://127.0.0.1:8000/predict\"\n",
    "params = {'text':'moisture bond refreshing hydra-gel oil free'}\n",
    "files = {'img':open('../other files/Photo/1.jpeg','rb')}"
   ]
  },
  {
   "cell_type": "code",
   "execution_count": 25,
   "metadata": {},
   "outputs": [
    {
     "data": {
      "text/plain": [
       "200"
      ]
     },
     "execution_count": 25,
     "metadata": {},
     "output_type": "execute_result"
    }
   ],
   "source": [
    "response = requests.get(\n",
    "    url,\n",
    "    params= params\n",
    ")\n",
    "response.status_code"
   ]
  },
  {
   "cell_type": "code",
   "execution_count": 26,
   "metadata": {},
   "outputs": [
    {
     "data": {
      "text/plain": [
       "b'{\"ingredients\":\"[{\\\\\"quimico\\\\\":0.0307782702,\\\\\"efecto\\\\\":0.8988909125,\\\\\"natural\\\\\":0.0703308433,\\\\\"Ingredient\\\\\":\\\\\"Butylene Glycol\\\\\",\\\\\"resultado_parcial\\\\\":\\\\\"efecto\\\\\",\\\\\"resultado_final\\\\\":\\\\\"no se puede determinar\\\\\"},{\\\\\"quimico\\\\\":0.3795894682,\\\\\"efecto\\\\\":0.2692161202,\\\\\"natural\\\\\":0.3511944413,\\\\\"Ingredient\\\\\":\\\\\"Cyclopentasiloxane\\\\\",\\\\\"resultado_parcial\\\\\":\\\\\"quimico\\\\\",\\\\\"resultado_final\\\\\":\\\\\"no se puede determinar\\\\\"},{\\\\\"quimico\\\\\":0.2835085392,\\\\\"efecto\\\\\":0.5479161143,\\\\\"natural\\\\\":0.1685753167,\\\\\"Ingredient\\\\\":\\\\\"Hydrogenated Polyisobutene\\\\\",\\\\\"resultado_parcial\\\\\":\\\\\"efecto\\\\\",\\\\\"resultado_final\\\\\":\\\\\"quimico\\\\\"},{\\\\\"quimico\\\\\":0.4959627688,\\\\\"efecto\\\\\":0.1670836657,\\\\\"natural\\\\\":0.3369536102,\\\\\"Ingredient\\\\\":\\\\\"Glycerin\\\\\",\\\\\"resultado_parcial\\\\\":\\\\\"quimico\\\\\",\\\\\"resultado_final\\\\\":\\\\\"quimico\\\\\"},{\\\\\"quimico\\\\\":0.5865938663,\\\\\"efecto\\\\\":0.2509190738,\\\\\"natural\\\\\":0.1624870598,\\\\\"Ingredient\\\\\":\\\\\"Dimethicone\\\\\",\\\\\"resultado_parcial\\\\\":\\\\\"quimico\\\\\",\\\\\"resultado_final\\\\\":\\\\\"quimico\\\\\"},{\\\\\"quimico\\\\\":0.2772679031,\\\\\"efecto\\\\\":0.1791796982,\\\\\"natural\\\\\":0.5435523987,\\\\\"Ingredient\\\\\":\\\\\"Xylitylglucoside\\\\\",\\\\\"resultado_parcial\\\\\":\\\\\"natural\\\\\",\\\\\"resultado_final\\\\\":\\\\\"natural\\\\\"},{\\\\\"quimico\\\\\":0.3040707707,\\\\\"efecto\\\\\":0.0700531453,\\\\\"natural\\\\\":0.6258760691,\\\\\"Ingredient\\\\\":\\\\\"Panax Ginseng Root Extract\\\\\",\\\\\"resultado_parcial\\\\\":\\\\\"natural\\\\\",\\\\\"resultado_final\\\\\":\\\\\"natural\\\\\"},{\\\\\"quimico\\\\\":0.1740939021,\\\\\"efecto\\\\\":0.1621240526,\\\\\"natural\\\\\":0.6637820601,\\\\\"Ingredient\\\\\":\\\\\"Trehalose\\\\\",\\\\\"resultado_parcial\\\\\":\\\\\"natural\\\\\",\\\\\"resultado_final\\\\\":\\\\\"natural\\\\\"},{\\\\\"quimico\\\\\":0.6045641303,\\\\\"efecto\\\\\":0.1051943675,\\\\\"natural\\\\\":0.2902415097,\\\\\"Ingredient\\\\\":\\\\\"Serine\\\\\",\\\\\"resultado_parcial\\\\\":\\\\\"quimico\\\\\",\\\\\"resultado_final\\\\\":\\\\\"quimico\\\\\"},{\\\\\"quimico\\\\\":0.8359074593,\\\\\"efecto\\\\\":0.0832267329,\\\\\"natural\\\\\":0.0808658227,\\\\\"Ingredient\\\\\":\\\\\"Glycine\\\\\",\\\\\"resultado_parcial\\\\\":\\\\\"quimico\\\\\",\\\\\"resultado_final\\\\\":\\\\\"quimico\\\\\"},{\\\\\"quimico\\\\\":0.2989616394,\\\\\"efecto\\\\\":0.2858016193,\\\\\"natural\\\\\":0.4152367711,\\\\\"Ingredient\\\\\":\\\\\"Glutamic Acid\\\\\",\\\\\"resultado_parcial\\\\\":\\\\\"natural\\\\\",\\\\\"resultado_final\\\\\":\\\\\"natural\\\\\"},{\\\\\"quimico\\\\\":0.5865761042,\\\\\"efecto\\\\\":0.2647266984,\\\\\"natural\\\\\":0.1486971825,\\\\\"Ingredient\\\\\":\\\\\"Arginine\\\\\",\\\\\"resultado_parcial\\\\\":\\\\\"quimico\\\\\",\\\\\"resultado_final\\\\\":\\\\\"quimico\\\\\"},{\\\\\"quimico\\\\\":0.5296560526,\\\\\"efecto\\\\\":0.2125011832,\\\\\"natural\\\\\":0.2578427792,\\\\\"Ingredient\\\\\":\\\\\"Threonine\\\\\",\\\\\"resultado_parcial\\\\\":\\\\\"quimico\\\\\",\\\\\"resultado_final\\\\\":\\\\\"quimico\\\\\"},{\\\\\"quimico\\\\\":0.2046035379,\\\\\"efecto\\\\\":0.1335789114,\\\\\"natural\\\\\":0.6618175507,\\\\\"Ingredient\\\\\":\\\\\"Cetearyl Alcohol\\\\\",\\\\\"resultado_parcial\\\\\":\\\\\"natural\\\\\",\\\\\"resultado_final\\\\\":\\\\\"natural\\\\\"},{\\\\\"quimico\\\\\":0.5035773516,\\\\\"efecto\\\\\":0.148458004,\\\\\"natural\\\\\":0.3479645848,\\\\\"Ingredient\\\\\":\\\\\"PEG-40 Stearate\\\\\",\\\\\"resultado_parcial\\\\\":\\\\\"quimico\\\\\",\\\\\"resultado_final\\\\\":\\\\\"quimico\\\\\"},{\\\\\"quimico\\\\\":0.0786532462,\\\\\"efecto\\\\\":0.3328881562,\\\\\"natural\\\\\":0.5884585977,\\\\\"Ingredient\\\\\":\\\\\"Anhydroxylitol\\\\\",\\\\\"resultado_parcial\\\\\":\\\\\"natural\\\\\",\\\\\"resultado_final\\\\\":\\\\\"natural\\\\\"},{\\\\\"quimico\\\\\":0.0848846287,\\\\\"efecto\\\\\":0.6816781759,\\\\\"natural\\\\\":0.233437255,\\\\\"Ingredient\\\\\":\\\\\"Silica\\\\\",\\\\\"resultado_parcial\\\\\":\\\\\"efecto\\\\\",\\\\\"resultado_final\\\\\":\\\\\"natural\\\\\"},{\\\\\"quimico\\\\\":0.3224801421,\\\\\"efecto\\\\\":0.6094967723,\\\\\"natural\\\\\":0.0680230185,\\\\\"Ingredient\\\\\":\\\\\"Sodium Polyacrylate\\\\\",\\\\\"resultado_parcial\\\\\":\\\\\"efecto\\\\\",\\\\\"resultado_final\\\\\":\\\\\"quimico\\\\\"},{\\\\\"quimico\\\\\":0.0641440973,\\\\\"efecto\\\\\":0.35123083,\\\\\"natural\\\\\":0.5846250653,\\\\\"Ingredient\\\\\":\\\\\"Sucrose Stearate\\\\\",\\\\\"resultado_parcial\\\\\":\\\\\"natural\\\\\",\\\\\"resultado_final\\\\\":\\\\\"natural\\\\\"},{\\\\\"quimico\\\\\":0.1762713492,\\\\\"efecto\\\\\":0.3760409653,\\\\\"natural\\\\\":0.4476877153,\\\\\"Ingredient\\\\\":\\\\\"Sorbitan Sesquioleate\\\\\",\\\\\"resultado_parcial\\\\\":\\\\\"natural\\\\\",\\\\\"resultado_final\\\\\":\\\\\"natural\\\\\"},{\\\\\"quimico\\\\\":0.3676135838,\\\\\"efecto\\\\\":0.1944965273,\\\\\"natural\\\\\":0.4378898442,\\\\\"Ingredient\\\\\":\\\\\"Hydrogenated Polydecene\\\\\",\\\\\"resultado_parcial\\\\\":\\\\\"natural\\\\\",\\\\\"resultado_final\\\\\":\\\\\"no se puede determinar\\\\\"},{\\\\\"quimico\\\\\":0.4980663061,\\\\\"efecto\\\\\":0.1670181602,\\\\\"natural\\\\\":0.3349155486,\\\\\"Ingredient\\\\\":\\\\\"Polysilicone-11\\\\\",\\\\\"resultado_parcial\\\\\":\\\\\"quimico\\\\\",\\\\\"resultado_final\\\\\":\\\\\"quimico\\\\\"},{\\\\\"quimico\\\\\":0.0817655474,\\\\\"efecto\\\\\":0.3331243098,\\\\\"natural\\\\\":0.5851101279,\\\\\"Ingredient\\\\\":\\\\\"Xylitol\\\\\",\\\\\"resultado_parcial\\\\\":\\\\\"natural\\\\\",\\\\\"resultado_final\\\\\":\\\\\"natural\\\\\"},{\\\\\"quimico\\\\\":0.052549433,\\\\\"efecto\\\\\":0.8610826731,\\\\\"natural\\\\\":0.086367853,\\\\\"Ingredient\\\\\":\\\\\"Triethanolamine\\\\\",\\\\\"resultado_parcial\\\\\":\\\\\"efecto\\\\\",\\\\\"resultado_final\\\\\":\\\\\"no se puede determinar\\\\\"},{\\\\\"quimico\\\\\":0.283734858,\\\\\"efecto\\\\\":0.5374085903,\\\\\"natural\\\\\":0.1788565367,\\\\\"Ingredient\\\\\":\\\\\"Carbomer\\\\\",\\\\\"resultado_parcial\\\\\":\\\\\"efecto\\\\\",\\\\\"resultado_final\\\\\":\\\\\"quimico\\\\\"},{\\\\\"quimico\\\\\":0.0811772421,\\\\\"efecto\\\\\":0.8658200502,\\\\\"natural\\\\\":0.0530026555,\\\\\"Ingredient\\\\\":\\\\\"Titanium Dioxide\\\\\",\\\\\"resultado_parcial\\\\\":\\\\\"efecto\\\\\",\\\\\"resultado_final\\\\\":\\\\\"no se puede determinar\\\\\"},{\\\\\"quimico\\\\\":0.4083586335,\\\\\"efecto\\\\\":0.2447263747,\\\\\"natural\\\\\":0.3469150066,\\\\\"Ingredient\\\\\":\\\\\"Betaine\\\\\",\\\\\"resultado_parcial\\\\\":\\\\\"quimico\\\\\",\\\\\"resultado_final\\\\\":\\\\\"no se puede determinar\\\\\"},{\\\\\"quimico\\\\\":0.4288482368,\\\\\"efecto\\\\\":0.1197161973,\\\\\"natural\\\\\":0.4514355361,\\\\\"Ingredient\\\\\":\\\\\"Biosaccharide Gum-1\\\\\",\\\\\"resultado_parcial\\\\\":\\\\\"natural\\\\\",\\\\\"resultado_final\\\\\":\\\\\"no se puede determinar\\\\\"},{\\\\\"quimico\\\\\":0.0847661048,\\\\\"efecto\\\\\":0.6893866062,\\\\\"natural\\\\\":0.2258473039,\\\\\"Ingredient\\\\\":\\\\\"Sodium PCA\\\\\",\\\\\"resultado_parcial\\\\\":\\\\\"efecto\\\\\",\\\\\"resultado_final\\\\\":\\\\\"natural\\\\\"},{\\\\\"quimico\\\\\":0.6805024743,\\\\\"efecto\\\\\":0.3105019927,\\\\\"natural\\\\\":0.0,\\\\\"Ingredient\\\\\":\\\\\"Propylene Glycol\\\\\",\\\\\"resultado_parcial\\\\\":\\\\\"quimico\\\\\",\\\\\"resultado_final\\\\\":\\\\\"quimico\\\\\"},{\\\\\"quimico\\\\\":0.1027970463,\\\\\"efecto\\\\\":0.4437652826,\\\\\"natural\\\\\":0.4534377158,\\\\\"Ingredient\\\\\":\\\\\"Sorbitol\\\\\",\\\\\"resultado_parcial\\\\\":\\\\\"natural\\\\\",\\\\\"resultado_final\\\\\":\\\\\"natural\\\\\"},{\\\\\"quimico\\\\\":0.367556572,\\\\\"efecto\\\\\":0.4546719193,\\\\\"natural\\\\\":0.1777715534,\\\\\"Ingredient\\\\\":\\\\\"Hydrogenated Lecithin\\\\\",\\\\\"resultado_parcial\\\\\":\\\\\"efecto\\\\\",\\\\\"resultado_final\\\\\":\\\\\"quimico\\\\\"},{\\\\\"quimico\\\\\":0.0938954353,\\\\\"efecto\\\\\":0.8058327436,\\\\\"natural\\\\\":0.1002718359,\\\\\"Ingredient\\\\\":\\\\\"Ethyl Hexanediol\\\\\",\\\\\"resultado_parcial\\\\\":\\\\\"efecto\\\\\",\\\\\"resultado_final\\\\\":\\\\\"no se puede determinar\\\\\"},{\\\\\"quimico\\\\\":0.6383963823,\\\\\"efecto\\\\\":0.192750752,\\\\\"natural\\\\\":0.1688529253,\\\\\"Ingredient\\\\\":\\\\\"Proline\\\\\",\\\\\"resultado_parcial\\\\\":\\\\\"quimico\\\\\",\\\\\"resultado_final\\\\\":\\\\\"quimico\\\\\"},{\\\\\"quimico\\\\\":0.4980194867,\\\\\"efecto\\\\\":0.4701459408,\\\\\"natural\\\\\":0.0318345688,\\\\\"Ingredient\\\\\":\\\\\"Zinc Gluconate\\\\\",\\\\\"resultado_parcial\\\\\":\\\\\"quimico\\\\\",\\\\\"resultado_final\\\\\":\\\\\"quimico\\\\\"},{\\\\\"quimico\\\\\":0.1614462435,\\\\\"efecto\\\\\":0.5052596927,\\\\\"natural\\\\\":0.3332940042,\\\\\"Ingredient\\\\\":\\\\\"BHT\\\\\",\\\\\"resultado_parcial\\\\\":\\\\\"efecto\\\\\",\\\\\"resultado_final\\\\\":\\\\\"natural\\\\\"},{\\\\\"quimico\\\\\":0.711484015,\\\\\"efecto\\\\\":0.2261306047,\\\\\"natural\\\\\":0.0623853952,\\\\\"Ingredient\\\\\":\\\\\"Copper Gluconate\\\\\",\\\\\"resultado_parcial\\\\\":\\\\\"quimico\\\\\",\\\\\"resultado_final\\\\\":\\\\\"quimico\\\\\"},{\\\\\"quimico\\\\\":0.1301385313,\\\\\"efecto\\\\\":0.7351664901,\\\\\"natural\\\\\":0.1346949935,\\\\\"Ingredient\\\\\":\\\\\"Disodium EDTA\\\\\",\\\\\"resultado_parcial\\\\\":\\\\\"efecto\\\\\",\\\\\"resultado_final\\\\\":\\\\\"no se puede determinar\\\\\"},{\\\\\"quimico\\\\\":0.2814533412,\\\\\"efecto\\\\\":0.4377477765,\\\\\"natural\\\\\":0.2807988822,\\\\\"Ingredient\\\\\":\\\\\"Methylparaben\\\\\",\\\\\"resultado_parcial\\\\\":\\\\\"efecto\\\\\",\\\\\"resultado_final\\\\\":\\\\\"no se puede determinar\\\\\"},{\\\\\"quimico\\\\\":0.1681707948,\\\\\"efecto\\\\\":0.4215362072,\\\\\"natural\\\\\":0.4102930129,\\\\\"Ingredient\\\\\":\\\\\"Propylparaben\\\\\",\\\\\"resultado_parcial\\\\\":\\\\\"efecto\\\\\",\\\\\"resultado_final\\\\\":\\\\\"natural\\\\\"},{\\\\\"quimico\\\\\":0.1145745143,\\\\\"efecto\\\\\":0.6764691472,\\\\\"natural\\\\\":0.208956331,\\\\\"Ingredient\\\\\":\\\\\"Ci 42090\\\\\",\\\\\"resultado_parcial\\\\\":\\\\\"efecto\\\\\",\\\\\"resultado_final\\\\\":\\\\\"no se puede determinar\\\\\"}]\"}'"
      ]
     },
     "execution_count": 26,
     "metadata": {},
     "output_type": "execute_result"
    }
   ],
   "source": [
    "response.content"
   ]
  },
  {
   "cell_type": "code",
   "execution_count": 10,
   "metadata": {},
   "outputs": [
    {
     "name": "stdout",
     "output_type": "stream",
     "text": [
      "/Users/diegotorpoco/code/diegotorpoco/dcode-beauty/notebooks\n"
     ]
    }
   ],
   "source": [
    "'/Users/diegotorpoco/code/diegotorpoco/dcode-beauty/other files/Photo/1.jpeg'"
   ]
  },
  {
   "cell_type": "code",
   "execution_count": 13,
   "metadata": {},
   "outputs": [
    {
     "name": "stdout",
     "output_type": "stream",
     "text": [
      "1.jpeg  11.jpeg 14.jpeg 16.jpeg 2.jpeg  4.jpeg  6.jpeg  8.jpeg\n",
      "10.jpeg 13.jpeg 15.jpeg 17.jpeg 3.jpeg  5.jpeg  7.jpeg  9.jpeg\n"
     ]
    }
   ],
   "source": [
    "!ls ../other\\ files/Photo/"
   ]
  }
 ],
 "metadata": {
  "kernelspec": {
   "display_name": "Python 3.8.12 64-bit ('shims')",
   "language": "python",
   "name": "python3"
  },
  "language_info": {
   "codemirror_mode": {
    "name": "ipython",
    "version": 3
   },
   "file_extension": ".py",
   "mimetype": "text/x-python",
   "name": "python",
   "nbconvert_exporter": "python",
   "pygments_lexer": "ipython3",
   "version": "3.8.12"
  },
  "orig_nbformat": 4,
  "vscode": {
   "interpreter": {
    "hash": "568a336049c44657398c2775244117b6ee108a1a92168c78317712211184037a"
   }
  }
 },
 "nbformat": 4,
 "nbformat_minor": 2
}
