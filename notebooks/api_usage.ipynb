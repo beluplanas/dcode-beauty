{
 "cells": [
  {
   "cell_type": "code",
   "execution_count": 58,
   "metadata": {},
   "outputs": [],
   "source": [
    "import requests \n",
    "from PIL import Image\n",
    "from dcodebeauty.utils import predict_product\n",
    "from dcodebeauty.ocr import detect_photo, detect_text\n",
    "from google.cloud import vision\n",
    "client = vision.ImageAnnotatorClient()\n",
    "import io "
   ]
  },
  {
   "cell_type": "code",
   "execution_count": 59,
   "metadata": {},
   "outputs": [
    {
     "name": "stdout",
     "output_type": "stream",
     "text": [
      "Texts:\n"
     ]
    }
   ],
   "source": [
    "# files = {'img':Image.open('../other files/Photo/1.jpeg')}\n",
    "\n",
    "with io.open('../other_files/Photo/1.jpeg', 'rb') as image_file:\n",
    "    content = image_file.read()\n",
    "image = vision.Image(content=content) #this goes into the file \n",
    "response = client.text_detection(image=image)\n",
    "str((response.text_annotations[0]).description).split(',')\n",
    "\n",
    "\n"
   ]
  },
  {
   "cell_type": "code",
   "execution_count": 32,
   "metadata": {},
   "outputs": [
    {
     "data": {
      "text/plain": [
       "200"
      ]
     },
     "execution_count": 32,
     "metadata": {},
     "output_type": "execute_result"
    }
   ],
   "source": [
    "url = \"http://0.0.0.0:8888/predict\"\n",
    "params = {'text':'moisture bond refreshing hydra-gel oil free'}\n",
    "files = {'img':'../other_files/Photo/1.jpeg'}\n",
    "\n",
    "response = requests.post(\n",
    "    url,\n",
    "    params= params\n",
    ")\n",
    "response.status_code"
   ]
  },
  {
   "cell_type": "code",
   "execution_count": 34,
   "metadata": {},
   "outputs": [
    {
     "data": {
      "text/plain": [
       "500"
      ]
     },
     "execution_count": 34,
     "metadata": {},
     "output_type": "execute_result"
    }
   ],
   "source": [
    "url = \"http://0.0.0.0:8888/predict_photo\"\n",
    "\n",
    "response = requests.post(\n",
    "    url,\n",
    "    files=files\n",
    ")\n",
    "response.status_code"
   ]
  }
 ],
 "metadata": {
  "kernelspec": {
   "display_name": "Python 3.8.12 64-bit ('shims')",
   "language": "python",
   "name": "python3"
  },
  "language_info": {
   "codemirror_mode": {
    "name": "ipython",
    "version": 3
   },
   "file_extension": ".py",
   "mimetype": "text/x-python",
   "name": "python",
   "nbconvert_exporter": "python",
   "pygments_lexer": "ipython3",
   "version": "3.8.12"
  },
  "orig_nbformat": 4,
  "vscode": {
   "interpreter": {
    "hash": "568a336049c44657398c2775244117b6ee108a1a92168c78317712211184037a"
   }
  }
 },
 "nbformat": 4,
 "nbformat_minor": 2
}
