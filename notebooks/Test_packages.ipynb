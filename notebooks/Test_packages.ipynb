{
 "cells": [
  {
   "cell_type": "code",
   "execution_count": 110,
   "id": "6913e3d5",
   "metadata": {},
   "outputs": [
    {
     "name": "stdout",
     "output_type": "stream",
     "text": [
      "The autoreload extension is already loaded. To reload it, use:\n",
      "  %reload_ext autoreload\n"
     ]
    }
   ],
   "source": [
    "%load_ext autoreload\n",
    "%autoreload 2\n",
    "import numpy as np\n",
    "from dcodebeauty.datos import read_file"
   ]
  },
  {
   "cell_type": "code",
   "execution_count": 111,
   "id": "1709a252",
   "metadata": {},
   "outputs": [],
   "source": [
    "products, data, chori_data = read_file()"
   ]
  },
  {
   "cell_type": "code",
   "execution_count": 112,
   "id": "d41af678",
   "metadata": {},
   "outputs": [
    {
     "data": {
      "text/html": [
       "<div>\n",
       "<style scoped>\n",
       "    .dataframe tbody tr th:only-of-type {\n",
       "        vertical-align: middle;\n",
       "    }\n",
       "\n",
       "    .dataframe tbody tr th {\n",
       "        vertical-align: top;\n",
       "    }\n",
       "\n",
       "    .dataframe thead th {\n",
       "        text-align: right;\n",
       "    }\n",
       "</style>\n",
       "<table border=\"1\" class=\"dataframe\">\n",
       "  <thead>\n",
       "    <tr style=\"text-align: right;\">\n",
       "      <th></th>\n",
       "      <th>Unnamed: 0</th>\n",
       "      <th>name</th>\n",
       "      <th>ingredient_list</th>\n",
       "    </tr>\n",
       "  </thead>\n",
       "  <tbody>\n",
       "    <tr>\n",
       "      <th>0</th>\n",
       "      <td>0</td>\n",
       "      <td>age spot brightening pen</td>\n",
       "      <td>['water', 'butylene glycol', 'alcohol', 'dipro...</td>\n",
       "    </tr>\n",
       "    <tr>\n",
       "      <th>1</th>\n",
       "      <td>1</td>\n",
       "      <td>all day balancing care serum</td>\n",
       "      <td>['camellia sinensis leaf water', 'phyllostachi...</td>\n",
       "    </tr>\n",
       "    <tr>\n",
       "      <th>2</th>\n",
       "      <td>2</td>\n",
       "      <td>bio-enzyme refining complex</td>\n",
       "      <td>['panax ginseng root extract', 'cyclopentasilo...</td>\n",
       "    </tr>\n",
       "    <tr>\n",
       "      <th>3</th>\n",
       "      <td>3</td>\n",
       "      <td>color control cushion compact spf50</td>\n",
       "      <td>['phyllostachis bambusoides juice', 'cyclopent...</td>\n",
       "    </tr>\n",
       "    <tr>\n",
       "      <th>4</th>\n",
       "      <td>4</td>\n",
       "      <td>future response age defense cr̬me</td>\n",
       "      <td>['camellia sinensis leaf water', 'dicaprylyl c...</td>\n",
       "    </tr>\n",
       "  </tbody>\n",
       "</table>\n",
       "</div>"
      ],
      "text/plain": [
       "   Unnamed: 0                                 name  \\\n",
       "0           0             age spot brightening pen   \n",
       "1           1         all day balancing care serum   \n",
       "2           2          bio-enzyme refining complex   \n",
       "3           3  color control cushion compact spf50   \n",
       "4           4    future response age defense cr̬me   \n",
       "\n",
       "                                     ingredient_list  \n",
       "0  ['water', 'butylene glycol', 'alcohol', 'dipro...  \n",
       "1  ['camellia sinensis leaf water', 'phyllostachi...  \n",
       "2  ['panax ginseng root extract', 'cyclopentasilo...  \n",
       "3  ['phyllostachis bambusoides juice', 'cyclopent...  \n",
       "4  ['camellia sinensis leaf water', 'dicaprylyl c...  "
      ]
     },
     "execution_count": 112,
     "metadata": {},
     "output_type": "execute_result"
    }
   ],
   "source": [
    "products.head()"
   ]
  },
  {
   "cell_type": "code",
   "execution_count": 113,
   "id": "ebb33145",
   "metadata": {},
   "outputs": [],
   "source": [
    "ingredient_list = list(products[\"ingredient_list\"])"
   ]
  },
  {
   "cell_type": "code",
   "execution_count": 114,
   "id": "4ab1f130",
   "metadata": {
    "collapsed": true
   },
   "outputs": [
    {
     "data": {
      "text/plain": [
       "list"
      ]
     },
     "execution_count": 114,
     "metadata": {},
     "output_type": "execute_result"
    }
   ],
   "source": [
    "type(ingredient_list)"
   ]
  },
  {
   "cell_type": "code",
   "execution_count": 119,
   "id": "6ed192d0",
   "metadata": {
    "collapsed": true
   },
   "outputs": [
    {
     "data": {
      "text/plain": [
       "\"['water', 'butylene glycol', 'alcohol', 'dipropylene glycol', 'peg-75', 'glycereth-26', 'ascorbyl glucoside', 'camellia sinensis leaf extract', 'panax ginseng root extract', 'glycyrrhiza glabra (licorice) root extract', 'magnolia obovata bark extract', 'equisetum arvense extract', 'calcium pantetheine sulfonate', 'betaine', 'biosaccharide gum-1', 'carbomer', 'peg-60 hydrogenated castor oil', 'sodium citrate', 'cellulose gum', 'citric acid', 'triethanolamine', 'potassium hydroxide', 'disodium edta', 'methylparaben', 'propylparaben', 'fragrance']\""
      ]
     },
     "execution_count": 119,
     "metadata": {},
     "output_type": "execute_result"
    }
   ],
   "source": [
    "ingredient_list[0]"
   ]
  },
  {
   "cell_type": "code",
   "execution_count": 68,
   "id": "0f27bb5f",
   "metadata": {},
   "outputs": [
    {
     "data": {
      "text/html": [
       "<div>\n",
       "<style scoped>\n",
       "    .dataframe tbody tr th:only-of-type {\n",
       "        vertical-align: middle;\n",
       "    }\n",
       "\n",
       "    .dataframe tbody tr th {\n",
       "        vertical-align: top;\n",
       "    }\n",
       "\n",
       "    .dataframe thead th {\n",
       "        text-align: right;\n",
       "    }\n",
       "</style>\n",
       "<table border=\"1\" class=\"dataframe\">\n",
       "  <thead>\n",
       "    <tr style=\"text-align: right;\">\n",
       "      <th></th>\n",
       "      <th>Unnamed: 0</th>\n",
       "      <th>names</th>\n",
       "      <th>links</th>\n",
       "      <th>description</th>\n",
       "    </tr>\n",
       "  </thead>\n",
       "  <tbody>\n",
       "    <tr>\n",
       "      <th>927</th>\n",
       "      <td>927</td>\n",
       "      <td>Vitis Vinifera Extract</td>\n",
       "      <td>https://incidecoder.com//ingredients/vitis-vin...</td>\n",
       "      <td>Its not a standard INCI name but rather a slop...</td>\n",
       "    </tr>\n",
       "    <tr>\n",
       "      <th>928</th>\n",
       "      <td>928</td>\n",
       "      <td>Vitis Vinifera Fruit Extract</td>\n",
       "      <td>https://incidecoder.com//ingredients/vitis-vin...</td>\n",
       "      <td>When it comes to grape and skincare the seed e...</td>\n",
       "    </tr>\n",
       "    <tr>\n",
       "      <th>929</th>\n",
       "      <td>929</td>\n",
       "      <td>Vitis Vinifera Juice Extract</td>\n",
       "      <td>https://incidecoder.com//ingredients/vitis-vin...</td>\n",
       "      <td>Its a liquid extract coming from grape Accordi...</td>\n",
       "    </tr>\n",
       "    <tr>\n",
       "      <th>930</th>\n",
       "      <td>930</td>\n",
       "      <td>Vitis Vinifera Seed Extract</td>\n",
       "      <td>https://incidecoder.com//ingredients/vitis-vin...</td>\n",
       "      <td>We wholeheartedly support the rise of seedless...</td>\n",
       "    </tr>\n",
       "    <tr>\n",
       "      <th>931</th>\n",
       "      <td>931</td>\n",
       "      <td>Vitis Vinifera Seed Oil</td>\n",
       "      <td>https://incidecoder.com//ingredients/vitis-vin...</td>\n",
       "      <td>A goodie plant oil coming from the polyphenolr...</td>\n",
       "    </tr>\n",
       "    <tr>\n",
       "      <th>932</th>\n",
       "      <td>932</td>\n",
       "      <td>Water</td>\n",
       "      <td>https://incidecoder.com//ingredients/water</td>\n",
       "      <td>Good old water aka H2O The most common skincar...</td>\n",
       "    </tr>\n",
       "    <tr>\n",
       "      <th>933</th>\n",
       "      <td>933</td>\n",
       "      <td>Whey Protein</td>\n",
       "      <td>https://incidecoder.com//ingredients/whey-protein</td>\n",
       "      <td>Protein fragments aka peptides and growth fact...</td>\n",
       "    </tr>\n",
       "    <tr>\n",
       "      <th>934</th>\n",
       "      <td>934</td>\n",
       "      <td>Xanthan Gum</td>\n",
       "      <td>https://incidecoder.com//ingredients/xanthan-gum</td>\n",
       "      <td>Its one of the most commonly used thickeners a...</td>\n",
       "    </tr>\n",
       "    <tr>\n",
       "      <th>935</th>\n",
       "      <td>935</td>\n",
       "      <td>Xanthophyll</td>\n",
       "      <td>https://incidecoder.com//ingredients/xanthophyll</td>\n",
       "      <td>A fatsoluble carotenoid pigment that can be fo...</td>\n",
       "    </tr>\n",
       "    <tr>\n",
       "      <th>936</th>\n",
       "      <td>936</td>\n",
       "      <td>Xylitol</td>\n",
       "      <td>https://incidecoder.com//ingredients/xylitol</td>\n",
       "      <td>A type of sugar thats part of a moisturizing t...</td>\n",
       "    </tr>\n",
       "    <tr>\n",
       "      <th>937</th>\n",
       "      <td>937</td>\n",
       "      <td>Xylitylglucoside</td>\n",
       "      <td>https://incidecoder.com//ingredients/xylitylgl...</td>\n",
       "      <td>The main part of a moisturizing complex called...</td>\n",
       "    </tr>\n",
       "    <tr>\n",
       "      <th>938</th>\n",
       "      <td>938</td>\n",
       "      <td>Yeast Extract</td>\n",
       "      <td>https://incidecoder.com//ingredients/yeast-ext...</td>\n",
       "      <td>You probably know yeast from the kitchen where...</td>\n",
       "    </tr>\n",
       "    <tr>\n",
       "      <th>939</th>\n",
       "      <td>939</td>\n",
       "      <td>Zanthoxylum Piperitum Fruit Extract</td>\n",
       "      <td>https://incidecoder.com//ingredients/zanthoxyl...</td>\n",
       "      <td>If you are into Japanese cuisine you might kno...</td>\n",
       "    </tr>\n",
       "    <tr>\n",
       "      <th>940</th>\n",
       "      <td>940</td>\n",
       "      <td>Zea Mays Starch</td>\n",
       "      <td>https://incidecoder.com//ingredients/zea-mays-...</td>\n",
       "      <td>A cornderived white to yellowish floury powder...</td>\n",
       "    </tr>\n",
       "    <tr>\n",
       "      <th>941</th>\n",
       "      <td>941</td>\n",
       "      <td>Zinc Gluconate</td>\n",
       "      <td>https://incidecoder.com//ingredients/zinc-gluc...</td>\n",
       "      <td>If you are fighting acne and have looked into ...</td>\n",
       "    </tr>\n",
       "    <tr>\n",
       "      <th>942</th>\n",
       "      <td>942</td>\n",
       "      <td>Zinc Oxide</td>\n",
       "      <td>https://incidecoder.com//ingredients/zinc-oxide</td>\n",
       "      <td>When it comes to sunscreen agents Zinc Oxide i...</td>\n",
       "    </tr>\n",
       "    <tr>\n",
       "      <th>943</th>\n",
       "      <td>943</td>\n",
       "      <td>Zinc Palmitoyl Nonapeptide-14</td>\n",
       "      <td>https://incidecoder.com//ingredients/zinc-palm...</td>\n",
       "      <td>Its part of a peptide complex called Renaissan...</td>\n",
       "    </tr>\n",
       "    <tr>\n",
       "      <th>944</th>\n",
       "      <td>944</td>\n",
       "      <td>Zinc Pca</td>\n",
       "      <td>https://incidecoder.com//ingredients/zinc-pca</td>\n",
       "      <td>If you have oily acneprone skin Zinc PCA is on...</td>\n",
       "    </tr>\n",
       "    <tr>\n",
       "      <th>945</th>\n",
       "      <td>945</td>\n",
       "      <td>Zinc Stearate</td>\n",
       "      <td>https://incidecoder.com//ingredients/zinc-stea...</td>\n",
       "      <td>Zinc Stearate is probably the most commonly us...</td>\n",
       "    </tr>\n",
       "    <tr>\n",
       "      <th>946</th>\n",
       "      <td>946</td>\n",
       "      <td>Zingiber Officinale Root Extract</td>\n",
       "      <td>https://incidecoder.com//ingredients/zingiber-...</td>\n",
       "      <td>The extract coming from ginger the lovely spic...</td>\n",
       "    </tr>\n",
       "  </tbody>\n",
       "</table>\n",
       "</div>"
      ],
      "text/plain": [
       "     Unnamed: 0                                names  \\\n",
       "927         927               Vitis Vinifera Extract   \n",
       "928         928         Vitis Vinifera Fruit Extract   \n",
       "929         929         Vitis Vinifera Juice Extract   \n",
       "930         930          Vitis Vinifera Seed Extract   \n",
       "931         931              Vitis Vinifera Seed Oil   \n",
       "932         932                                Water   \n",
       "933         933                         Whey Protein   \n",
       "934         934                          Xanthan Gum   \n",
       "935         935                          Xanthophyll   \n",
       "936         936                              Xylitol   \n",
       "937         937                     Xylitylglucoside   \n",
       "938         938                        Yeast Extract   \n",
       "939         939  Zanthoxylum Piperitum Fruit Extract   \n",
       "940         940                      Zea Mays Starch   \n",
       "941         941                       Zinc Gluconate   \n",
       "942         942                           Zinc Oxide   \n",
       "943         943        Zinc Palmitoyl Nonapeptide-14   \n",
       "944         944                             Zinc Pca   \n",
       "945         945                        Zinc Stearate   \n",
       "946         946     Zingiber Officinale Root Extract   \n",
       "\n",
       "                                                 links  \\\n",
       "927  https://incidecoder.com//ingredients/vitis-vin...   \n",
       "928  https://incidecoder.com//ingredients/vitis-vin...   \n",
       "929  https://incidecoder.com//ingredients/vitis-vin...   \n",
       "930  https://incidecoder.com//ingredients/vitis-vin...   \n",
       "931  https://incidecoder.com//ingredients/vitis-vin...   \n",
       "932         https://incidecoder.com//ingredients/water   \n",
       "933  https://incidecoder.com//ingredients/whey-protein   \n",
       "934   https://incidecoder.com//ingredients/xanthan-gum   \n",
       "935   https://incidecoder.com//ingredients/xanthophyll   \n",
       "936       https://incidecoder.com//ingredients/xylitol   \n",
       "937  https://incidecoder.com//ingredients/xylitylgl...   \n",
       "938  https://incidecoder.com//ingredients/yeast-ext...   \n",
       "939  https://incidecoder.com//ingredients/zanthoxyl...   \n",
       "940  https://incidecoder.com//ingredients/zea-mays-...   \n",
       "941  https://incidecoder.com//ingredients/zinc-gluc...   \n",
       "942    https://incidecoder.com//ingredients/zinc-oxide   \n",
       "943  https://incidecoder.com//ingredients/zinc-palm...   \n",
       "944      https://incidecoder.com//ingredients/zinc-pca   \n",
       "945  https://incidecoder.com//ingredients/zinc-stea...   \n",
       "946  https://incidecoder.com//ingredients/zingiber-...   \n",
       "\n",
       "                                           description  \n",
       "927  Its not a standard INCI name but rather a slop...  \n",
       "928  When it comes to grape and skincare the seed e...  \n",
       "929  Its a liquid extract coming from grape Accordi...  \n",
       "930  We wholeheartedly support the rise of seedless...  \n",
       "931  A goodie plant oil coming from the polyphenolr...  \n",
       "932  Good old water aka H2O The most common skincar...  \n",
       "933  Protein fragments aka peptides and growth fact...  \n",
       "934  Its one of the most commonly used thickeners a...  \n",
       "935  A fatsoluble carotenoid pigment that can be fo...  \n",
       "936  A type of sugar thats part of a moisturizing t...  \n",
       "937  The main part of a moisturizing complex called...  \n",
       "938  You probably know yeast from the kitchen where...  \n",
       "939  If you are into Japanese cuisine you might kno...  \n",
       "940  A cornderived white to yellowish floury powder...  \n",
       "941  If you are fighting acne and have looked into ...  \n",
       "942  When it comes to sunscreen agents Zinc Oxide i...  \n",
       "943  Its part of a peptide complex called Renaissan...  \n",
       "944  If you have oily acneprone skin Zinc PCA is on...  \n",
       "945  Zinc Stearate is probably the most commonly us...  \n",
       "946  The extract coming from ginger the lovely spic...  "
      ]
     },
     "execution_count": 68,
     "metadata": {},
     "output_type": "execute_result"
    }
   ],
   "source": [
    "data.tail(20)"
   ]
  },
  {
   "cell_type": "code",
   "execution_count": 65,
   "id": "53cbe6c3",
   "metadata": {
    "collapsed": true
   },
   "outputs": [
    {
     "data": {
      "text/plain": [
       "0                    Aluminum Starch Octenylsuccinate\n",
       "1                    Amaranthus Caudatus Seed Extract\n",
       "2                                Aminomethyl Propanol\n",
       "3                      Aminopropyl Ascorbyl Phosphate\n",
       "4      Ammonium Acryloyldimethyltaurate/​VP Copolymer\n",
       "                            ...                      \n",
       "942                                        Zinc Oxide\n",
       "943                     Zinc Palmitoyl Nonapeptide-14\n",
       "944                                          Zinc Pca\n",
       "945                                     Zinc Stearate\n",
       "946                  Zingiber Officinale Root Extract\n",
       "Name: names, Length: 947, dtype: object"
      ]
     },
     "execution_count": 65,
     "metadata": {},
     "output_type": "execute_result"
    }
   ],
   "source": [
    "data[\"names\"]"
   ]
  },
  {
   "cell_type": "code",
   "execution_count": 5,
   "id": "c7ef6154",
   "metadata": {
    "collapsed": true
   },
   "outputs": [
    {
     "data": {
      "text/html": [
       "<div>\n",
       "<style scoped>\n",
       "    .dataframe tbody tr th:only-of-type {\n",
       "        vertical-align: middle;\n",
       "    }\n",
       "\n",
       "    .dataframe tbody tr th {\n",
       "        vertical-align: top;\n",
       "    }\n",
       "\n",
       "    .dataframe thead th {\n",
       "        text-align: right;\n",
       "    }\n",
       "</style>\n",
       "<table border=\"1\" class=\"dataframe\">\n",
       "  <thead>\n",
       "    <tr style=\"text-align: right;\">\n",
       "      <th></th>\n",
       "      <th>name</th>\n",
       "      <th>category</th>\n",
       "      <th>rating</th>\n",
       "      <th>rating_num</th>\n",
       "    </tr>\n",
       "  </thead>\n",
       "  <tbody>\n",
       "    <tr>\n",
       "      <th>0</th>\n",
       "      <td>1, 2-Hexanediol</td>\n",
       "      <td>['Preservatives']</td>\n",
       "      <td>Good</td>\n",
       "      <td>2</td>\n",
       "    </tr>\n",
       "    <tr>\n",
       "      <th>1</th>\n",
       "      <td>10-Hydroxydecanoic Acid</td>\n",
       "      <td>['Emollients']</td>\n",
       "      <td>Good</td>\n",
       "      <td>2</td>\n",
       "    </tr>\n",
       "    <tr>\n",
       "      <th>2</th>\n",
       "      <td>4-T-butylcyclohexanol</td>\n",
       "      <td>['Emollients', 'Skin-Soothing']</td>\n",
       "      <td>Good</td>\n",
       "      <td>2</td>\n",
       "    </tr>\n",
       "    <tr>\n",
       "      <th>3</th>\n",
       "      <td>Acacia farnesiana extract</td>\n",
       "      <td>['Plant Extracts', 'Fragrance: Synthetic and F...</td>\n",
       "      <td>Poor</td>\n",
       "      <td>0</td>\n",
       "    </tr>\n",
       "    <tr>\n",
       "      <th>4</th>\n",
       "      <td>acacia senegal gum</td>\n",
       "      <td>['Texture Enhancer', 'Plant Extracts', 'Skin-S...</td>\n",
       "      <td>Good</td>\n",
       "      <td>2</td>\n",
       "    </tr>\n",
       "    <tr>\n",
       "      <th>...</th>\n",
       "      <td>...</td>\n",
       "      <td>...</td>\n",
       "      <td>...</td>\n",
       "      <td>...</td>\n",
       "    </tr>\n",
       "    <tr>\n",
       "      <th>1745</th>\n",
       "      <td>zinc sulfate</td>\n",
       "      <td>['Preservatives', 'Sensitizing']</td>\n",
       "      <td>Poor</td>\n",
       "      <td>0</td>\n",
       "    </tr>\n",
       "    <tr>\n",
       "      <th>1746</th>\n",
       "      <td>Zingiberaceae</td>\n",
       "      <td>['Skin-Soothing', 'Sensitizing', 'Plant Extrac...</td>\n",
       "      <td>Poor</td>\n",
       "      <td>0</td>\n",
       "    </tr>\n",
       "    <tr>\n",
       "      <th>1747</th>\n",
       "      <td>Zingiber officinale roscoe</td>\n",
       "      <td>['Skin-Soothing', 'Plant Extracts', 'Sensitizi...</td>\n",
       "      <td>Poor</td>\n",
       "      <td>0</td>\n",
       "    </tr>\n",
       "    <tr>\n",
       "      <th>1748</th>\n",
       "      <td>Zingiber zerumbet</td>\n",
       "      <td>['Skin-Soothing', 'Plant Extracts', 'Sensitizi...</td>\n",
       "      <td>Poor</td>\n",
       "      <td>0</td>\n",
       "    </tr>\n",
       "    <tr>\n",
       "      <th>1749</th>\n",
       "      <td>Zizyphus jujuba fruit extract</td>\n",
       "      <td>['Skin-Soothing', 'Plant Extracts']</td>\n",
       "      <td>Good</td>\n",
       "      <td>2</td>\n",
       "    </tr>\n",
       "  </tbody>\n",
       "</table>\n",
       "<p>1750 rows × 4 columns</p>\n",
       "</div>"
      ],
      "text/plain": [
       "                               name  \\\n",
       "0                   1, 2-Hexanediol   \n",
       "1           10-Hydroxydecanoic Acid   \n",
       "2             4-T-butylcyclohexanol   \n",
       "3         Acacia farnesiana extract   \n",
       "4                acacia senegal gum   \n",
       "...                             ...   \n",
       "1745                   zinc sulfate   \n",
       "1746                  Zingiberaceae   \n",
       "1747     Zingiber officinale roscoe   \n",
       "1748              Zingiber zerumbet   \n",
       "1749  Zizyphus jujuba fruit extract   \n",
       "\n",
       "                                               category rating  rating_num  \n",
       "0                                     ['Preservatives']   Good           2  \n",
       "1                                        ['Emollients']   Good           2  \n",
       "2                       ['Emollients', 'Skin-Soothing']   Good           2  \n",
       "3     ['Plant Extracts', 'Fragrance: Synthetic and F...   Poor           0  \n",
       "4     ['Texture Enhancer', 'Plant Extracts', 'Skin-S...   Good           2  \n",
       "...                                                 ...    ...         ...  \n",
       "1745                   ['Preservatives', 'Sensitizing']   Poor           0  \n",
       "1746  ['Skin-Soothing', 'Sensitizing', 'Plant Extrac...   Poor           0  \n",
       "1747  ['Skin-Soothing', 'Plant Extracts', 'Sensitizi...   Poor           0  \n",
       "1748  ['Skin-Soothing', 'Plant Extracts', 'Sensitizi...   Poor           0  \n",
       "1749                ['Skin-Soothing', 'Plant Extracts']   Good           2  \n",
       "\n",
       "[1750 rows x 4 columns]"
      ]
     },
     "execution_count": 5,
     "metadata": {},
     "output_type": "execute_result"
    }
   ],
   "source": [
    "chori_data"
   ]
  },
  {
   "cell_type": "code",
   "execution_count": 180,
   "id": "266c389a",
   "metadata": {},
   "outputs": [],
   "source": [
    "from dcodebeauty.ocr import *"
   ]
  },
  {
   "cell_type": "code",
   "execution_count": 186,
   "id": "6f1114f7",
   "metadata": {},
   "outputs": [],
   "source": [
    "#Prueba encuentra nombre\n",
    "product_name = \"age spot brightening pen\""
   ]
  },
  {
   "cell_type": "code",
   "execution_count": 188,
   "id": "5b90fda8",
   "metadata": {
    "collapsed": true
   },
   "outputs": [
    {
     "data": {
      "text/plain": [
       "['[water',\n",
       " ' butylene glycol',\n",
       " ' alcohol',\n",
       " ' dipropylene glycol',\n",
       " ' peg-75',\n",
       " ' glycereth-26',\n",
       " ' ascorbyl glucoside',\n",
       " ' camellia sinensis leaf extract',\n",
       " ' panax ginseng root extract',\n",
       " ' glycyrrhiza glabra (licorice) root extract',\n",
       " ' magnolia obovata bark extract',\n",
       " ' equisetum arvense extract',\n",
       " ' calcium pantetheine sulfonate',\n",
       " ' betaine',\n",
       " ' biosaccharide gum-1',\n",
       " ' carbomer',\n",
       " ' peg-60 hydrogenated castor oil',\n",
       " ' sodium citrate',\n",
       " ' cellulose gum',\n",
       " ' citric acid',\n",
       " ' triethanolamine',\n",
       " ' potassium hydroxide',\n",
       " ' disodium edta',\n",
       " ' methylparaben',\n",
       " ' propylparaben',\n",
       " ' fragrance]']"
      ]
     },
     "execution_count": 188,
     "metadata": {},
     "output_type": "execute_result"
    }
   ],
   "source": [
    "find_product_description(product_name)"
   ]
  },
  {
   "cell_type": "code",
   "execution_count": 167,
   "id": "7d7c7a63",
   "metadata": {},
   "outputs": [
    {
     "data": {
      "text/plain": [
       "list"
      ]
     },
     "execution_count": 167,
     "metadata": {},
     "output_type": "execute_result"
    }
   ],
   "source": [
    "type(find_product_description(product_name))"
   ]
  },
  {
   "cell_type": "code",
   "execution_count": 189,
   "id": "475b9638",
   "metadata": {},
   "outputs": [],
   "source": [
    "#Prueba encuentra nombre 2\n",
    "product_name2 = \"future response age defense cr̬me\""
   ]
  },
  {
   "cell_type": "code",
   "execution_count": 211,
   "id": "d5a8d2db",
   "metadata": {},
   "outputs": [
    {
     "name": "stdout",
     "output_type": "stream",
     "text": [
      "4    ['camellia sinensis leaf water', 'dicaprylyl c...\n",
      "Name: ingredient_list, dtype: object\n"
     ]
    }
   ],
   "source": [
    "print(products[products[\"name\"]==\"future response age defense cr̬me\"][\"ingredient_list\"])"
   ]
  },
  {
   "cell_type": "code",
   "execution_count": null,
   "id": "f7759e5a",
   "metadata": {},
   "outputs": [],
   "source": [
    "def find_product_description(product_name):\n",
    "    product_description_list = []\n",
    "    for i in range(len(products[\"name\"])):\n",
    "        if product_name.lower() == (products[\"name\"][i].lower()):\n",
    "            product_description_list.append(products[\"ingredient_list\"][i])\n",
    "    if product_description_list == []:\n",
    "        print(\"Product not found, please take a photo of the ingredients\")\n",
    "    else:\n",
    "        texts = product_description_list[0].replace(\"'\", \"\")\n",
    "        return texts.split(',')"
   ]
  },
  {
   "cell_type": "code",
   "execution_count": 216,
   "id": "d0806c93",
   "metadata": {},
   "outputs": [],
   "source": [
    "result2 = find_product_description(product_name2)"
   ]
  },
  {
   "cell_type": "code",
   "execution_count": 217,
   "id": "afe50dd0",
   "metadata": {},
   "outputs": [
    {
     "data": {
      "text/plain": [
       "['camellia sinensis leaf water',\n",
       " 'dicaprylyl carbonate',\n",
       " 'caprylic capric triglyceride',\n",
       " 'butyrospermum parkii shea butter',\n",
       " 'butylene glycol',\n",
       " 'glycereth-26',\n",
       " 'alcohol',\n",
       " 'behenyl alcohol',\n",
       " 'peg ppg polybutylene glycol-8 5 3 glycerin',\n",
       " 'mangifera indica mango seed oil',\n",
       " 'hydrogenated c6-14 olefin polymers',\n",
       " 'arachidyl alcohol',\n",
       " 'pentaerythrityl tetraisostearate',\n",
       " 'pentaerythrityl tetraethylhexanoate',\n",
       " 'hydrogenated polydecene',\n",
       " 'peg ppg-17 6 copolymer',\n",
       " 'tricholoma matsutake extract',\n",
       " 'camellia sinensis leaf extract',\n",
       " 'camellia sinensis seed oil palm oil aminopropanediol esters',\n",
       " 'sodium hyaluronate',\n",
       " 'xylitylglucoside',\n",
       " 'anhydroxylitol',\n",
       " 'xylitol',\n",
       " 'punica granatum extract',\n",
       " 'opuntia coccinellifera',\n",
       " 'iris florentina root extract',\n",
       " 'lagerstroemia indica flower extract',\n",
       " 'gossypium herbaceum cotton extract',\n",
       " 'centella asiatica extract',\n",
       " 'oryza sativa rice bran extract',\n",
       " 'zingiber officinale ginger root extract',\n",
       " 'glycine soja soybean seed extract',\n",
       " 'magnolia obovata bark extract',\n",
       " 'nelumbo nucifera flower extract',\n",
       " 'curcumin',\n",
       " 'arachidyl glucoside',\n",
       " 'polyacrylate-13',\n",
       " 'polyisobutene',\n",
       " 'niacinamide',\n",
       " 'peg-100 stearate',\n",
       " 'glyceryl stearate',\n",
       " 'carbomer',\n",
       " 'triethanolamine',\n",
       " 'polysorbate 20',\n",
       " 'glycerin',\n",
       " 'caprylyl glycol',\n",
       " '1 2-hexanediol',\n",
       " 'ethylhexylglycerin',\n",
       " 'disodium edta',\n",
       " 'phenoxyethanol',\n",
       " 'methylparaben',\n",
       " 'ethylparaben',\n",
       " 'yellow 5 ci 19140',\n",
       " 'yellow 6 ci 15985',\n",
       " 'fragrance']"
      ]
     },
     "execution_count": 217,
     "metadata": {},
     "output_type": "execute_result"
    }
   ],
   "source": [
    "result2_clean = cleaning(result2)\n",
    "result2_clean"
   ]
  },
  {
   "cell_type": "code",
   "execution_count": 12,
   "id": "74eebdd3",
   "metadata": {
    "scrolled": true
   },
   "outputs": [
    {
     "data": {
      "text/plain": [
       "str"
      ]
     },
     "execution_count": 12,
     "metadata": {},
     "output_type": "execute_result"
    }
   ],
   "source": [
    "type(result2)"
   ]
  },
  {
   "cell_type": "code",
   "execution_count": 13,
   "id": "18086f7f",
   "metadata": {},
   "outputs": [],
   "source": [
    "test2 = products[\"ingredient_list\"][4]"
   ]
  },
  {
   "cell_type": "code",
   "execution_count": 14,
   "id": "c0e78e9b",
   "metadata": {
    "collapsed": true
   },
   "outputs": [
    {
     "data": {
      "text/plain": [
       "\"['camellia sinensis leaf water', 'dicaprylyl carbonate', 'caprylic/capric triglyceride', 'butyrospermum parkii (shea butter)', 'butylene glycol', 'glycereth-26', 'alcohol', 'behenyl alcohol', 'peg/ppg/polybutylene glycol-8/5/3 glycerin', 'mangifera indica (mango) seed oil', 'hydrogenated c6-14 olefin polymers', 'arachidyl alcohol', 'pentaerythrityl tetraisostearate', 'pentaerythrityl tetraethylhexanoate', 'hydrogenated polydecene', 'peg/ppg-17/6 copolymer', 'tricholoma matsutake extract', 'camellia sinensis leaf extract', 'camellia sinensis seed oil/palm oil aminopropanediol esters', 'sodium hyaluronate', 'xylitylglucoside', 'anhydroxylitol', 'xylitol', 'punica granatum extract', 'opuntia coccinellifera', 'iris florentina root extract', 'lagerstroemia indica flower extract', 'gossypium herbaceum (cotton) extract', 'centella asiatica extract', 'oryza sativa (rice) bran extract', 'zingiber officinale (ginger) root extract', 'glycine soja (soybean) seed extract', 'magnolia obovata bark extract', 'nelumbo nucifera flower extract', 'curcumin', 'arachidyl glucoside', 'polyacrylate-13', 'polyisobutene', 'niacinamide', 'peg-100 stearate', 'glyceryl stearate', 'carbomer', 'triethanolamine', 'polysorbate 20', 'glycerin', 'caprylyl glycol', '1 2-hexanediol', 'ethylhexylglycerin', 'disodium edta', 'phenoxyethanol', 'methylparaben', 'ethylparaben', 'yellow 5 (ci 19140)', 'yellow 6 (ci 15985)', 'fragrance']\""
      ]
     },
     "execution_count": 14,
     "metadata": {},
     "output_type": "execute_result"
    }
   ],
   "source": [
    "test2"
   ]
  },
  {
   "cell_type": "code",
   "execution_count": 15,
   "id": "69a004ab",
   "metadata": {},
   "outputs": [
    {
     "data": {
      "text/plain": [
       "str"
      ]
     },
     "execution_count": 15,
     "metadata": {},
     "output_type": "execute_result"
    }
   ],
   "source": [
    "type(products[\"ingredient_list\"][4])"
   ]
  },
  {
   "cell_type": "code",
   "execution_count": 16,
   "id": "5dad0616",
   "metadata": {},
   "outputs": [
    {
     "data": {
      "text/plain": [
       "True"
      ]
     },
     "execution_count": 16,
     "metadata": {},
     "output_type": "execute_result"
    }
   ],
   "source": [
    "result2 == test2"
   ]
  },
  {
   "cell_type": "code",
   "execution_count": 17,
   "id": "c5b2298b",
   "metadata": {},
   "outputs": [],
   "source": [
    "#Prueba encuentra nombre 3\n",
    "product_name3 = products[\"name\"][30]"
   ]
  },
  {
   "cell_type": "code",
   "execution_count": 18,
   "id": "4d477d96",
   "metadata": {},
   "outputs": [
    {
     "data": {
      "text/plain": [
       "'time response skin renewal serum'"
      ]
     },
     "execution_count": 18,
     "metadata": {},
     "output_type": "execute_result"
    }
   ],
   "source": [
    "product_name3"
   ]
  },
  {
   "cell_type": "code",
   "execution_count": 19,
   "id": "0e359753",
   "metadata": {},
   "outputs": [],
   "source": [
    "result3 = find_product_description(product_name3)"
   ]
  },
  {
   "cell_type": "code",
   "execution_count": 20,
   "id": "f04e2dd3",
   "metadata": {
    "collapsed": true
   },
   "outputs": [
    {
     "data": {
      "text/plain": [
       "\"['camellia sinensis leaf water', 'water', 'glycerin', 'biosaccharide gum-1', 'alcohol', 'butylene glycol', 'phyllostachis bambusoides juice', 'trehalose', 'glycereth-26', 'dimethicone', 'hydrogenated lecithin', 'camellia sinensis callus culture conditioned media', 'camellia sinensis callus culture extract', 'epigallocatechin gallate', 'hydrolyzed camellia sinensis seed extract', 'camellia sinensis flower extract', 'camellia sinensis seed oil', 'camellia sinensis leaf extract', 'hydrolyzed camellia sinensis leaf', 'camellia sinensis seed oil/palm oil aminopropanediol esters', 'theanine', 'glycyrrhiza glabra (licorice) root extract', 'gentiana lutea root extract', 'hibiscus abelmoschus seed extract', 'avena sativa (oat) kernel extract', 'citrus unshiu peel extract', 'lonicera japonica (honeysuckle) flower extract', 'zizyphus jujuba fruit extract', 'gossypium herbaceum (cotton) extract', 'rhodiola rosea root extract', 'opuntia coccinellifera fruit extract', 'centella asiatica extract', 'vaccinium angustifolium (blueberry) fruit extract', 'rosa davurica bud extract', 'zingiber officinale (ginger) root extract', 'achillea millefolium extract', 'tricholoma matsutake extract', 'artemisia absinthium extract', 'arnica montana flower extract', 'nelumbo nucifera flower extract', 'hamamelis virginiana (witch hazel) leaf extract', 'ginkgo biloba leaf extract', 'panax ginseng root extract', 'betula platyphylla japonica juice', 'theobroma cacao (cocoa) extract', 'glycine soja (soybean) seed extract', 'eugenia caryophyllus (clove) flower extract', 'carica papaya (papaya) fruit extract', 'vitis vinifera (grape) leaf extract', 'hydrolyzed viola tricolor extract', 'hydrolyzed phyllostachis bambusoides', 'secale cereale (rye) seed extract', 'foeniculum vulgare (fennel) seed extract', 'magnolia obovata bark extract', 'silybum marianum fruit extract', 'butyrospermum parkii (shea butter)', 'olea europaea (olive) fruit oil', 'cocos nucifera (coconut) oil', 'helianthus annuus (sunflower) seed oil', 'mangifera indica (mango) seed oil', 'simmondsia chinensis (jojoba) seed oil', 'limnanthes alba (meadowfoam) seed oil', 'ceramide 3', 'hydroxypropyl bispalmitamide mea', 'hesperidin', 'sodium hyaluronate', 'hyaluronic acid', 'hydrolyzed collagen', 'dipotassium glycyrrhizate', 'natto gum', 'beta-glucan', 'betaine', 'kaempferol', 'papain', '1 2-hexanediol', 'glyceryl caprylate', 'niacinamide', 'dextrin', 'methoxy peg-114/polyepsilon caprolactone', 'behenyl alcohol', 'bis-peg-18 methyl ether dimethyl silane', 'saccharide isomerate', 'cetearyl glucoside', 'cetearyl alcohol', 'sodium stearoyl lactylate', 'sodium polyacrylate', 'soy sterol acetate', 'stearyl behenate', 'silica', 'acetyl glucosamine', 'ammonium acryloyldimethyltaurate/vp copolymer', 'ethylhexylglycerin', 'ethoxydiglycol', 'inulin lauryl carbamate', 'xanthan gum', 'carbomer', 'caffeine', 'caprylic/capric triglyceride', 'caprylyl glycol', 'tocophersolan', 'pentaerythrityl tetraethylhexanoate', 'pentylene glycol', 'poloxamer 407', 'poloxamer 235', 'poloxamer 338', 'polyglyceryl-10 pentastearate', 'polyglyceryl-3 methylglucose distearate', 'polyglyceryl-8 stearate', 'polymethyl methacrylate', 'polymethylsilsesquioxane', 'polysorbate 20', 'propanediol', 'propylene glycol', 'peg-5 rapeseed sterol', 'peg-75', 'phytantriol', 'phytosphingosine', 'ppg-5-laureth-5', 'hydrogenated poly(c6-14 olefin)', 'hydrogenated polydecene', 'hydroxyethyl acrylate/sodium acryloyldimethyl taurate copolymer', 'triethanolamine', 'disodium edta', 'phenoxyethanol', 'fragrance', 'yellow 5 (ci 19140)']\""
      ]
     },
     "execution_count": 20,
     "metadata": {},
     "output_type": "execute_result"
    }
   ],
   "source": [
    "result3"
   ]
  },
  {
   "cell_type": "code",
   "execution_count": 21,
   "id": "070831aa",
   "metadata": {},
   "outputs": [],
   "source": [
    "test3 = products[\"ingredient_list\"][30]"
   ]
  },
  {
   "cell_type": "code",
   "execution_count": 22,
   "id": "8889fe17",
   "metadata": {
    "collapsed": true
   },
   "outputs": [
    {
     "data": {
      "text/plain": [
       "\"['camellia sinensis leaf water', 'water', 'glycerin', 'biosaccharide gum-1', 'alcohol', 'butylene glycol', 'phyllostachis bambusoides juice', 'trehalose', 'glycereth-26', 'dimethicone', 'hydrogenated lecithin', 'camellia sinensis callus culture conditioned media', 'camellia sinensis callus culture extract', 'epigallocatechin gallate', 'hydrolyzed camellia sinensis seed extract', 'camellia sinensis flower extract', 'camellia sinensis seed oil', 'camellia sinensis leaf extract', 'hydrolyzed camellia sinensis leaf', 'camellia sinensis seed oil/palm oil aminopropanediol esters', 'theanine', 'glycyrrhiza glabra (licorice) root extract', 'gentiana lutea root extract', 'hibiscus abelmoschus seed extract', 'avena sativa (oat) kernel extract', 'citrus unshiu peel extract', 'lonicera japonica (honeysuckle) flower extract', 'zizyphus jujuba fruit extract', 'gossypium herbaceum (cotton) extract', 'rhodiola rosea root extract', 'opuntia coccinellifera fruit extract', 'centella asiatica extract', 'vaccinium angustifolium (blueberry) fruit extract', 'rosa davurica bud extract', 'zingiber officinale (ginger) root extract', 'achillea millefolium extract', 'tricholoma matsutake extract', 'artemisia absinthium extract', 'arnica montana flower extract', 'nelumbo nucifera flower extract', 'hamamelis virginiana (witch hazel) leaf extract', 'ginkgo biloba leaf extract', 'panax ginseng root extract', 'betula platyphylla japonica juice', 'theobroma cacao (cocoa) extract', 'glycine soja (soybean) seed extract', 'eugenia caryophyllus (clove) flower extract', 'carica papaya (papaya) fruit extract', 'vitis vinifera (grape) leaf extract', 'hydrolyzed viola tricolor extract', 'hydrolyzed phyllostachis bambusoides', 'secale cereale (rye) seed extract', 'foeniculum vulgare (fennel) seed extract', 'magnolia obovata bark extract', 'silybum marianum fruit extract', 'butyrospermum parkii (shea butter)', 'olea europaea (olive) fruit oil', 'cocos nucifera (coconut) oil', 'helianthus annuus (sunflower) seed oil', 'mangifera indica (mango) seed oil', 'simmondsia chinensis (jojoba) seed oil', 'limnanthes alba (meadowfoam) seed oil', 'ceramide 3', 'hydroxypropyl bispalmitamide mea', 'hesperidin', 'sodium hyaluronate', 'hyaluronic acid', 'hydrolyzed collagen', 'dipotassium glycyrrhizate', 'natto gum', 'beta-glucan', 'betaine', 'kaempferol', 'papain', '1 2-hexanediol', 'glyceryl caprylate', 'niacinamide', 'dextrin', 'methoxy peg-114/polyepsilon caprolactone', 'behenyl alcohol', 'bis-peg-18 methyl ether dimethyl silane', 'saccharide isomerate', 'cetearyl glucoside', 'cetearyl alcohol', 'sodium stearoyl lactylate', 'sodium polyacrylate', 'soy sterol acetate', 'stearyl behenate', 'silica', 'acetyl glucosamine', 'ammonium acryloyldimethyltaurate/vp copolymer', 'ethylhexylglycerin', 'ethoxydiglycol', 'inulin lauryl carbamate', 'xanthan gum', 'carbomer', 'caffeine', 'caprylic/capric triglyceride', 'caprylyl glycol', 'tocophersolan', 'pentaerythrityl tetraethylhexanoate', 'pentylene glycol', 'poloxamer 407', 'poloxamer 235', 'poloxamer 338', 'polyglyceryl-10 pentastearate', 'polyglyceryl-3 methylglucose distearate', 'polyglyceryl-8 stearate', 'polymethyl methacrylate', 'polymethylsilsesquioxane', 'polysorbate 20', 'propanediol', 'propylene glycol', 'peg-5 rapeseed sterol', 'peg-75', 'phytantriol', 'phytosphingosine', 'ppg-5-laureth-5', 'hydrogenated poly(c6-14 olefin)', 'hydrogenated polydecene', 'hydroxyethyl acrylate/sodium acryloyldimethyl taurate copolymer', 'triethanolamine', 'disodium edta', 'phenoxyethanol', 'fragrance', 'yellow 5 (ci 19140)']\""
      ]
     },
     "execution_count": 22,
     "metadata": {},
     "output_type": "execute_result"
    }
   ],
   "source": [
    "test3"
   ]
  },
  {
   "cell_type": "code",
   "execution_count": 23,
   "id": "b0d77068",
   "metadata": {},
   "outputs": [
    {
     "data": {
      "text/plain": [
       "True"
      ]
     },
     "execution_count": 23,
     "metadata": {},
     "output_type": "execute_result"
    }
   ],
   "source": [
    "test3 == result3"
   ]
  },
  {
   "cell_type": "code",
   "execution_count": 31,
   "id": "da7d92cb",
   "metadata": {},
   "outputs": [
    {
     "data": {
      "text/plain": [
       "'Mafuta'"
      ]
     },
     "execution_count": 31,
     "metadata": {},
     "output_type": "execute_result"
    }
   ],
   "source": [
    "#Prueba encuentra nombre 4\n",
    "product_name4 = products[\"name\"].iloc[-1]\n",
    "product_name4"
   ]
  },
  {
   "cell_type": "code",
   "execution_count": 32,
   "id": "89b7a967",
   "metadata": {},
   "outputs": [],
   "source": [
    "result4 = find_product_description(product_name4)"
   ]
  },
  {
   "cell_type": "code",
   "execution_count": 34,
   "id": "6187600e",
   "metadata": {},
   "outputs": [
    {
     "data": {
      "text/plain": [
       "str"
      ]
     },
     "execution_count": 34,
     "metadata": {},
     "output_type": "execute_result"
    }
   ],
   "source": [
    "type(result4)"
   ]
  },
  {
   "cell_type": "code",
   "execution_count": 27,
   "id": "3fef11d0",
   "metadata": {},
   "outputs": [],
   "source": [
    "#Prueba no encuentra nombre\n",
    "product_name_no = \"anteojos\""
   ]
  },
  {
   "cell_type": "code",
   "execution_count": 28,
   "id": "76fd9dd9",
   "metadata": {},
   "outputs": [
    {
     "name": "stdout",
     "output_type": "stream",
     "text": [
      "Product not found, please take a photo of the ingredients\n"
     ]
    }
   ],
   "source": [
    "find_product_description(product_name_no)"
   ]
  },
  {
   "cell_type": "code",
   "execution_count": 35,
   "id": "bc2e7720",
   "metadata": {},
   "outputs": [
    {
     "name": "stdout",
     "output_type": "stream",
     "text": [
      "Product not found, please take a photo of the ingredients\n"
     ]
    }
   ],
   "source": [
    "variable = find_product_description(\"pepe\")\n",
    "variable"
   ]
  },
  {
   "cell_type": "code",
   "execution_count": 224,
   "id": "592fe82a",
   "metadata": {},
   "outputs": [
    {
     "data": {
      "text/plain": [
       "['INGREDIENTS: Aqua/Water',\n",
       " ' Sodium\\nMethyl Cocoyl Taurate',\n",
       " ' Sodium Coco-Sulfate',\n",
       " '\\nSodium Chloride',\n",
       " ' Coco-Betaine',\n",
       " ' Lactic Acid',\n",
       " '\\nParfum/Fragrance',\n",
       " ' PPG-5-Ceteth-20',\n",
       " ' Sodium\\nLauroyl Glutamate',\n",
       " ' Propylene Glycol',\n",
       " ' PEG-55\\nPropylene Glycol Oleate',\n",
       " ' Salicylic Acid',\n",
       " '\\nBenzoic Acid',\n",
       " ' Guar Hydroxypropyltrimonium\\nChloride',\n",
       " ' Coconut Alcohol',\n",
       " ' Sodium Sulfate',\n",
       " '\\nCocos Nucifera Oil/Coconut Oil',\n",
       " ' Coumarin',\n",
       " '\\nWheat Amino Acids',\n",
       " ' Fumaric Acid',\n",
       " '\\nHydroxypropyltrimonium Hydrolyzed\\nWheat Protein',\n",
       " ' Phenoxyethanol',\n",
       " ' Disodium\\nEDTA',\n",
       " '\\nFmla\\nPotassium\\nSorbate.\\n1043369KL15 Code F.I.L. D216861/1']"
      ]
     },
     "execution_count": 224,
     "metadata": {},
     "output_type": "execute_result"
    }
   ],
   "source": [
    "#Prueba función OCR\n",
    "path1 = '../other files/Photo/1.jpeg'\n",
    "ocr_1 = detect_text(path1)\n",
    "ocr_1"
   ]
  },
  {
   "cell_type": "code",
   "execution_count": 50,
   "id": "7c8134fd",
   "metadata": {},
   "outputs": [
    {
     "data": {
      "text/plain": [
       "['Ingredientes: Aqua; Aluminum chlorohydrate\\nSteareth-2',\n",
       " ' Dimethicone; PPG-15 Stearyl ether; Steareth-20\\nFragrance Isopropyl palmitate; Methylparaben; BHT; Calcum\\ndisodium EDTA* Contiene Butylphenyl Methylpropional',\n",
       " '\\nAlpha-Isomethyl Ionone',\n",
       " ' Amyl Cinnamal',\n",
       " ' Benzyl Benzoate',\n",
       " '\\nBenzyl Salicylate',\n",
       " ' Citronellol',\n",
       " ' Eugenol',\n",
       " ' Isoeugenol y Linalool']"
      ]
     },
     "execution_count": 50,
     "metadata": {},
     "output_type": "execute_result"
    }
   ],
   "source": [
    "path2 = '../other files/Photo/2.jpeg'\n",
    "ocr_2 = detect_text(path2)\n",
    "ocr_2"
   ]
  },
  {
   "cell_type": "code",
   "execution_count": 51,
   "id": "6eea98c8",
   "metadata": {
    "collapsed": true
   },
   "outputs": [
    {
     "data": {
      "text/plain": [
       "['Ingredientes/Ingredients: Aqua',\n",
       " ' Alcohol Denat.',\n",
       " '\\nCI 77891',\n",
       " ' Butyl Methoxydibenzoylmethane',\n",
       " '\\nBis-Ethylhexyloxyphenol Methoxyphenyl Triazine',\n",
       " '\\nDibutyl Adipate',\n",
       " ' Butylene Glycol Dicaprylate/Dicaprate',\n",
       " '\\nC12-15 Alkyl Benzoate',\n",
       " ' Ethylhexyl Salicylate',\n",
       " ' Ethylhexyl\\nTriazone',\n",
       " ' Diethylamino Hydroxybenzoyl Hexyl\\nBenzoate',\n",
       " ' Phenylbenzimidazole Sulfonic Acid',\n",
       " ' Silica',\n",
       " '\\nSilica Dimethyl Silylate',\n",
       " ' Cocoglycerides',\n",
       " ' Copernicia\\nCerifera Cera',\n",
       " ' Carnitine',\n",
       " ' Glycyrrhiza Inflata Root\\nExtract',\n",
       " ' Glycyrrhetinic Acid',\n",
       " ' Glycerin',\n",
       " ' Tapioca Starch',\n",
       " '\\nCarrageenan',\n",
       " ' Hydroxypropyl Methylcellulose',\n",
       " ' Xanthan\\nGum',\n",
       " ' Behenyl Alcohol',\n",
       " ' Cetearyl Alcohol',\n",
       " ' Stearic\\nAcid',\n",
       " ' Myristic Acid',\n",
       " ' Arachidic Acid',\n",
       " ' Oleic Acid',\n",
       " '\\nPalmitic Acid',\n",
       " ' Sodium Stearoyl Glutamate',\n",
       " ' Sodium\\nHydroxide',\n",
       " ' Sodium Chloride',\n",
       " ' Trisodium EDTA',\n",
       " '\\nHydroxyacetophenone',\n",
       " ' Phenoxyethanol',\n",
       " ' CI 77492',\n",
       " '\\nCI 77491',\n",
       " ' CI 77499.']"
      ]
     },
     "execution_count": 51,
     "metadata": {},
     "output_type": "execute_result"
    }
   ],
   "source": [
    "path3 = '../other files/Photo/3.jpeg'\n",
    "ocr_3 = detect_text(path3)\n",
    "ocr_3"
   ]
  },
  {
   "cell_type": "code",
   "execution_count": 52,
   "id": "b264eed5",
   "metadata": {
    "collapsed": true
   },
   "outputs": [
    {
     "data": {
      "text/plain": [
       "['Ingredientes/Ingredients: Aqua/Water',\n",
       " ' Caprylic/Capric Triglyceride',\n",
       " ' Propylene Glycol',\n",
       " ' Glycerin',\n",
       " ' Phospholipids\\nand Hyaluronic Acid',\n",
       " ' Dimethicone',\n",
       " ' Acrylamide/Sodium Acrylate Copolymer and Paraffinum Liquidum and\\nTrideceth-6',\n",
       " ' Phenoxyethanol and Ethylhexylglycerin',\n",
       " ' Fragrance: Citronellol',\n",
       " ' Coumarin',\n",
       " ' Hexyl Cinnamal',\n",
       " '\\nHydroxycitronellal',\n",
       " ' Hydroxyisohexyl 3-Cyclohexene Carboxaldehyde',\n",
       " ' Linalool',\n",
       " ' Butylphenyl Methylpropional and\\nAlpha-Isomethyl Ionone',\n",
       " ' BHT and EDTA.']"
      ]
     },
     "execution_count": 52,
     "metadata": {},
     "output_type": "execute_result"
    }
   ],
   "source": [
    "path16 = '../other files/Photo/16.jpeg'\n",
    "ocr_16 = detect_text(path16)\n",
    "ocr_16"
   ]
  },
  {
   "cell_type": "code",
   "execution_count": 53,
   "id": "ad82df06",
   "metadata": {
    "collapsed": true
   },
   "outputs": [
    {
     "data": {
      "text/plain": [
       "['Ingredientes/Ingredients: Aqua/Water',\n",
       " ' Propylene Glycol',\n",
       " ' Paraffinum Liquidum',\n",
       " '\\nCaprylic/Capric Triglyceride',\n",
       " ' Glyceryl Stearate SE',\n",
       " ' Alpha-Glucan Oligosaccharide',\n",
       " '\\nHydrolyzed Yogurt Protein',\n",
       " ' Inulin',\n",
       " ' Shea Butter Glyceride',\n",
       " ' Cetearyl Alcohol and\\nCeteareth-20',\n",
       " ' Caprylyl Methicone',\n",
       " ' Glyceryl Stearate and Behenyl Alcohol and Palmitic\\nAcid and Stearic Acid and Lecithin and Lauryl Alcohol and Myristyl Alcohol and Cetyl\\nAlcohol',\n",
       " ' Phenoxyethanol and Ethylhexylglycerin',\n",
       " ' Sodium Polyacrylate',\n",
       " ' Propylene Glycol\\n(60%)',\n",
       " ' Diazolidinyl Urea (39',\n",
       " '6%) and lodopropynyl Butylcarbamate (0',\n",
       " '4%)',\n",
       " ' Fragrance:\\nLinalool',\n",
       " ' d-Limonene',\n",
       " ' Geraniol and Citronellol',\n",
       " ' BHT and EDTA.']"
      ]
     },
     "execution_count": 53,
     "metadata": {},
     "output_type": "execute_result"
    }
   ],
   "source": [
    "path17 = '../other files/Photo/17.jpeg'\n",
    "ocr_17 = detect_text(path17)\n",
    "ocr_17"
   ]
  },
  {
   "cell_type": "code",
   "execution_count": 225,
   "id": "fbf29675",
   "metadata": {
    "scrolled": true
   },
   "outputs": [
    {
     "data": {
      "text/plain": [
       "['water',\n",
       " 'sodiummethyl cocoyl taurate',\n",
       " 'sodium coco-sulfate',\n",
       " 'sodium chloride',\n",
       " 'coco-betaine',\n",
       " 'lactic acid',\n",
       " 'parfum fragrance',\n",
       " 'ppg-5-ceteth-20',\n",
       " 'sodiumlauroyl glutamate',\n",
       " 'propylene glycol',\n",
       " 'peg-55propylene glycol oleate',\n",
       " 'salicylic acid',\n",
       " 'benzoic acid',\n",
       " 'guar hydroxypropyltrimoniumchloride',\n",
       " 'coconut alcohol',\n",
       " 'sodium sulfate',\n",
       " 'cocos nucifera oil coconut oil',\n",
       " 'coumarin',\n",
       " 'wheat amino acids',\n",
       " 'fumaric acid',\n",
       " 'hydroxypropyltrimonium hydrolyzedwheat protein',\n",
       " 'phenoxyethanol',\n",
       " 'disodiumedta',\n",
       " 'fmlapotassiumsorbate1043369kl15 code fil d216861 1']"
      ]
     },
     "execution_count": 225,
     "metadata": {},
     "output_type": "execute_result"
    }
   ],
   "source": [
    "#Prueba funcion de limpieza de texto\n",
    "ocr_1_clean = cleaning(ocr_1)\n",
    "ocr_1_clean"
   ]
  },
  {
   "cell_type": "code",
   "execution_count": 226,
   "id": "c2375aa4",
   "metadata": {},
   "outputs": [
    {
     "data": {
      "text/plain": [
       "['water; aluminum chlorohydratesteareth-2',\n",
       " 'dimethicone; ppg-15 stearyl ether; steareth-20fragrance isopropyl palmitate; methylparaben; bht; calcumdisodium edta contiene butylphenyl methylpropional',\n",
       " 'alpha-isomethyl ionone',\n",
       " 'amyl cinnamal',\n",
       " 'benzyl benzoate',\n",
       " 'benzyl salicylate',\n",
       " 'citronellol',\n",
       " 'eugenol',\n",
       " 'isoeugenol y linalool']"
      ]
     },
     "execution_count": 226,
     "metadata": {},
     "output_type": "execute_result"
    }
   ],
   "source": [
    "ocr_2_clean = cleaning(ocr_2)\n",
    "ocr_2_clean"
   ]
  },
  {
   "cell_type": "code",
   "execution_count": 227,
   "id": "340f5b56",
   "metadata": {},
   "outputs": [
    {
     "data": {
      "text/plain": [
       "['water',\n",
       " 'alcohol denat',\n",
       " 'ci 77891',\n",
       " 'butyl methoxydibenzoylmethane',\n",
       " 'bis-ethylhexyloxyphenol methoxyphenyl triazine',\n",
       " 'dibutyl adipate',\n",
       " 'butylene glycol dicaprylate dicaprate',\n",
       " 'c12-15 alkyl benzoate',\n",
       " 'ethylhexyl salicylate',\n",
       " 'ethylhexyltriazone',\n",
       " 'diethylamino hydroxybenzoyl hexylbenzoate',\n",
       " 'phenylbenzimidazole sulfonic acid',\n",
       " 'silica',\n",
       " 'silica dimethyl silylate',\n",
       " 'cocoglycerides',\n",
       " 'coperniciacerifera cera',\n",
       " 'carnitine',\n",
       " 'glycyrrhiza inflata rootextract',\n",
       " 'glycyrrhetinic acid',\n",
       " 'glycerin',\n",
       " 'tapioca starch',\n",
       " 'carrageenan',\n",
       " 'hydroxypropyl methylcellulose',\n",
       " 'xanthangum',\n",
       " 'behenyl alcohol',\n",
       " 'cetearyl alcohol',\n",
       " 'stearicacid',\n",
       " 'myristic acid',\n",
       " 'arachidic acid',\n",
       " 'oleic acid',\n",
       " 'palmitic acid',\n",
       " 'sodium stearoyl glutamate',\n",
       " 'sodiumhydroxide',\n",
       " 'sodium chloride',\n",
       " 'trisodium edta',\n",
       " 'hydroxyacetophenone',\n",
       " 'phenoxyethanol',\n",
       " 'ci 77492',\n",
       " 'ci 77491',\n",
       " 'ci 77499']"
      ]
     },
     "execution_count": 227,
     "metadata": {},
     "output_type": "execute_result"
    }
   ],
   "source": [
    "ocr_3_clean = cleaning(ocr_3)\n",
    "ocr_3_clean"
   ]
  },
  {
   "cell_type": "code",
   "execution_count": 228,
   "id": "5ba857d5",
   "metadata": {},
   "outputs": [
    {
     "data": {
      "text/plain": [
       "['water',\n",
       " 'caprylic capric triglyceride',\n",
       " 'propylene glycol',\n",
       " 'glycerin',\n",
       " 'phospholipidsand hyaluronic acid',\n",
       " 'dimethicone',\n",
       " 'acrylamide sodium acrylate copolymer and paraffinum liquidum andtrideceth-6',\n",
       " 'phenoxyethanol and ethylhexylglycerin',\n",
       " 'fragrance citronellol',\n",
       " 'coumarin',\n",
       " 'hexyl cinnamal',\n",
       " 'hydroxycitronellal',\n",
       " 'hydroxyisohexyl 3-cyclohexene carboxaldehyde',\n",
       " 'linalool',\n",
       " 'butylphenyl methylpropional andalpha-isomethyl ionone',\n",
       " 'bht and edta']"
      ]
     },
     "execution_count": 228,
     "metadata": {},
     "output_type": "execute_result"
    }
   ],
   "source": [
    "ocr_16_clean = cleaning(ocr_16)\n",
    "ocr_16_clean"
   ]
  },
  {
   "cell_type": "code",
   "execution_count": 229,
   "id": "d65b8de3",
   "metadata": {},
   "outputs": [
    {
     "data": {
      "text/plain": [
       "['water',\n",
       " 'propylene glycol',\n",
       " 'paraffinum liquidum',\n",
       " 'caprylic capric triglyceride',\n",
       " 'glyceryl stearate se',\n",
       " 'alpha-glucan oligosaccharide',\n",
       " 'hydrolyzed yogurt protein',\n",
       " 'inulin',\n",
       " 'shea butter glyceride',\n",
       " 'cetearyl alcohol andceteareth-20',\n",
       " 'caprylyl methicone',\n",
       " 'glyceryl stearate and behenyl alcohol and palmiticacid and stearic acid and lecithin and lauryl alcohol and myristyl alcohol and cetylalcohol',\n",
       " 'phenoxyethanol and ethylhexylglycerin',\n",
       " 'sodium polyacrylate',\n",
       " 'propylene glycol60',\n",
       " 'diazolidinyl urea 39',\n",
       " '6 and lodopropynyl butylcarbamate 0',\n",
       " '4',\n",
       " 'fragrancelinalool',\n",
       " 'd-limonene',\n",
       " 'geraniol and citronellol',\n",
       " 'bht and edta']"
      ]
     },
     "execution_count": 229,
     "metadata": {},
     "output_type": "execute_result"
    }
   ],
   "source": [
    "ocr_17_clean = cleaning(ocr_17)\n",
    "ocr_17_clean"
   ]
  },
  {
   "cell_type": "code",
   "execution_count": 230,
   "id": "9f56b000",
   "metadata": {},
   "outputs": [],
   "source": [
    "from dcodebeauty.pre_utils import *"
   ]
  },
  {
   "cell_type": "code",
   "execution_count": 231,
   "id": "8e459b5a",
   "metadata": {},
   "outputs": [
    {
     "data": {
      "text/plain": [
       "['camellia sinensis leaf water',\n",
       " 'dicaprylyl carbonate',\n",
       " 'caprylic capric triglyceride',\n",
       " 'butyrospermum parkii shea butter',\n",
       " 'butylene glycol',\n",
       " 'glycereth-26',\n",
       " 'alcohol',\n",
       " 'behenyl alcohol',\n",
       " 'peg ppg polybutylene glycol-8 5 3 glycerin',\n",
       " 'mangifera indica mango seed oil',\n",
       " 'hydrogenated c6-14 olefin polymers',\n",
       " 'arachidyl alcohol',\n",
       " 'pentaerythrityl tetraisostearate',\n",
       " 'pentaerythrityl tetraethylhexanoate',\n",
       " 'hydrogenated polydecene',\n",
       " 'peg ppg-17 6 copolymer',\n",
       " 'tricholoma matsutake extract',\n",
       " 'camellia sinensis leaf extract',\n",
       " 'camellia sinensis seed oil palm oil aminopropanediol esters',\n",
       " 'sodium hyaluronate',\n",
       " 'xylitylglucoside',\n",
       " 'anhydroxylitol',\n",
       " 'xylitol',\n",
       " 'punica granatum extract',\n",
       " 'opuntia coccinellifera',\n",
       " 'iris florentina root extract',\n",
       " 'lagerstroemia indica flower extract',\n",
       " 'gossypium herbaceum cotton extract',\n",
       " 'centella asiatica extract',\n",
       " 'oryza sativa rice bran extract',\n",
       " 'zingiber officinale ginger root extract',\n",
       " 'glycine soja soybean seed extract',\n",
       " 'magnolia obovata bark extract',\n",
       " 'nelumbo nucifera flower extract',\n",
       " 'curcumin',\n",
       " 'arachidyl glucoside',\n",
       " 'polyacrylate-13',\n",
       " 'polyisobutene',\n",
       " 'niacinamide',\n",
       " 'peg-100 stearate',\n",
       " 'glyceryl stearate',\n",
       " 'carbomer',\n",
       " 'triethanolamine',\n",
       " 'polysorbate 20',\n",
       " 'glycerin',\n",
       " 'caprylyl glycol',\n",
       " '1 2-hexanediol',\n",
       " 'ethylhexylglycerin',\n",
       " 'disodium edta',\n",
       " 'phenoxyethanol',\n",
       " 'methylparaben',\n",
       " 'ethylparaben',\n",
       " 'yellow 5 ci 19140',\n",
       " 'yellow 6 ci 15985',\n",
       " 'fragrance']"
      ]
     },
     "execution_count": 231,
     "metadata": {},
     "output_type": "execute_result"
    }
   ],
   "source": [
    "result2_clean"
   ]
  },
  {
   "cell_type": "code",
   "execution_count": 126,
   "id": "3d8520ee",
   "metadata": {},
   "outputs": [
    {
     "data": {
      "text/html": [
       "<div>\n",
       "<style scoped>\n",
       "    .dataframe tbody tr th:only-of-type {\n",
       "        vertical-align: middle;\n",
       "    }\n",
       "\n",
       "    .dataframe tbody tr th {\n",
       "        vertical-align: top;\n",
       "    }\n",
       "\n",
       "    .dataframe thead th {\n",
       "        text-align: right;\n",
       "    }\n",
       "</style>\n",
       "<table border=\"1\" class=\"dataframe\">\n",
       "  <thead>\n",
       "    <tr style=\"text-align: right;\">\n",
       "      <th></th>\n",
       "      <th>Unnamed: 0</th>\n",
       "      <th>names</th>\n",
       "      <th>links</th>\n",
       "      <th>description</th>\n",
       "    </tr>\n",
       "  </thead>\n",
       "  <tbody>\n",
       "    <tr>\n",
       "      <th>248</th>\n",
       "      <td>248</td>\n",
       "      <td>Dicaprylyl Carbonate</td>\n",
       "      <td>https://incidecoder.com//ingredients/dicapryly...</td>\n",
       "      <td>A clear colorless almost odorless oil that spr...</td>\n",
       "    </tr>\n",
       "  </tbody>\n",
       "</table>\n",
       "</div>"
      ],
      "text/plain": [
       "     Unnamed: 0                 names  \\\n",
       "248         248  Dicaprylyl Carbonate   \n",
       "\n",
       "                                                 links  \\\n",
       "248  https://incidecoder.com//ingredients/dicapryly...   \n",
       "\n",
       "                                           description  \n",
       "248  A clear colorless almost odorless oil that spr...  "
      ]
     },
     "execution_count": 126,
     "metadata": {},
     "output_type": "execute_result"
    }
   ],
   "source": [
    "#Chequeando que el nombre esté en el dataset\n",
    "data.loc[data['names'].str.contains(\"dicaprylyl carbonate\", case=False)]"
   ]
  },
  {
   "cell_type": "code",
   "execution_count": 219,
   "id": "ec498333",
   "metadata": {},
   "outputs": [
    {
     "data": {
      "text/plain": [
       "list"
      ]
     },
     "execution_count": 219,
     "metadata": {},
     "output_type": "execute_result"
    }
   ],
   "source": [
    "type(result2_clean)"
   ]
  },
  {
   "cell_type": "code",
   "execution_count": null,
   "id": "5ea7983d",
   "metadata": {},
   "outputs": [],
   "source": []
  },
  {
   "cell_type": "code",
   "execution_count": 222,
   "id": "fef28bfc",
   "metadata": {
    "collapsed": true
   },
   "outputs": [
    {
     "name": "stdout",
     "output_type": "stream",
     "text": [
      "CPU times: user 4 µs, sys: 0 ns, total: 4 µs\n",
      "Wall time: 8.58 µs\n",
      "Found 54.55% of ingredients\n"
     ]
    },
    {
     "data": {
      "text/plain": [
       "['A clear colorless almost odorless oil that spreads nicely and easily and gives a velvet dry skin feel It is good friends with sunscreen agents and helps to solubilize them Also it makes sunscreens feel lighter and spread easier',\n",
       " 'Butylene glycol or let’s just call it BG is a multitasking colorless syrupy liquid It’s a great pick for creating a nice feeling product BG’s main job is usually to be a solvent for the other ingredients Other tasks include helping the product to absorb faster and deeper into the skin penetration enhancer making the product spread nicely over the skin slip agent and attracting water humectant into the skin\\nIt’s an ingredient whose safety hasn’t been questioned so far by anyone at least not that we know about BG is approved by Ecocert and is also used enthusiastically in natural products BTW it’s also a food additive',\n",
       " 'Its a nice glycerinbased humectant and emollient that gives skin a smooth and luxurious feel',\n",
       " 'A fatty alcohol the nondrying type with a long oil loving chain of 22 carbon atoms that is used to increase the viscosity of the formula and it also helps the oily and the watery parts to stay nicely mixed together called emulsion stabilizing',\n",
       " 'A fatty alcohol the nondrying type with a long oil loving chain of 20 carbon atoms that is used to increase the viscosity of the formula and it also helps the oily and the watery parts to stay nicely mixed together called emulsion stabilizing',\n",
       " 'A liquid emollient derived from isostearic acid that gives a rich cushiony skinfeel and unusually high levels of gloss It also has filmforming abilities but without leaving a sticky residue and it aids longlasting and waterresistant properties All this makes Pentaerythrityl Tetraisostearate an ideal emollient for longlasting protective emulsions like lip balms',\n",
       " 'A highmolecularweight emollient ester that makes your skin nice and smooth It leaves a nonoily light wet feel on the skin',\n",
       " 'A hydrocarbonbased emollient that can come in different viscosities from silkylight through satinysmooth to luxurious rich It forms a nonocclusive film on the surface of the skin and brings gloss without greasiness to the formula Its a very pure and hypoallergenic emollient thats also ideal for baby care products',\n",
       " 'Green tea is one of the most researched natural ingredients The active parts are called polyphenols or more precisely catechins EGCG being the most abundant and most active catechin There can be huge quality differences between green tea extracts The good ones contain 5090 catechins and often make the product brown and give it a distinctive smell Green tea is proven to be a great antioxidant UV protectant antiinflammatory anticarcinogenic and antimicrobial Because of these awesome properties green tea is a great choice for antiaging and also for skin diseases including rosacea acne and atopic dermatitis We will tell you straight away that we are big green tea fans Drinking it and slathering it all over your face are both great ideas But as this is INCIDecoder and not a findoutwhat’shealthytodrink site we will now just focus on why you should put it on your face\\nOur first reason is that green tea does not only sound good but it’s super well researched According to one of our fav dermatologist dr Leslie Baumann it’s one of the most studied antioxidants A 2015 research summary paper on green tea stated that there are about 6000 research papers on the topic currently in PubMed the US National Library of Medicine research database Before we dive into what the magic powers of green tea are it’s good to know that the most useful components of the tea are called polyphenols and even more precisely catechins There are four major types the most abundant and active one the real superstar is called EGCG EpiGalloCatechin Gallate Also significant ones are ECG EpiCatechin Gallate GCG GalloCatechin Gallate and EGC EpiGallo Catechin but there are also a few more types in green tea To be able to truly judge the efficacy of a green tea product dr Baumann emphasises that it’s important to know the polyphenol content of the extract used There can be huge quality differences between various green tea extracts depending on climate season age of the leaf and how it was grown You know it’s like the tomato that you buy middle of the summer fresh from the market vs the tomato that you buy middle of the winter from a big supermarket and it was picked totally unripe on the other half of the word a while ago they taste totally different According to the 2015 research summary paper an average extract contains only 10 catechins while Dr Todorov of the fantastic smartskincarecom site writes about 25 vs only 4 in black tea Dr Leslie Baumann says in her Cosmetic Dermatology book that a good quality green tea extract should contain 5090 catechins and the highquality ones are brownish and have a characteristic odor So if you stumble upon a green a tea product that’s brown and has a distinct tealike smell that is a great sign of a quality product Ok so now you know that not all green tea extracts are made equal and which ones are the good ones Let’s see those magic powers\\nGreat Antioxidant UV protectant The polyphenols in green tea are strong proven antioxidants That’s good because they help to protect our skin against notsonice little things called free radicals that are out there to destroy the very nice firming collagen in our skin Studies show that green tea reduces UV caused skin irritation and reddening it’s called erythema and decreases the number of sunburn cells It’s a great idea to use a green tea product in the morning under your sunscreen Anticarcinogenic This one partly comes from the antioxidant and UV protectant properties but we wanted to emphasise that green tea does not only give some “superficial” skin benefits but is truly a health protectant It can inhibit DNA damage and even activates some enzymes that help with DNA repair Thanks to this it’s very useful for preventing nonmelanoma type skin cancer So especially if your skin cancer risk factors are high fair skin skin cancer history in the family blue or green eyes past sunburns some types of moles introducing green tea into your skin care is a fantastic thing to do Antiinflammatory Inflammation is an important process that’s a biological protective response to not nice things that happen to our body However too much inflammation in our skin is not good it accelerates the aging process and it’s also behind many skin diseases acne and rosacea the most common examples The catechins in green tea are not only amazing antioxidants but they also possess magic antiinflammatory powers This makes green tea an awesome choice for sensitive rosacea or acne prone skin Antimicrobial This one is probably the least well known but green tea also shows promising antimicrobial properties against some notnice bacteria This property makes green tea even more awesome for acneprone skin We could find two promising research paper results showing that 2 green tea lotion is effective to treat mildtomoderate acne Also atopic dermatitis is a skin diseases that could be improved with the help of the green tea polyphenols So the bottom line is this green tea is a real superstar with magic powers that make it an awesome ingredient to almost everybody If you are worried about antiaging skin cancer prevention acne rosacea or atopic dermatitis it’s an excellent idea to use a highquality green tea product in your skincare routine',\n",
       " 'It’s the sodium form cousin of the famous NMF hyaluronic acid HA If HA does not tell you anything we have a super detailed geeky explanation about it here The TL DR version of HA is that its a huge polymer big molecule from repeated subunits found in the skin that acts as a sponge helping the skin to hold onto water being plump and elastic HA is famous for its crazy water holding capacity as it can bind up to 1000 times its own weight in water\\nAs far as skincare goes sodium hyaluronate and hyaluronic acid are pretty much the same and the two names are used interchangeably As cosmetic chemist kindofstephen writes on reddit sodium hyaluronate disassociates into hyaluronic acid molecule and a sodium atom in solution In spite of this if you search for hyaluronic acid vs sodium hyaluronate you will find on multiple places that sodium hyaluronate is smaller and can penetrate the skin better Chemically this is definitely not true as the two forms are almost the same both are polymers and the subunits can be repeated in both forms as much as you like We also checked Prospector for sodium hyaluronate versions actually used in cosmetic products and found that the most common molecular weight was 1518 million Da that absolutely counts as high molecular weight\\nWhat seems to be a true difference though is that the salt form is more stable easier to formulate and cheaper so it pops up more often on the ingredient lists If you wanna become a real HAandtheskin expert you can read way more about the topic at hyaluronic acid including penetrationquestions differences between high and low molecular weight versions and a bunch of references to scientific literature',\n",
       " 'The main part of a moisturizing complex called Aquaxyl Comes from two waterbinding plant sugars glucose and xylitol According to the manufacturer Aquaxyl is close to a magic moisturizer that not only simply moisturizes but can harmonize the skins hydrous flow\\nThis means that on the one side it can optimize water reserves by increasing important NMFs natural moisturizing factors things that are naturally in the skin and help to keep it hydrated like hyaluronic acid and chondroitin sulfate in the skin On the other side it also limits water loss by improving the skin barrier with increased lipid ceramides and cholesterol and protein synthesis In vivo made on real people tests show that 3 Aquaxyl not only increases the water content of the outer layer instantly and in the long run but it also visibly improves cracked dry skin and smoothes the skin surface after a month of treatment\\nThe hydrating effect of Aquaxyl was also examined in a comparative study in the Journal of cosmetic dermatology The hydrogel with 4 Aquaxyl performed as well as the wellknown moisturizer urea and somewhat better than the formula containing NMF components or hydrating plant extract called Imperata Cylindrica All in all Aquaxyl is a goodie and if you have dehydrated dry skin its something to look at',\n",
       " 'A sugar derived moisturizer thats part of a moisturizing trio called Aquaxyl You can read more about its magic properties at xylitylglucoside',\n",
       " 'A type of sugar thats part of a moisturizing trio called Aquaxyl You can read more about its magic properties at xylitylglucoside',\n",
       " 'Centella Asiatica or gotu kola as normal people call it has been used in folk medicine for hundreds of years It’s traditionally used to improve small wounds burns and scratches and it’s also a well known antiinflammatory agent for eczema\\nRecently science has taken an interest in Gotu Kola as well and it turns out it really has many active compounds with several benefits Just for hardcore geeks the main biologically active compounds are pentacyclic triterpenoid saponins called asiaticoside madecassoside asiatic and madecassic acid also called centellosides\\nOne of the biological activities of the centellosides is to be able to stimulate GAGs glycosaminoglycans polysaccharides that are part of the liquidy stuff between our skin cells and especially hyaluronic acid synthesis in our skin This is probably one of the reasons why Centella Asiatica Extract has nice skin moisturizing properties that was confirmed by a 25 people four weeks study along with Centellas antiinflammatory effects\\nMadecassoside can also help in burn wound healing through increasing antioxidant activity and enhancing collagen synthesis Asiaticoside was shown to increase antioxidant levels on rats skin when applied at 02 Centella Asiatica also often shows up in products that try to treat cellulite or striae Of course it cannot make a miracle but it might have some effect via regulating microcirculation and normalizing the metabolism in the cells of connective tissues Bottom line Gotu Kola is a great plant ingredient with proven wound healing antiinflammatory and antioxidant properties Nice to spot on any ingredient list',\n",
       " 'An ingredient that is created from the attachment of the waterloving sugar molecule glucose and an oilloving 20 carbon long fatty chain This makes it a partly water and partly oilsoluble material meaning it functions as an emulsifier helping oil and water to mix Most often it comes to the formula coupled with two fatty alcohol friends Arachidyl and Behenyl alcohol to make up an emulsifier trio trade named Montanov 202 As described by its manufacturer the main thing of Montanonv 202 is that it gives creams a unique evanescent and light feel with a matt finish It also leaves the skin soft but not oily is hypoallergenic and noncomedogenic making it perfect for both oily and sensitive skin formulas',\n",
       " 'A helper ingredient that functions as a filmforming polymer big molecule from repeated subunits\\nIt usually comes to the formula as part of a thickeneremulsifier trio paired with Polyisobutene and Polysorbate 20 The three togeather have excellent thickening properties with remarkable emulsifyingstabilising abilities They also have a nice silicone feel with glideon spreading',\n",
       " 'A polymer big molecule from repeated subunits thats used as a gloss improver for lipsticks and lipglosses Its stickiness also helps lip products to stay on longer Combined with polyacrylate13 and polysorbate 20 it forms a very effective tickeneremulsifier trio',\n",
       " 'A multifunctional skincare superstar with several proven benefits for the skin Great antiaging wrinkle smoothing ingredient used at 45 concentration Fades brown spots alone or in combination with amino sugar acetyl glucosamine Increases ceramide synthesis that results in a stronger healthier skin barrier and better skin hydration Can help to improve several skin conditions including acne rosacea and atopic dermatitis Niacinamide or as us normal people call it vitamin B3 is a real skincare superstar that has had so many studies and has so many skin benefits that we have to warn you that this geeky details description will not be short Just as an intro a couple of thing about the stuff itself its a watersoluble vitamin that usually comes in white powder form It is odorless and has a salty bitter taste It can be found in meat fish wheat and small amounts in vegetables The version used in cosmetics is produced exclusively synthetically\\nLets look at all those skin benefits\\n1 Antiaging wrinklesmoothing properties With age our skin tends to slow down in many ways One of them is in producing important proteins such as keratin filaggrin and involucrin at a slower rate Reduced amounts of these proteins results in poorer skin structure reduced skin elasticity and more wrinkles Studies show that niacinamide can boost collagen production as well as the production of these three important proteins That means improved skin structure and fewer wrinkles FYI antiaging studies usually use 45 niacinamide daily for 812 weeks so if you are after the antiaging benefits try to choose a product that tells you the exact percentage of niacinamide it contains 2 Skinlightening properties Hyperpigmentation or brown spots are really stubborn and honestly it can be really hard to make them disappear just by topical products What you can expect for them is to fade a little and niacinamide is a great ingredient to help with that Studies show that 25 niacinamide used daily for 8 weeks results in significant lightening of hyperpigmentation When combined with amino sugar acetyl glucosamine the results are even better\\nWhats more niacinamide as a skin lightener works in a way different to most others It suppresses the transfer of melanosomes little spheres carrying the melanin pigment from melanocytes skin cells producing the melanin to keratinocytes skin cells in the top layer of the skin while most other skin lighteners block an enzyme called tyrosinase that plays an important role in melanin production So if you want to mount a multifront attack on the brown spots you can combine a niacinamide treatment with tyrosinase inhibitors like vitamin C arbutin or kojic acid\\n3 Barrier repair functions the skin barrier is the outer layer of the skin that is amazingly important at keeping the skin hydrated and healthy The stuff between the skin cells consists mainly of free fatty acids cholesterol and ceramides The amount and structure of these determine how healthy the skin barrier is What studies have shown is that 2 niacinamide can increase the synthesis of free fatty acids cholesterol and ceramides that result in healthier and stronger skin barrier decreased transepidermal water loss and better hydrated skin\\n4 Antiacne properties though niacinamide does not count as one of the gold standard antiacne ingredients if you have problem skin its totally worth a try It has sebum regulating and antiinflammatory properties and a study that used 4 niacinamide for 8 weeks to treat acne found that 82 of those treated showed some improvement Whats more the results were slightly better than with a 1 clindamycin gel an antibiotics often used to treat acne\\n5 Other notable things if the above four things are not enough to convince you about niacinamide here are some more reasons Studies show that vitamin B3 can help to speed up epidermal cell growth that slows down with age it can help with wound healing it can smooth the structure of the skin and it has also antibacterial and photo protective properties Plus it might also be useful for rosacea and atopic dermatitis probably because of its antiinflammatory property Well that was long Hope we could convince you that niacinamide is a skincare superstar and a musttry for pretty much everybody',\n",
       " 'A very common waterloving surfactant and emulsifier that helps to keep water and oil mixed nicely together Its often paired with glyceryl stearate the two together form a super effective emulsifier duo thats salt and acid tolerant and works over a wide pH range It also gives a pleasing product aesthetics so no wonder its popular',\n",
       " 'A super common waxy white solid stuff that helps water and oil to mix together gives body to creams and leaves the skin feeling soft and smooth\\nChemically speaking it is the attachment of a glycerin molecule to the fatty acid called stearic acid It can be produced from most vegetable oils in oils three fatty acid molecules are attached to glycerin instead of just one like here in a pretty simple green process that is similar to soap making Its readily biodegradable\\nIt also occurs naturally in our body and is used as a food additive As cosmetic chemist Colins writes it its safety really is beyond any doubt',\n",
       " 'A big molecule created from repeated subunits a polymer of acrylic acid that magically converts a liquid into a nice gel formula It usually has to be neutralized with a base such as sodium hydroxide for the thickening to occur and it creates viscous clear gels that also feel nice and nontacky on the skin No wonder it is a very popular and common ingredient Typically used at 1 or less in most formulations',\n",
       " 'It’s a little helper ingredient that helps to set the pH of a cosmetic formulation to be just right It’s very alkaline you know the opposite of being very acidic a 1 solution has a pH of around 10\\nIt does not have the very best safety reputation but in general you do not have to worry about it What is true is that if a product contains socalled Nnitrogenating agents eg preservatives like 2Bromo2Nitropropane13Diol 5Bromo5Nitro 13Dioxane or sodium nitrate so look out for things with nitro nitra in the name that together with TEA can form some not nice carcinogenic stuff that is called nitrosamines But with proper formulation that does not happen TEA in itself is not a bad guy But let’s assume a bad combination of ingredients were used and the nitrosamines formed Even in that case you are probably fine because as far as we know it cannot penetrate the skin But to be on the safe side if you see Triethanolamine in an INCI and also something with nitra nitro in the name of it just skip the product that cannot hurt',\n",
       " 'Its a common little helper ingredient that helps water and oil to mix together Also it can help to increase the solubility of some other ingredients in the formula',\n",
       " 'A natural moisturizer that’s also in our skin A super common safe effective and cheap molecule used for more than 50 years Not only a simple moisturizer but knows much more keeps the skin lipids between our skin cells in a healthy liquid crystal state protects against irritation helps to restore barrier Effective from as low as 3 with even more benefits at higher concentrations up to 2040 around 10 is a good usabilityeffectiveness sweet spot Highglycerin moisturizers are awesome for treating severely dry skin Glycerin doesn’t sound very glamorous but it is a real oldie but a goodie It’s been used in cosmetics for more than 50 years and it’s a totally natural ingredient that’s also in the outermost layer of our skin called stratum corneum SC It’s a socalled humectant type of moisturiser meaning that it helps our skin to cling onto water A 2005 study has shown that glycerin levels correlate with skin hydration levels so more glycerin means better hydrated skin\\nAs newer studies examine glycerin it turns out more and more that it’s not just a simple humectant but also does some other important things It makes sure that the gooey stuff between the skin cells is neither too diluted nor too concentrated it’s called osmoregulation\\nIt helps to maintain the healthy state of the cell membranes and intracellular lipids keeping the lipids in a nice liquid crystal state that is optimal for barrier function\\nIt can normalize skin shedding in very dry skin It protects against skin irritation such as washing your face too much andor too aggressively What this all means is that glycerin is a real superstar and helps to maintain the healthy state of our skin in several ways And there is even more If your skin is severely dry you have to read this A largescale study done with 394 guys and girls with dry skin compared two highglycerin containing 25 and 40 glycerin moisturizers to 16 other popular moisturizers on the market that had less than 6 glycerin The two highglycerin ones won hands down They had superior quickacting hydrating properties and they also seemed to create a “reservoir” of moistureholding ability in the skin This means that even after not using the highglycerin moisturizer the skin stayed hydrated longer compared to all the other low glycerin moisturizers You might think now that this is sooo awsome I will go to the pharmacy right now buy some glycerin and put it on my face Well do not do that 100 pure glycerin is not good for the skin either Too much glycerin and in general humectants might attract water out of the lower layers of the skin That’s a problem because once water is in the upper layer some of it will evaporate It’s called transepidermalwaterloss TEWL If too much TEWL happens your skin becomes dry This is confirmed by a study too skin treated to 997 glycerin for 5 days showed that after the treatment the SC do you remember it’s the outermost layer of the skin was not visibly different from the untreated control The same study also examined skin treated with a 25 glycerin lotion and there the SC had a visibly different expanded in other words more hydrated appearance So the thing to know about the optimal amount of glycerin is this it is an effective molecule already from 3 even from 1 at least when combined with skin lipids and the benefits tend to increase up until 2040 Around 10 glycerin seems to have a reals sweet spot in terms of effects and usability This amount is still possible to formulate into a relatively light nonsticky and not too heavy formula yes glycerin is sticky and high is really hard to formulate into a cosmetically elegant formula but 10 also shows all the great therapeutic effects including effective moisturization with a reservoir effect protecting against irritation maintaining a healthy skin barrier and making the skin just smooth and plump So bottom line glycerin is a real goodie and far more than a simple moisturizer In our opinion it is an underappreciated superstar that deserves more spotlight than it is currently getting',\n",
       " 'It’s a handy multitasking ingredient that gives the skin a nice soft feel At the same time it also boosts the effectiveness of other preservatives such as the nowadays super commonly used phenoxyethanol The blend of these two caprylyl glycol phenoxyethanol is called Optiphen which not only helps to keep your cosmetics free from nasty things for a long time but also gives a good feel to the finished product Its a popular duo',\n",
       " 'If you have spotted ethylhexylglycerin on the ingredient list most probably you will see there also the current ITpreservative phenoxyethanol They are good friends because ethylhexylglycerin can boost the effectiveness of phenoxyethanol and other preservatives and as an added bonus it feels nice on the skin too\\nAlso its an effective deodorant and a medium spreading emollient',\n",
       " 'Super common little helper ingredient that helps products to remain nice and stable for a longer time It does so by neutralizing the metal ions in the formula that usually get into there from water that would otherwise cause some not so nice changes It is typically used in tiny amounts around 01 or less',\n",
       " 'It’s pretty much the current ITpreservative It’s safe and gentle but even more importantly it’s not a fearedbyeveryonemostlywithoutscientificreason parabenIt’s not something new it was introduced around 1950 and today it can be used up to 1 worldwide It can be found in nature in green tea but the version used in cosmetics is synthetic Other than having a good safety profile and being quite gentle to the skin it has some other advantages too It can be used in many types of formulations as it has great thermal stability can be heated up to 85°C and works on a wide range of pH levels ph 310 It’s often used together with ethylhexylglycerin as it nicely improves the preservative activity of phenoxyethanol',\n",
       " 'The most common type of fearedbyeveryonemostlywithoutscientificreason parabens Its a cheap effective and welltolerated ingredient to make sure the cosmetic formula does not go wrong too soon Apart from the general controversy around parabens we wrote about it more here there is a 2006 invitro made in the lab not on real people research about methylparaben MP showing that when exposed to sunlight MP treated skin cells suffered more harm than nonMP treated skin cells The study was not done with real people on real skin but still using a good sunscreen next to MP containing products is a good idea Well in fact using a sunscreen is always a good idea',\n",
       " 'A very common type of fearedbyeveryonemostlywithoutscientificreason paraben Its a cheap effective and welltolerated ingredient to make sure the cosmetic formula does not go wrong too soon Read more about parabens here']"
      ]
     },
     "execution_count": 222,
     "metadata": {},
     "output_type": "execute_result"
    }
   ],
   "source": [
    "#Prueba pre-utils\n",
    "%time\n",
    "find_description(result2_clean)"
   ]
  },
  {
   "cell_type": "code",
   "execution_count": 232,
   "id": "5a87277f",
   "metadata": {},
   "outputs": [
    {
     "name": "stdout",
     "output_type": "stream",
     "text": [
      "Found 37.5% of ingredients\n"
     ]
    },
    {
     "data": {
      "text/plain": [
       "['Good old water aka H2O The most common skincare ingredient of all You can usually find it right in the very first spot of the ingredient list meaning it’s the biggest thing out of all the stuff that makes up the product It’s mainly a solvent for ingredients that do not like to dissolve in oils but rather in water Once inside the skin it hydrates but not from the outside putting pure water on the skin hello long baths is drying One more thing the water used in cosmetics is purified and deionized it means that almost all of the mineral ions inside it is removed Like this the products can stay more stable over time',\n",
       " 'Sodium chloride is the fancy name of salt Normal everyday table salt If similar to us you are in the weird habit of reading the label on your shower gel while taking a shower you might have noticed that sodium chloride is almost always on the ingredient list The reason for this is that salt acts as a fantastic thickener in cleansing formulas created with ionic cleansing agents aka surfactants such as Sodium Laureth Sulfate A couple of percents typically 13 turns a runny surfactant solution into a nice gel texture\\nIf you are into chemistry if not we understand just skip this paragraph the reason is that electrolytes you know the Na and Cl ions screen the electrostatic repulsion between the head groups of ionic surfactants and thus support the formation of long shaped micelles instead of spherical ones that entangle like spaghetti and viola a gel is formed However too much of it causes the phenomenon called salting out and the surfactant solution goes runny again Other than that salt also works as an emulsion stabilizer in waterinoil emulsions that is when water droplets are dispersed in the outer oil or silicone phase And last but not least when salt is right at the first spot of the ingredient list and is not dissolved the product is usually a body scrub where salt is the physical exfoliating agent',\n",
       " 'It’s the second most researched AHA after glycolic acid It gently lifts off dead skin cells to reveal newer fresher smoother skin It also has amazing skin hydrating properties In higher concentration 10 and up it improves skin firmness thickness and wrinkles Choose a product where you know the concentration and pH value because these two greatly influence effectiveness Don’t forget to use your sunscreen in any case but especially so next to an AHA product Lactic acid is the second most wellknown and most well researched among the AHAs The no 1 is glycolic acid If youre new to AHAs we strongly suggest that you head over to our description about glycolic acid There you will find a super detailed geeky description and many of the things we wrote are true to all AHAs and to lactic acid as well Here we will focus mainly on the differences But before we dive in just a short intro\\nLactic acid is probably one of oldest actives about which women have noticed that it has some nice benefits to the skin Legend has it that in ancient Egypt Cleopatra bathed in sour milk And yes you guessed it right sour milk is a major natural source of lactic acid As an AHA it’s also true of lactic acid that it can gently lift away dead skin cells revealing the fresher smoother nicer skin underneath This is an awesome property of AHAs and this alone makes us a total fan\\nBut just like glycolic acid lactic acid also knows some more However the “some more” is a bit different for the two of them The differences stem from the fact that the molecule of lactic acid is larger\\nBecause of the larger molecule it can penetrate the skin less effectively This means on the one hand that lactic acid is more gentle and on the other hand that the antiaging properties are probably a little less effective While the collagen boosting ability of lactic acid is not so well proven there are studies that show that it also has great antiaging properties if used in the right concentration at the right pH A study done in 1996 compared a 5 and a 12 lactic acid treatment and examined their effect on the outer epidermis and middle dermis layer of the skin The result was that both treatments had nice exfoliation effect but the 5 treatment only affected the epidermis while the 12 treatment affected both the dermis and the epidermis Another study has compared multiple AHAs including lactic acid and glycolic acid in terms of skin benefits and skin irritation The result was that both of them are very effective AHA versions more effective than citric malic and hydroxybutyric acids and after six weeks of use both lactic and glycolic acid improved skin firmness thickness and wrinkles to a similar extent This study also compared the different versions of lactic acid L and D Lactic acid is like our hands it has “a left and a righthanded” version Surprisingly these two versions are not equal the Llactic acid showed the same effectiveness with less irritation potential so that version is the better choice for a cosmetic product BTW the reason for this is not understood Other than that lactic acid has one more magic property it’s an amazing moisturizer ingredient In fact it’s so great with moisturizing and treating dry skin that in the USA there is even an FDAapproved prescription product called LacHydrin that contains 12 lactic acid to hydrate skin As for choosing the right product concentration and pH value is very important here too You can read in detail about both things at the glycolic acid description The exact same thing is true for lactic acid pH 34 is the best for athome products The other goodtoknow things listed out at glycolic acid also apply here The only difference it’s more gentle so probably it will cause less stinging or burning though it depends on the concentration and pH of course So bottom line lactic acid is also a superstar It’s a gentle moisturizing AHA that can give you a fresh smooth even complexion and also some antiaging benefits You have to give it a try if you have not done so so far',\n",
       " 'A helper ingredient that can solubilize challenging oils and oilloving actives into cleansing products It also has emollient emulsifying and wetting properties',\n",
       " 'Its a helper ingredient that improves the freezethaw stability of products Its also a solvent humectant and to some extent a penetration enhancer It has a bad reputation among natural cosmetics advocates but cosmetic scientists and toxicology experts do not agree read more in the geeky details section Propylene Glycol PG is a colorless liquid whose main job usually is to improve the socalled freezethaw stability of the products This means that it makes sure that a product doesn’t freeze or melt in low or high temperatures To achieve this small amounts usually less than 2 is used Other functions of PG include being a humectant helps skin attract water being a solvent for other ingredients and being a penetration enhancer\\nIf you google PG or you like to read around on sites advocating natural cosmetics you might have read some really scary info about this ingredient The two most common accusations are that it’s a strong skin irritant and that it modifies the skin to allow toxins to penetrate it\\nAs for the first one yes PG can be a skin irritant if used 100 on your skin but so can many things in their pure 100 form Think about salt It’s not the same if you try to eat it in itself or if you put a pinch of it on your food So PG used in small amounts in cosmetics is just fine according to every credible scientist and toxicology expert As for the second thing that PG allows toxins to get through our skin it is somewhat true that PG might help some ingredients to penetrate the skin better But it does not work so that a tiny amount of PG allows all the bad stuff to go right into our blood English cosmetic chemist Colin wrote a very good post about this He writes that the skin is very good at keeping things out and getting some good ingredients into it is actually not easy According to his experience PG is not a very good penetration enhancer and fairly large 1025 amount is needed for this function But more than 10 can be irritating so it’s very rare that a cosmetic product contains this large amount The scientists at the Beauty Brains are even more accepting of PG They write that PG is safe for ingestion it can be a food additive AND safe for use in injected drugs so it’s unlikely to cause any problems in a topical cosmetic product applied on intact skin\\nAll in all PG is a helper ingredient and is not especially good for your skin But used in small 5 amounts it’s absolutely fine not poisonous and there is no reason to be afraid of it If you would like to read some more about PG here is the opinion of skin care expert Paula Begoun cosmetic chemists Colin and the Beauty Brains all really good info on the topic',\n",
       " 'Its one of the gold standard ingredients for treating problem skin It can exfoliate skin both on the surface and in the pores Its a potent antiinflammatory agent Its more effective for treating blackheads than acne For acne combine it with antibacterial agents like benzoyl peroxide or azelaic acid If you have ever struggled with let’s just call it “problem skin” you know acne blackheads whiteheads large pores then most probably you are familiar with salicylic acid SA Even if the name does not ring a bell you have probably used it Next to benzoyl peroxide it’s the gold standard ingredient for treating problem skin There are two reasons for this\\nReason 1 It can exfoliate skin both on the surface and in the pores\\nAHAs are very cool but they are water soluble and cannot go into the pores SA is lipid soluble and it can go right into the pores and shed the stuck dead skin cells out from there That’s really good for treating blackheads as well as preventing acne formation This was confirmed also by a study that compared 8 AHA and 2 BHA for treating blackheads AHA did not decrease the blackhead density statistically significantly but BHA did Reason 2 SA is a potent antiinflammatory The chemical structure of SA is very similar to aspirin and it does have similar antiirritant and antiinflammatory effect That is helpful both for acne and rosacea So SA is definitely an ingredient to try if you have oily or problem skin but all in all it’s more effective against blackheads than inflamed zits For the latter one it’s only moderately effective and benzoyl peroxide outperforms it by leaps and bounds But they work in different ways so a combination therapy is a great way to fight and win against acne In fact it’s a good idea to combine SA not only with BP but with any other antibacterial agent such as azelaic acid or mandelic acid\\nWhat else to know For at home use 052 SA is effective and these products are usually gentle enough for daily use In fact in the EU 2 is the maximum strength allowed in at home products There are also professional BHA peels that go in the 2030 range Those can fade pigmentation decrease surface roughness reduce fine lines and of course treat acne Regarding pH requirements for BHA unlike for AHAs where an acidic pH is super important for efficacy it might be less relevant for BHA Oh and one more things studies show that SA at 2 does not increase skin’s sun sensitivity but it has photoprotective effects Not that we want to tell you not to use sunscreen because please do\\nBottom line SA is a great exfoliant and antiinflammatory and you should definitely try it if you have oily skin large pores blackheads or whiteheads If you have acne it is a useful adjacent treatment combined with an antibacterial agent such as benzoyl peroxide or azelaic acid',\n",
       " 'An Ecocertapproved natural preservative that counts as gentle and nonirritating to the skin Usually it comes to the formula as part of a preservative blend as its not enough on its own',\n",
       " 'A common fragrance ingredient that has a sweet vanilla nutty scent When diluted it smells like freshlymown hayIt’s one of the “EU 26 fragrances” that has to be labelled separately and cannot be simply included in the term “fragranceperfume” on the label because of allergen potential Best to avoid if your skin is sensitive',\n",
       " 'It’s pretty much the current ITpreservative It’s safe and gentle but even more importantly it’s not a fearedbyeveryonemostlywithoutscientificreason parabenIt’s not something new it was introduced around 1950 and today it can be used up to 1 worldwide It can be found in nature in green tea but the version used in cosmetics is synthetic Other than having a good safety profile and being quite gentle to the skin it has some other advantages too It can be used in many types of formulations as it has great thermal stability can be heated up to 85°C and works on a wide range of pH levels ph 310 It’s often used together with ethylhexylglycerin as it nicely improves the preservative activity of phenoxyethanol']"
      ]
     },
     "execution_count": 232,
     "metadata": {},
     "output_type": "execute_result"
    }
   ],
   "source": [
    "find_description_ocr(ocr_1_clean)"
   ]
  },
  {
   "cell_type": "code",
   "execution_count": 233,
   "id": "6b1ac760",
   "metadata": {},
   "outputs": [
    {
     "name": "stdout",
     "output_type": "stream",
     "text": [
      "Found 44.44% of ingredients\n"
     ]
    },
    {
     "data": {
      "text/plain": [
       "['A common fragrance ingredient that has a faint sweet balsamic smell It can also be a solvent and can fight against microbes and insects very wellIts one of the “EU 26 fragrances” that has to be labelled separately because of allergen potential Best to avoid if your skin is sensitive',\n",
       " 'It’s a common fragrance ingredient that has a light floral smell It’s one of the “EU 26 fragrances” that has to be labelled separately and cannot be simply included in the term “fragranceperfume” on the label because of allergen potential Best to avoid if your skin is sensitive',\n",
       " 'Citronellol is a very common fragrance ingredient with a nice roselike odor In the UK it’s actually the third most often listed perfume on the ingredient lists It can be naturally found in geranium oil about 30 or rose oil about 25 As with all fragrance ingredients citronellol can also cause allergic contact dermatitis and should be avoided if you have perfume allergy In a 2001 worldwide study with 178 people with known sensitization to fragrances citronellol tested positive in 56 of the casesThere is no known antiaging or positive skin benefits of the ingredient It’s in our products to make it smell nice',\n",
       " 'A colorless or yellowish oil thats used as a fragrance It has a spicy scent and can be found for example in basil clove or cinnamon oilA 2006 invitro made in the lab not on real people study examined if clove oil is cytotoxic and found that not only clove oil but also its main constituent eugenol is cytotoxic even at very low concentration 003 It’s also one of the “EU 26 fragrances” that has to be labelled separately and cannot be simply included in the term “fragranceperfume” on the label because of allergen potential Best to avoid at least in leaveon products']"
      ]
     },
     "execution_count": 233,
     "metadata": {},
     "output_type": "execute_result"
    }
   ],
   "source": [
    "find_description_ocr(ocr_2_clean)"
   ]
  },
  {
   "cell_type": "code",
   "execution_count": 234,
   "id": "1d47a784",
   "metadata": {},
   "outputs": [
    {
     "name": "stdout",
     "output_type": "stream",
     "text": [
      "Found 67.5% of ingredients\n"
     ]
    },
    {
     "data": {
      "text/plain": [
       "['Good old water aka H2O The most common skincare ingredient of all You can usually find it right in the very first spot of the ingredient list meaning it’s the biggest thing out of all the stuff that makes up the product It’s mainly a solvent for ingredients that do not like to dissolve in oils but rather in water Once inside the skin it hydrates but not from the outside putting pure water on the skin hello long baths is drying One more thing the water used in cosmetics is purified and deionized it means that almost all of the mineral ions inside it is removed Like this the products can stay more stable over time',\n",
       " 'Ci 77891 is the color code of titanium dioxide Its a white pigment with great color consistency and dispersibility',\n",
       " 'The famous Avobenzone It is a special snowflake as it is the only globally available chemical sunscreen agent that provides proper UVA protection in the US new generation sunscreen agents are not approved because of impossible FDA regulations It is the global gold standard of UVA protection and is the most used UVA sunscreen in the world It gives very good protection across the whole UVA range 310400 nm that is both UVA1 and UVA2 with a peak protection at 360 nm The problem with it though is that it is not photostable and degrades in the sunlight Wikipedia says that avobenzone loses 36 of its UVabsorption capacity after just one hour of sunlight yep this is one of the reasons why sunscreens have to be reapplied after a few hours\\nThe cosmetics industry is trying to solve the problem by combining avobenzone with other UV filters that enhance its stability like octocrylene Tinosorb S or Ensulizole or by encapsulating it and while both solutions help neither is perfect Interestingly the combination of avobenzone with mineral sunscreens that is titanium dioxide and zinc oxide is not a good idea In the US it is flat out prohibited as avobenzone becomes unstable when combined with mineral sunscreens\\nAs for safety avobenzone has a pretty good safety profile It counts as nonirritating and unlike some other chemical sunscreens it shows no estrogenic effect The maximum concentration of avobenzone permitted is 5 in the EU and 3 in the US',\n",
       " 'Its INCI name is a bit of a mouthful but BisEthylhexyloxyphenol Methoxyphenyl Triazine is worth recognizing it as it is one of the best sunscreen agents known today Unfortunately its not FDAapproved so you will not find it in sunscreens coming from the US not because its not good but because US regulations make it impossible for newer sunscreen agents to get approved but it is widely available in other parts of the world like Europe Australia or Asia It is a broadspectrum covers the whole UVB and UVA range 280400 nm chemical sunscreen agent with peak protections at about 310 and 345 nm and unlike older UV filters its very photostable It hardly deteriorates in the presence of UV light and its also useful in stabilizing other less stable sunscreen agents like the famous UVA protector avobenzone\\nIts a new generation sunscreen agent that was specifically designed for high SPF and good UVA protection and based on a 2007 study that compared 18 sunscreen agents available in the EU it really had the best SPF protection they used the highest concentration allowed by EU regulations from each 18 sunscreens and Trinosorb S gave an SPF 20 all by itself It is an oilsoluble slightly yellowish powder that is not absorbed into the skin too much This is good news for a sunscreen agent as it needs to be on the surface of the skin to do its job properly Regarding BisEthylhexyloxyphenol Methoxyphenyl Triazine side effects we have good news here as well it has a great safety profile and unlike a couple of other chemical sunscreens Trinosorb S and M does not show estrogenic activity Overall we think Trinosorb S is one of the best sunscreen options available today\\nAre you into sunscreen agents We have shiny explanations along with product lists about others as well Methylene BisBenzotriazolyl Tetramethylbutylphenol aka Tinosorb M the good buddy of our current molecule Tinosorb S\\nTrisBiphenyl Triazine aka Tinosorb A2B the newest addition to the Tinosorb family that protects strongly in an inbetween wavelength that most other filters miss Ethylhexyl Triazone aka Uvinul T 150 another new generation sunscreen agent with superhigh UVB protection\\nDiethylamino Hydroxybenzoyl Hexyl Benzoate aka Uvinul A Plus a new generation sunscreen for UVA protection',\n",
       " 'A clear colorless odorless oily liquid that makes the formula easily spreadable and also makes the skin nice and smooth emollient Its especially helpful in sunscreens as it can help to solubilize UV filters',\n",
       " 'An often used emollient with a light and silky feel Its very mild to both skin and eyes and spreads nicely and easily Its often used in sunscreens as its also an excellent solvent for sunscreen agents',\n",
       " 'A colorless to light yellowish oily liquid that works as a UVB 280320nm sunscreen filter with a peak absorbance at 306 nm Its not a strong filter in itself its always used in combination with other sunscreen agents to further enhance the SPF and to solubilize other solid UV filtersIt has a good safety profile and is allowed to be used at a max concentration of 5 both in the US and in Europe 10 is allowed in Japan',\n",
       " 'A chemical sunscreen agent that gives strong protection in the UVB 280320nm range with its peak protection at 306 nm Its special property is that unlike most sunscreen agents it is not oil but water soluble so it is ideal to create light oily skin compatible formulas It is also fairly photostable and can be used to protect other less stable UV filters like famous UVA blocker avobenzone in the formula It is approved worldwide and can be used up to 4 in the US and up to 8 in the EU',\n",
       " 'A white powdery thing thats the major component of glass and sand In cosmetics it’s often in products that are supposed to keep your skin matte as it has great oilabsorbing abilities It’s also used as a helper ingredient to thicken up products or suspend insoluble particles',\n",
       " 'Its a waterhating fumed silica that works as a thickener for oils and it can also suspend particles in oilsAlso increases the gloss of castor oil that can be useful for makeup products',\n",
       " 'A natural moisturizer that’s also in our skin A super common safe effective and cheap molecule used for more than 50 years Not only a simple moisturizer but knows much more keeps the skin lipids between our skin cells in a healthy liquid crystal state protects against irritation helps to restore barrier Effective from as low as 3 with even more benefits at higher concentrations up to 2040 around 10 is a good usabilityeffectiveness sweet spot Highglycerin moisturizers are awesome for treating severely dry skin Glycerin doesn’t sound very glamorous but it is a real oldie but a goodie It’s been used in cosmetics for more than 50 years and it’s a totally natural ingredient that’s also in the outermost layer of our skin called stratum corneum SC It’s a socalled humectant type of moisturiser meaning that it helps our skin to cling onto water A 2005 study has shown that glycerin levels correlate with skin hydration levels so more glycerin means better hydrated skin\\nAs newer studies examine glycerin it turns out more and more that it’s not just a simple humectant but also does some other important things It makes sure that the gooey stuff between the skin cells is neither too diluted nor too concentrated it’s called osmoregulation\\nIt helps to maintain the healthy state of the cell membranes and intracellular lipids keeping the lipids in a nice liquid crystal state that is optimal for barrier function\\nIt can normalize skin shedding in very dry skin It protects against skin irritation such as washing your face too much andor too aggressively What this all means is that glycerin is a real superstar and helps to maintain the healthy state of our skin in several ways And there is even more If your skin is severely dry you have to read this A largescale study done with 394 guys and girls with dry skin compared two highglycerin containing 25 and 40 glycerin moisturizers to 16 other popular moisturizers on the market that had less than 6 glycerin The two highglycerin ones won hands down They had superior quickacting hydrating properties and they also seemed to create a “reservoir” of moistureholding ability in the skin This means that even after not using the highglycerin moisturizer the skin stayed hydrated longer compared to all the other low glycerin moisturizers You might think now that this is sooo awsome I will go to the pharmacy right now buy some glycerin and put it on my face Well do not do that 100 pure glycerin is not good for the skin either Too much glycerin and in general humectants might attract water out of the lower layers of the skin That’s a problem because once water is in the upper layer some of it will evaporate It’s called transepidermalwaterloss TEWL If too much TEWL happens your skin becomes dry This is confirmed by a study too skin treated to 997 glycerin for 5 days showed that after the treatment the SC do you remember it’s the outermost layer of the skin was not visibly different from the untreated control The same study also examined skin treated with a 25 glycerin lotion and there the SC had a visibly different expanded in other words more hydrated appearance So the thing to know about the optimal amount of glycerin is this it is an effective molecule already from 3 even from 1 at least when combined with skin lipids and the benefits tend to increase up until 2040 Around 10 glycerin seems to have a reals sweet spot in terms of effects and usability This amount is still possible to formulate into a relatively light nonsticky and not too heavy formula yes glycerin is sticky and high is really hard to formulate into a cosmetically elegant formula but 10 also shows all the great therapeutic effects including effective moisturization with a reservoir effect protecting against irritation maintaining a healthy skin barrier and making the skin just smooth and plump So bottom line glycerin is a real goodie and far more than a simple moisturizer In our opinion it is an underappreciated superstar that deserves more spotlight than it is currently getting',\n",
       " 'A soft white powder that can be used as a talc replacement in body powders or in pressed powders It also has some oil absorbing properties and gives increased cushion and richness to emulsiontype formulas',\n",
       " 'A natural polysaccharide big sugar molecule coming from red edible seaweeds It is used as a helper ingredient for its gelling thickening and stabilizing properties',\n",
       " 'A handy helper ingredient a polymer ie big molecule from repeated subunits that is used to stabilize emulsions as well as to thicken up products It can also stabilize foam in cleansing products',\n",
       " 'A fatty alcohol the nondrying type with a long oil loving chain of 22 carbon atoms that is used to increase the viscosity of the formula and it also helps the oily and the watery parts to stay nicely mixed together called emulsion stabilizing',\n",
       " 'An extremely common multitasker ingredient that gives your skin a nice soft feel emollient and gives body to creams and lotions It also helps to stabilize oilwater mixes emulsions though it does not function as an emulsifier in itself Its typical use level in most cream type formulas is 23 It’s a socalled fatty alcohol a mix of cetyl and stearyl alcohol other two emollient fatty alcohols Though chemically speaking it is alcohol as in it has an OH group in its molecule its properties are totally different from the properties of low molecular weight or drying alcohols such as denat alcohol Fatty alcohols have a long oilsoluble and thus emollient tail part that makes them absolutely nondrying and nonirritating and are totally ok for the skin',\n",
       " 'A 14 carbon length fatty acid that can be naturally found in nutmeg palm kernel oil coconut oil and butter fat Its used as a foam building cleansing agent Paula Begoun writes that it can be a bit drying to the skin',\n",
       " 'A common fatty acid that can be found in lots of plant oils Its name oleic means derived from olive oil a plant oil rich in oleic acid but avocado macadamia and marula oils just to name a few are also oleic rich\\nIts chemical structure is monounsaturated meaning it has one double bond cis9 that makes it less kinky than polyunsaturated fatty acids with multiple double bonds Less kinkiness means that oleic acid and OArich oils are a bit thicker and heavier than their LArich siblings\\nMaybe this thickness is the reason that Oleic acid is considered comedogenic and if you have acneprone skin avoid OArich plant oils and choose linoleic acidrich versions instead\\nThe thickness of OA also means that OArich oils are considered more nourishing and moisturizing than their LArich counterparts and are generally considered to be more suitable for dry mature skin types As for oleic acid in its free form and by free we mean that it is not bound up in a triglyceride structure like it is in oils it mostly serves as an emulsifier or emulsion stabilizer in small amounts in regular cosmetic products It is also quite well researched and is used in the pharmaceutical industry as a penetration enhancer',\n",
       " 'A fatty acid that can be found naturally in the skin In fact its the most common saturated fatty acid found in animals and plants\\nAs for skincare it can make the skin feel nice and smooth in moisturizers emollient or it can act as a foam building cleansing agent in cleansers Its also a very popular ingredient in shaving foams',\n",
       " 'An amino acidbased emulsifier that helps water and oil to mix and stay that way It is considered as natural environmentally friendly and hypoallergenic',\n",
       " 'Sodium chloride is the fancy name of salt Normal everyday table salt If similar to us you are in the weird habit of reading the label on your shower gel while taking a shower you might have noticed that sodium chloride is almost always on the ingredient list The reason for this is that salt acts as a fantastic thickener in cleansing formulas created with ionic cleansing agents aka surfactants such as Sodium Laureth Sulfate A couple of percents typically 13 turns a runny surfactant solution into a nice gel texture\\nIf you are into chemistry if not we understand just skip this paragraph the reason is that electrolytes you know the Na and Cl ions screen the electrostatic repulsion between the head groups of ionic surfactants and thus support the formation of long shaped micelles instead of spherical ones that entangle like spaghetti and viola a gel is formed However too much of it causes the phenomenon called salting out and the surfactant solution goes runny again Other than that salt also works as an emulsion stabilizer in waterinoil emulsions that is when water droplets are dispersed in the outer oil or silicone phase And last but not least when salt is right at the first spot of the ingredient list and is not dissolved the product is usually a body scrub where salt is the physical exfoliating agent',\n",
       " 'A common helper ingredient that works as a socalled chelating agent It helps products to remain nice and stable for a longer time by neutralizing the metal ions in the formula that usually get into there from water that would otherwise cause some not so nice changes',\n",
       " 'A handy multifunctional ingredient that works as a preservative booster as well as an antioxidant and soothing agent',\n",
       " 'It’s pretty much the current ITpreservative It’s safe and gentle but even more importantly it’s not a fearedbyeveryonemostlywithoutscientificreason parabenIt’s not something new it was introduced around 1950 and today it can be used up to 1 worldwide It can be found in nature in green tea but the version used in cosmetics is synthetic Other than having a good safety profile and being quite gentle to the skin it has some other advantages too It can be used in many types of formulations as it has great thermal stability can be heated up to 85°C and works on a wide range of pH levels ph 310 It’s often used together with ethylhexylglycerin as it nicely improves the preservative activity of phenoxyethanol',\n",
       " 'Yellow Iron Oxide is the super common inorganic as in no carbon atom in the molecule pigment that gives the yellow tones in your foundation Blended with red and black iron oxides it is essential in all fleshtoned makeup products Chemically speaking it is hydrated iron III oxide and depending on the conditions of manufacture it can range from a light lemon to an orangeyellow shade',\n",
       " 'Red Iron Oxide is the super common pigment that gives the familiar rust red color It is also the one that gives the pink tones in your foundation Chemically speaking it is iron III oxide Fe2O3',\n",
       " 'Black Iron Oxide is the super common inorganic as in no carbon atom in the molecule pigment that controls the darkness of your foundation or gives the blackness to your mascara Blended with red and black iron oxides it is essential in all fleshtoned makeup products\\nChemically speaking it is a mixture of iron II and iron III oxide Btw this guy unlike the yellow and red pigments is magnetic']"
      ]
     },
     "execution_count": 234,
     "metadata": {},
     "output_type": "execute_result"
    }
   ],
   "source": [
    "find_description_ocr(ocr_3_clean)"
   ]
  },
  {
   "cell_type": "code",
   "execution_count": 235,
   "id": "f7726d38",
   "metadata": {},
   "outputs": [
    {
     "name": "stdout",
     "output_type": "stream",
     "text": [
      "Found 50.0% of ingredients\n"
     ]
    },
    {
     "data": {
      "text/plain": [
       "['Good old water aka H2O The most common skincare ingredient of all You can usually find it right in the very first spot of the ingredient list meaning it’s the biggest thing out of all the stuff that makes up the product It’s mainly a solvent for ingredients that do not like to dissolve in oils but rather in water Once inside the skin it hydrates but not from the outside putting pure water on the skin hello long baths is drying One more thing the water used in cosmetics is purified and deionized it means that almost all of the mineral ions inside it is removed Like this the products can stay more stable over time',\n",
       " 'Its a helper ingredient that improves the freezethaw stability of products Its also a solvent humectant and to some extent a penetration enhancer It has a bad reputation among natural cosmetics advocates but cosmetic scientists and toxicology experts do not agree read more in the geeky details section Propylene Glycol PG is a colorless liquid whose main job usually is to improve the socalled freezethaw stability of the products This means that it makes sure that a product doesn’t freeze or melt in low or high temperatures To achieve this small amounts usually less than 2 is used Other functions of PG include being a humectant helps skin attract water being a solvent for other ingredients and being a penetration enhancer\\nIf you google PG or you like to read around on sites advocating natural cosmetics you might have read some really scary info about this ingredient The two most common accusations are that it’s a strong skin irritant and that it modifies the skin to allow toxins to penetrate it\\nAs for the first one yes PG can be a skin irritant if used 100 on your skin but so can many things in their pure 100 form Think about salt It’s not the same if you try to eat it in itself or if you put a pinch of it on your food So PG used in small amounts in cosmetics is just fine according to every credible scientist and toxicology expert As for the second thing that PG allows toxins to get through our skin it is somewhat true that PG might help some ingredients to penetrate the skin better But it does not work so that a tiny amount of PG allows all the bad stuff to go right into our blood English cosmetic chemist Colin wrote a very good post about this He writes that the skin is very good at keeping things out and getting some good ingredients into it is actually not easy According to his experience PG is not a very good penetration enhancer and fairly large 1025 amount is needed for this function But more than 10 can be irritating so it’s very rare that a cosmetic product contains this large amount The scientists at the Beauty Brains are even more accepting of PG They write that PG is safe for ingestion it can be a food additive AND safe for use in injected drugs so it’s unlikely to cause any problems in a topical cosmetic product applied on intact skin\\nAll in all PG is a helper ingredient and is not especially good for your skin But used in small 5 amounts it’s absolutely fine not poisonous and there is no reason to be afraid of it If you would like to read some more about PG here is the opinion of skin care expert Paula Begoun cosmetic chemists Colin and the Beauty Brains all really good info on the topic',\n",
       " 'A natural moisturizer that’s also in our skin A super common safe effective and cheap molecule used for more than 50 years Not only a simple moisturizer but knows much more keeps the skin lipids between our skin cells in a healthy liquid crystal state protects against irritation helps to restore barrier Effective from as low as 3 with even more benefits at higher concentrations up to 2040 around 10 is a good usabilityeffectiveness sweet spot Highglycerin moisturizers are awesome for treating severely dry skin Glycerin doesn’t sound very glamorous but it is a real oldie but a goodie It’s been used in cosmetics for more than 50 years and it’s a totally natural ingredient that’s also in the outermost layer of our skin called stratum corneum SC It’s a socalled humectant type of moisturiser meaning that it helps our skin to cling onto water A 2005 study has shown that glycerin levels correlate with skin hydration levels so more glycerin means better hydrated skin\\nAs newer studies examine glycerin it turns out more and more that it’s not just a simple humectant but also does some other important things It makes sure that the gooey stuff between the skin cells is neither too diluted nor too concentrated it’s called osmoregulation\\nIt helps to maintain the healthy state of the cell membranes and intracellular lipids keeping the lipids in a nice liquid crystal state that is optimal for barrier function\\nIt can normalize skin shedding in very dry skin It protects against skin irritation such as washing your face too much andor too aggressively What this all means is that glycerin is a real superstar and helps to maintain the healthy state of our skin in several ways And there is even more If your skin is severely dry you have to read this A largescale study done with 394 guys and girls with dry skin compared two highglycerin containing 25 and 40 glycerin moisturizers to 16 other popular moisturizers on the market that had less than 6 glycerin The two highglycerin ones won hands down They had superior quickacting hydrating properties and they also seemed to create a “reservoir” of moistureholding ability in the skin This means that even after not using the highglycerin moisturizer the skin stayed hydrated longer compared to all the other low glycerin moisturizers You might think now that this is sooo awsome I will go to the pharmacy right now buy some glycerin and put it on my face Well do not do that 100 pure glycerin is not good for the skin either Too much glycerin and in general humectants might attract water out of the lower layers of the skin That’s a problem because once water is in the upper layer some of it will evaporate It’s called transepidermalwaterloss TEWL If too much TEWL happens your skin becomes dry This is confirmed by a study too skin treated to 997 glycerin for 5 days showed that after the treatment the SC do you remember it’s the outermost layer of the skin was not visibly different from the untreated control The same study also examined skin treated with a 25 glycerin lotion and there the SC had a visibly different expanded in other words more hydrated appearance So the thing to know about the optimal amount of glycerin is this it is an effective molecule already from 3 even from 1 at least when combined with skin lipids and the benefits tend to increase up until 2040 Around 10 glycerin seems to have a reals sweet spot in terms of effects and usability This amount is still possible to formulate into a relatively light nonsticky and not too heavy formula yes glycerin is sticky and high is really hard to formulate into a cosmetically elegant formula but 10 also shows all the great therapeutic effects including effective moisturization with a reservoir effect protecting against irritation maintaining a healthy skin barrier and making the skin just smooth and plump So bottom line glycerin is a real goodie and far more than a simple moisturizer In our opinion it is an underappreciated superstar that deserves more spotlight than it is currently getting',\n",
       " 'Probably the most common silicone of all It is a polymer created from repeating subunits molecule and has different molecular weight and thus different viscosity versions from waterlight to thick liquid\\nAs for skincare it makes the skin silky smooth creates a subtle gloss and forms a protective barrier aka occlusive Also works well to fill in fine lines and wrinkles and give skin a plump look of course that is only temporary but still its nice There are also scar treatment gels out there using dimethicone as their base ingredient It helps to soften scars and increase their elasticity As for hair care it is a nonvolatile silicone meaning that it stays on the hair rather than evaporates from it and smoothes the hair like no other thing Depending on your hair type it can be a bit difficult to wash out and might cause some buildup btw this is not true to all silicones only the nonvolatile types',\n",
       " 'A common fragrance ingredient that has a sweet vanilla nutty scent When diluted it smells like freshlymown hayIt’s one of the “EU 26 fragrances” that has to be labelled separately and cannot be simply included in the term “fragranceperfume” on the label because of allergen potential Best to avoid if your skin is sensitive',\n",
       " 'A common fragrance ingredient that smells like jasmine It is one of the “EU 26 fragrances” that has to be labelled separately because of allergen potential Best to avoid if your skin is sensitive',\n",
       " 'A common fragrance ingredient that has a sweet scent somewhere between lily and fruity melon Can be found in essential oils such as lavender oil orange flower oil or ylangylangIn cosmetics it can be used up to 1 It’s one of the “EU 26 fragrances” that has to be labelled separately and cannot be simply included in the term “fragranceperfume” on the label because of allergen potential Best to avoid if your skin is sensitive',\n",
       " 'Linalool is a super common fragrance ingredient It’s kind of everywhere both in plants and in cosmetic products It’s part of 200 natural oils including lavender ylangylang bergamot jasmine geranium and it can be found in 9095 of prestige perfumes on the market The problem with linalool is that just like limonene it oxidises on air exposure and becomes allergenic That’s why a product containing linalool that has been opened for several months is more likely to be allergenic than a fresh one\\nA study made in the UK with 483 people tested the allergic reaction to 3 oxidised linalool and 23 had positive test results']"
      ]
     },
     "execution_count": 235,
     "metadata": {},
     "output_type": "execute_result"
    }
   ],
   "source": [
    "find_description_ocr(ocr_16_clean)"
   ]
  },
  {
   "cell_type": "code",
   "execution_count": 236,
   "id": "f4565dec",
   "metadata": {},
   "outputs": [
    {
     "name": "stdout",
     "output_type": "stream",
     "text": [
      "Found 31.82% of ingredients\n"
     ]
    },
    {
     "data": {
      "text/plain": [
       "['Good old water aka H2O The most common skincare ingredient of all You can usually find it right in the very first spot of the ingredient list meaning it’s the biggest thing out of all the stuff that makes up the product It’s mainly a solvent for ingredients that do not like to dissolve in oils but rather in water Once inside the skin it hydrates but not from the outside putting pure water on the skin hello long baths is drying One more thing the water used in cosmetics is purified and deionized it means that almost all of the mineral ions inside it is removed Like this the products can stay more stable over time',\n",
       " 'Its a helper ingredient that improves the freezethaw stability of products Its also a solvent humectant and to some extent a penetration enhancer It has a bad reputation among natural cosmetics advocates but cosmetic scientists and toxicology experts do not agree read more in the geeky details section Propylene Glycol PG is a colorless liquid whose main job usually is to improve the socalled freezethaw stability of the products This means that it makes sure that a product doesn’t freeze or melt in low or high temperatures To achieve this small amounts usually less than 2 is used Other functions of PG include being a humectant helps skin attract water being a solvent for other ingredients and being a penetration enhancer\\nIf you google PG or you like to read around on sites advocating natural cosmetics you might have read some really scary info about this ingredient The two most common accusations are that it’s a strong skin irritant and that it modifies the skin to allow toxins to penetrate it\\nAs for the first one yes PG can be a skin irritant if used 100 on your skin but so can many things in their pure 100 form Think about salt It’s not the same if you try to eat it in itself or if you put a pinch of it on your food So PG used in small amounts in cosmetics is just fine according to every credible scientist and toxicology expert As for the second thing that PG allows toxins to get through our skin it is somewhat true that PG might help some ingredients to penetrate the skin better But it does not work so that a tiny amount of PG allows all the bad stuff to go right into our blood English cosmetic chemist Colin wrote a very good post about this He writes that the skin is very good at keeping things out and getting some good ingredients into it is actually not easy According to his experience PG is not a very good penetration enhancer and fairly large 1025 amount is needed for this function But more than 10 can be irritating so it’s very rare that a cosmetic product contains this large amount The scientists at the Beauty Brains are even more accepting of PG They write that PG is safe for ingestion it can be a food additive AND safe for use in injected drugs so it’s unlikely to cause any problems in a topical cosmetic product applied on intact skin\\nAll in all PG is a helper ingredient and is not especially good for your skin But used in small 5 amounts it’s absolutely fine not poisonous and there is no reason to be afraid of it If you would like to read some more about PG here is the opinion of skin care expert Paula Begoun cosmetic chemists Colin and the Beauty Brains all really good info on the topic',\n",
       " 'The famous or maybe rather infamous mineral oil The clear oily liquid that is the cheap byproduct of refining crude oil and the one that gets a lot of heat for its poor provenance It is a very controversial ingredient with pros and cons and plenty of myths around it So let us see them The pros of mineral oil Trust us if something is used for more than 100 years in cosmetic products it has advantages Chemically speaking cosmetic grade mineral oil is a complex mixture of highly refined saturated hydrocarbons with C1550 chain length It is not merely a byproduct but rather a specifically isolated part of petroleum that is very pure and inert\\nIt is a great emollient and moisturizer working mainly by occlusivity Occlusivity is one of the basic mechanisms of how moisturizers work and it means that mineral oil sits on top of the skin and hinders socalled transepidermal water loss ie water evaporating out of your skin When compared to heavyduty plant oil extra virgin coconut oil the two of them were equally efficient and safe as moisturizers in treating xerosis a skin condition connected to very dry skin\\nThe other thing that mineral oil is really good at is being nonirritating to the skin The chemical composition of plant oils is more complex with many more possible allergens or irritating components while mineral oil is simple pure and sensitivity to it is extremely rare If you check out the classic French pharmacy brands and their moisturizers for the most sensitive allergy prone skin they usually contain mineral oil This is no coincidence The cons of mineral oil The pros of mineral oil can be interpreted as cons if we look at them from another perspective Not penetrating the skin but mostly just sitting on top of it and not containing biologically active components like nice fatty acids and vitamins mean that mineral oil does not nourish the skin in the way plant oils do Mineral oil does not give the skin any extra goodness it is simply a nonirritating moisturizer working mainly by occlusivity The myths around mineral oil Badmouthing mineral oil is a favorite sport of many it is a cheap material and being connected to petrolatum makes it fairly easy to demonize While it is true that industrial grade mineral oil contains carcinogenic components socalled polycyclic compounds these are completely removed from cosmetic and food grade mineral oil and there is no scientific data showing that the pure cosmetic grade version is carcinogenic\\nWhat is more in terms of the general health effects of mineral oils used in cosmetics a 2017 study reviewed the data on their skin penetration and concluded that the cosmetic use of mineral oils and waxes does not present a risk to consumers due to a lack of systemic exposure Another super common myth surrounding mineral oil is that it is comedogenic A 2005 study titled Is mineral oil comedogenic examined this very question and guess what happened The study concluded that based on the animal and human data reported along with the AAD recommendation it would appear reasonable to conclude that mineral oil is noncomedogenic in humans Overall we feel that the scaremongering around mineral oil is not justified For dry and supersensitive skin types it is a great option However if you do not like its origin or its heavy feeling or anything else about it avoiding it has never been easier Mineral oil has such a bad reputation nowadays that cosmetic companies hardly dare to use it anymore',\n",
       " 'An oily kind of ingredient that can magically blend with water all by itself This is called selfemulsifying and SE in its name stands for that\\nThe difference between normal Glyceryl Stearate and this guy is that the SE grade contains a small amount of waterloving soap molecules such as sodium stearate This increases Glyceryl Stearates affinity for water and gives it stronger emulsifying abilities Other than that it’s a nice emollient that gives a smooth and soft appearance to the skin\\nYou can read some more at Glyceryl Stearate',\n",
       " 'A naturally occurring fructose polysaccharide found in the roots and rhizomes of several plants for example chicory It is used in skincare for its prebiotic activity meaning that it reduces the growth of bad bacteria in favor of friendly microorganisms naturally present on the skin',\n",
       " 'A clear colorless low viscosity volatile does not absorb into the skin but rather evaporates from it silicone fluid that has excellent spreadability and leaves a light silky and smooth feel on the skinAccording to manufacturer info its big advantage is that its compatible both with other silicones and with natural plant oils so its a great ingredient to formulate products with goodsounding consumerpleasing vegetable oils but still maintain a cosmetically elegant nongreasy and nontacky feel',\n",
       " 'A superabsorbent polymer big molecule from repeated subunits that has crazy water binding abilities Sometimes its referred to as waterlock and can absorb 100 to 1000 times its mass in water As for its use in cosmetic products it is a handy multitasker that thickens up waterbased formulas and also has some emulsifying and emulsion stabilizing properties']"
      ]
     },
     "execution_count": 236,
     "metadata": {},
     "output_type": "execute_result"
    }
   ],
   "source": [
    "find_description_ocr(ocr_17_clean)"
   ]
  },
  {
   "cell_type": "code",
   "execution_count": null,
   "id": "18eef96d",
   "metadata": {},
   "outputs": [],
   "source": []
  }
 ],
 "metadata": {
  "kernelspec": {
   "display_name": "Python 3 (ipykernel)",
   "language": "python",
   "name": "python3"
  },
  "language_info": {
   "codemirror_mode": {
    "name": "ipython",
    "version": 3
   },
   "file_extension": ".py",
   "mimetype": "text/x-python",
   "name": "python",
   "nbconvert_exporter": "python",
   "pygments_lexer": "ipython3",
   "version": "3.8.12"
  },
  "toc": {
   "base_numbering": 1,
   "nav_menu": {},
   "number_sections": true,
   "sideBar": true,
   "skip_h1_title": false,
   "title_cell": "Table of Contents",
   "title_sidebar": "Contents",
   "toc_cell": false,
   "toc_position": {},
   "toc_section_display": true,
   "toc_window_display": false
  },
  "vscode": {
   "interpreter": {
    "hash": "6c32b1eeb6d822d7d9f04d92c786d9464e7acffb9b01ffb60411f530c9687316"
   }
  }
 },
 "nbformat": 4,
 "nbformat_minor": 5
}
