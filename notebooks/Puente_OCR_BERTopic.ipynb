{
 "cells": [
  {
   "cell_type": "code",
   "execution_count": 128,
   "metadata": {},
   "outputs": [],
   "source": [
    "#Imports\n",
    "from google.cloud import vision\n",
    "import io\n",
    "import pandas as pd\n",
    "import string\n",
    "import re\n",
    "import requests"
   ]
  },
  {
   "cell_type": "code",
   "execution_count": 129,
   "metadata": {},
   "outputs": [],
   "source": [
    "#Definiciones claves\n",
    "string_punctuation = '!\"#$%&r\"\\\"r\"'\"()*+,./:;<=>?@[r\"\n",
    "string_punctuation2 =  \"\\\\\"\"]^_`{|}~\"r\"\\n\""
   ]
  },
  {
   "cell_type": "code",
   "execution_count": 130,
   "metadata": {},
   "outputs": [],
   "source": [
    "#Función de detección de descripción\n",
    "def find_description(text):\n",
    "    description_list = []\n",
    "    for word in text:\n",
    "        for i in range(len(data[\"names\"])):\n",
    "            if word == data[\"names\"][i].lower():\n",
    "                description_list.append(data[\"description\"][i])\n",
    "    print(f\"Found {round(len(description_list)/len(text)*100,2)}% of ingredients\")\n",
    "    return description_list"
   ]
  },
  {
   "cell_type": "code",
   "execution_count": 131,
   "metadata": {},
   "outputs": [
    {
     "data": {
      "text/html": [
       "<div>\n",
       "<style scoped>\n",
       "    .dataframe tbody tr th:only-of-type {\n",
       "        vertical-align: middle;\n",
       "    }\n",
       "\n",
       "    .dataframe tbody tr th {\n",
       "        vertical-align: top;\n",
       "    }\n",
       "\n",
       "    .dataframe thead th {\n",
       "        text-align: right;\n",
       "    }\n",
       "</style>\n",
       "<table border=\"1\" class=\"dataframe\">\n",
       "  <thead>\n",
       "    <tr style=\"text-align: right;\">\n",
       "      <th></th>\n",
       "      <th>names</th>\n",
       "      <th>links</th>\n",
       "      <th>description</th>\n",
       "    </tr>\n",
       "  </thead>\n",
       "  <tbody>\n",
       "    <tr>\n",
       "      <th>0</th>\n",
       "      <td>Aluminum Starch Octenylsuccinate</td>\n",
       "      <td>https://incidecoder.com//ingredients/aluminum-...</td>\n",
       "      <td>A handy helper ingredient that comes in a whit...</td>\n",
       "    </tr>\n",
       "    <tr>\n",
       "      <th>1</th>\n",
       "      <td>Amaranthus Caudatus Seed Extract</td>\n",
       "      <td>https://incidecoder.com//ingredients/amaranthu...</td>\n",
       "      <td>Its the seed extract of a plant called amarant...</td>\n",
       "    </tr>\n",
       "    <tr>\n",
       "      <th>2</th>\n",
       "      <td>Aminomethyl Propanol</td>\n",
       "      <td>https://incidecoder.com//ingredients/aminometh...</td>\n",
       "      <td>An alkaline high pH aka basic material that is...</td>\n",
       "    </tr>\n",
       "    <tr>\n",
       "      <th>3</th>\n",
       "      <td>Aminopropyl Ascorbyl Phosphate</td>\n",
       "      <td>https://incidecoder.com//ingredients/aminoprop...</td>\n",
       "      <td>A vitamin C derivative thats created by combin...</td>\n",
       "    </tr>\n",
       "    <tr>\n",
       "      <th>4</th>\n",
       "      <td>Ammonium Acryloyldimethyltaurate/​VP Copolymer</td>\n",
       "      <td>https://incidecoder.com//ingredients/ammonium-...</td>\n",
       "      <td>A kind of polymer big molecule from repeated s...</td>\n",
       "    </tr>\n",
       "  </tbody>\n",
       "</table>\n",
       "</div>"
      ],
      "text/plain": [
       "                                            names  \\\n",
       "0                Aluminum Starch Octenylsuccinate   \n",
       "1                Amaranthus Caudatus Seed Extract   \n",
       "2                            Aminomethyl Propanol   \n",
       "3                  Aminopropyl Ascorbyl Phosphate   \n",
       "4  Ammonium Acryloyldimethyltaurate/​VP Copolymer   \n",
       "\n",
       "                                               links  \\\n",
       "0  https://incidecoder.com//ingredients/aluminum-...   \n",
       "1  https://incidecoder.com//ingredients/amaranthu...   \n",
       "2  https://incidecoder.com//ingredients/aminometh...   \n",
       "3  https://incidecoder.com//ingredients/aminoprop...   \n",
       "4  https://incidecoder.com//ingredients/ammonium-...   \n",
       "\n",
       "                                         description  \n",
       "0  A handy helper ingredient that comes in a whit...  \n",
       "1  Its the seed extract of a plant called amarant...  \n",
       "2  An alkaline high pH aka basic material that is...  \n",
       "3  A vitamin C derivative thats created by combin...  \n",
       "4  A kind of polymer big molecule from repeated s...  "
      ]
     },
     "execution_count": 131,
     "metadata": {},
     "output_type": "execute_result"
    }
   ],
   "source": [
    "data = pd.read_csv('incidecoder_descr_clean_sinpunc.csv', sep=\",\")\n",
    "data = data.drop([\"Unnamed: 0\", \"Unnamed: 0.1\"], axis=1)\n",
    "\n",
    "data.head()"
   ]
  },
  {
   "cell_type": "code",
   "execution_count": 132,
   "metadata": {},
   "outputs": [],
   "source": [
    "# Listado ingredientes de la API   \n",
    "url = 'https://skincare-api.herokuapp.com/products'\n",
    "response = requests.get(url).json()\n",
    "products= pd.DataFrame(response)\n",
    "products = products[['name','ingredient_list']]"
   ]
  },
  {
   "cell_type": "code",
   "execution_count": 133,
   "metadata": {},
   "outputs": [
    {
     "data": {
      "text/html": [
       "<div>\n",
       "<style scoped>\n",
       "    .dataframe tbody tr th:only-of-type {\n",
       "        vertical-align: middle;\n",
       "    }\n",
       "\n",
       "    .dataframe tbody tr th {\n",
       "        vertical-align: top;\n",
       "    }\n",
       "\n",
       "    .dataframe thead th {\n",
       "        text-align: right;\n",
       "    }\n",
       "</style>\n",
       "<table border=\"1\" class=\"dataframe\">\n",
       "  <thead>\n",
       "    <tr style=\"text-align: right;\">\n",
       "      <th></th>\n",
       "      <th>name</th>\n",
       "      <th>ingredient_list</th>\n",
       "    </tr>\n",
       "  </thead>\n",
       "  <tbody>\n",
       "    <tr>\n",
       "      <th>0</th>\n",
       "      <td>age spot brightening pen</td>\n",
       "      <td>[water, butylene glycol, alcohol, dipropylene ...</td>\n",
       "    </tr>\n",
       "    <tr>\n",
       "      <th>1</th>\n",
       "      <td>all day balancing care serum</td>\n",
       "      <td>[camellia sinensis leaf water, phyllostachis b...</td>\n",
       "    </tr>\n",
       "    <tr>\n",
       "      <th>2</th>\n",
       "      <td>bio-enzyme refining complex</td>\n",
       "      <td>[panax ginseng root extract, cyclopentasiloxan...</td>\n",
       "    </tr>\n",
       "    <tr>\n",
       "      <th>3</th>\n",
       "      <td>color control cushion compact spf50</td>\n",
       "      <td>[phyllostachis bambusoides juice, cyclopentasi...</td>\n",
       "    </tr>\n",
       "    <tr>\n",
       "      <th>4</th>\n",
       "      <td>future response age defense cr̬me</td>\n",
       "      <td>[camellia sinensis leaf water, dicaprylyl carb...</td>\n",
       "    </tr>\n",
       "    <tr>\n",
       "      <th>...</th>\n",
       "      <td>...</td>\n",
       "      <td>...</td>\n",
       "    </tr>\n",
       "    <tr>\n",
       "      <th>1735</th>\n",
       "      <td>Green Tea Mist</td>\n",
       "      <td>[Water, Green tea]</td>\n",
       "    </tr>\n",
       "    <tr>\n",
       "      <th>1736</th>\n",
       "      <td>Green Tea Mist</td>\n",
       "      <td>[Water, Green tea]</td>\n",
       "    </tr>\n",
       "    <tr>\n",
       "      <th>1737</th>\n",
       "      <td>Jojoba Oil</td>\n",
       "      <td>[Jojoba Oil]</td>\n",
       "    </tr>\n",
       "    <tr>\n",
       "      <th>1738</th>\n",
       "      <td>Mafuta</td>\n",
       "      <td>[Huile de ricin, Aloe vera]</td>\n",
       "    </tr>\n",
       "    <tr>\n",
       "      <th>1739</th>\n",
       "      <td>Mafuta</td>\n",
       "      <td>[mafuta ya mbila]</td>\n",
       "    </tr>\n",
       "  </tbody>\n",
       "</table>\n",
       "<p>1740 rows × 2 columns</p>\n",
       "</div>"
      ],
      "text/plain": [
       "                                     name  \\\n",
       "0                age spot brightening pen   \n",
       "1            all day balancing care serum   \n",
       "2             bio-enzyme refining complex   \n",
       "3     color control cushion compact spf50   \n",
       "4       future response age defense cr̬me   \n",
       "...                                   ...   \n",
       "1735                       Green Tea Mist   \n",
       "1736                       Green Tea Mist   \n",
       "1737                           Jojoba Oil   \n",
       "1738                               Mafuta   \n",
       "1739                               Mafuta   \n",
       "\n",
       "                                        ingredient_list  \n",
       "0     [water, butylene glycol, alcohol, dipropylene ...  \n",
       "1     [camellia sinensis leaf water, phyllostachis b...  \n",
       "2     [panax ginseng root extract, cyclopentasiloxan...  \n",
       "3     [phyllostachis bambusoides juice, cyclopentasi...  \n",
       "4     [camellia sinensis leaf water, dicaprylyl carb...  \n",
       "...                                                 ...  \n",
       "1735                                 [Water, Green tea]  \n",
       "1736                                 [Water, Green tea]  \n",
       "1737                                       [Jojoba Oil]  \n",
       "1738                        [Huile de ricin, Aloe vera]  \n",
       "1739                                  [mafuta ya mbila]  \n",
       "\n",
       "[1740 rows x 2 columns]"
      ]
     },
     "execution_count": 133,
     "metadata": {},
     "output_type": "execute_result"
    }
   ],
   "source": [
    "products"
   ]
  },
  {
   "cell_type": "markdown",
   "metadata": {},
   "source": [
    "# Tipear producto (Buscador)"
   ]
  },
  {
   "cell_type": "code",
   "execution_count": 214,
   "metadata": {},
   "outputs": [],
   "source": [
    "#Función de detección de descripción\n",
    "def find_product_description(product_name):\n",
    "    product_description_list = []\n",
    "    for i in range(len(products[\"name\"])):\n",
    "        if product_name == (products[\"name\"][i].lower()):\n",
    "            product_description_list.append(products[\"ingredient_list\"][i])\n",
    "    return product_description_list[0]"
   ]
  },
  {
   "cell_type": "code",
   "execution_count": 215,
   "metadata": {},
   "outputs": [
    {
     "name": "stdout",
     "output_type": "stream",
     "text": [
      "Insert product name all day balancing care serum\n"
     ]
    }
   ],
   "source": [
    "product_name = input(\"Insert product name \")"
   ]
  },
  {
   "cell_type": "code",
   "execution_count": 216,
   "metadata": {},
   "outputs": [
    {
     "data": {
      "text/plain": [
       "['camellia sinensis leaf water',\n",
       " 'phyllostachis bambusoides juice',\n",
       " 'panax ginseng root extract',\n",
       " 'butylene glycol',\n",
       " 'alcohol',\n",
       " 'carica papaya (papaya) fruit extract',\n",
       " 'water',\n",
       " 'betula platyphylla japonica juice',\n",
       " 'betaine',\n",
       " 'hibiscus abelmoschus seed extract',\n",
       " 'dipotassium glycyrrhizate',\n",
       " 'sodium hyaluronate',\n",
       " 'beta-glucan',\n",
       " 'natto gum',\n",
       " 'tricholoma matsutake extract',\n",
       " 'camellia sinensis callus culture conditioned media',\n",
       " 'camellia sinensis callus culture extract',\n",
       " 'magnolia obovata bark extract',\n",
       " 'theanine',\n",
       " 'peg/ppg-17/6 copolymer',\n",
       " 'hydrogenated lecithin',\n",
       " 'hydroxyethyl acrylate/sodium acryloyldimethyl taurate copolymer',\n",
       " 'glycerin',\n",
       " 'carbomer',\n",
       " 'cellulose gum',\n",
       " 'propanediol',\n",
       " 'xanthan gum',\n",
       " '1 2-hexanediol',\n",
       " 'tromethamine',\n",
       " 'ethylhexylglycerin',\n",
       " 'disodium edta',\n",
       " 'phenoxyethanol',\n",
       " 'fragrance']"
      ]
     },
     "execution_count": 216,
     "metadata": {},
     "output_type": "execute_result"
    }
   ],
   "source": [
    "find_product_description(product_name)"
   ]
  },
  {
   "cell_type": "markdown",
   "metadata": {},
   "source": [
    "### Si no encuentra el producto, se debe sacar una foto"
   ]
  },
  {
   "cell_type": "markdown",
   "metadata": {},
   "source": [
    "# Sacar foto (OCR)"
   ]
  },
  {
   "cell_type": "code",
   "execution_count": 118,
   "metadata": {},
   "outputs": [],
   "source": [
    "def detect_text(path):\n",
    "    \"\"\"Detects text in the file.\"\"\"\n",
    "    # from google.cloud import vision\n",
    "    # import io\n",
    "    client = vision.ImageAnnotatorClient()\n",
    "\n",
    "    with io.open(path, 'rb') as image_file:\n",
    "        content = image_file.read()\n",
    "\n",
    "    image = vision.Image(content=content)\n",
    "\n",
    "    response = client.text_detection(image=image)\n",
    "    texts = str((response.text_annotations[0]).description)\n",
    "    return texts.split(',')\n",
    "    "
   ]
  },
  {
   "cell_type": "code",
   "execution_count": 119,
   "metadata": {},
   "outputs": [],
   "source": [
    "def cleaning(detect_text):\n",
    "    return [''.join(filter(lambda i: i not in \"#$%&\\'()*+,./:;<=>?@[\\\\]^_`{|}~\\n\", item.lower().strip())) for item in detect_text]"
   ]
  },
  {
   "cell_type": "code",
   "execution_count": 120,
   "metadata": {},
   "outputs": [],
   "source": [
    "path1 = \"1.jpg\"\n",
    "path2 = \"2.jpg\"\n",
    "path3 = \"3.jpg\""
   ]
  },
  {
   "cell_type": "code",
   "execution_count": 121,
   "metadata": {},
   "outputs": [
    {
     "data": {
      "text/plain": [
       "['Premium Skin Conditioning Formula\\nIngredients: Water (Aqua)',\n",
       " ' Caprylic/Capric Triglyceride',\n",
       " ' Glycerin',\n",
       " '\\nPropylene Glycol',\n",
       " ' Glyceryl Stearate SE',\n",
       " ' Isopropyl Palmitate',\n",
       " '\\nFREE Stearic Acid',\n",
       " ' Glyceryl Stearate',\n",
       " ' Cetyl Alcohol',\n",
       " ' Stearyl Alcohol\\nDimethicone',\n",
       " ' Cetearyl Alcohol',\n",
       " ' Cetyl Palmitate',\n",
       " ' Hydrolyzed\\nCollagen',\n",
       " ' Phenoxyethanol',\n",
       " ' PEG-100 Stearate',\n",
       " ' Triethanolamine',\n",
       " '\\nCeteareth-20',\n",
       " ' Shea Butter',\n",
       " ' Diazolidinyl Urea',\n",
       " ' Fragrance (Parfum)\\nTocopheryl Acetate',\n",
       " ' Ethylhexylglycerin',\n",
       " ' Carbomer',\n",
       " ' Panthenol',\n",
       " '\\nDMDM Hydantoin',\n",
       " ' Disodium EDTA. Paraben Free.\\nen\\nDirections: Apply to a cleansed face',\n",
       " ' neck and / or body in the\\nSCENTED morning and/ or evening.\\nPEAR\\nLOT Number on Jar Sur']"
      ]
     },
     "execution_count": 121,
     "metadata": {},
     "output_type": "execute_result"
    }
   ],
   "source": [
    "detect_text(path3)"
   ]
  },
  {
   "cell_type": "code",
   "execution_count": 122,
   "metadata": {},
   "outputs": [
    {
     "data": {
      "text/plain": [
       "26"
      ]
     },
     "execution_count": 122,
     "metadata": {},
     "output_type": "execute_result"
    }
   ],
   "source": [
    "text3 = cleaning(detect_text(path3))\n",
    "len(text3)"
   ]
  },
  {
   "cell_type": "code",
   "execution_count": 123,
   "metadata": {},
   "outputs": [
    {
     "name": "stdout",
     "output_type": "stream",
     "text": [
      "Found 65.38% of ingredients\n"
     ]
    },
    {
     "data": {
      "text/plain": [
       "['A natural moisturizer that’s also in our skin A super common safe effective and cheap molecule used for more than 50 years Not only a simple moisturizer but knows much more keeps the skin lipids between our skin cells in a healthy liquid crystal state protects against irritation helps to restore barrier Effective from as low as 3 with even more benefits at higher concentrations up to 2040 around 10 is a good usabilityeffectiveness sweet spot Highglycerin moisturizers are awesome for treating severely dry skin Glycerin doesn’t sound very glamorous but it is a real oldie but a goodie It’s been used in cosmetics for more than 50 years and it’s a totally natural ingredient that’s also in the outermost layer of our skin called stratum corneum SC It’s a socalled humectant type of moisturiser meaning that it helps our skin to cling onto water A 2005 study has shown that glycerin levels correlate with skin hydration levels so more glycerin means better hydrated skin\\nAs newer studies examine glycerin it turns out more and more that it’s not just a simple humectant but also does some other important things It makes sure that the gooey stuff between the skin cells is neither too diluted nor too concentrated it’s called osmoregulation\\nIt helps to maintain the healthy state of the cell membranes and intracellular lipids keeping the lipids in a nice liquid crystal state that is optimal for barrier function\\nIt can normalize skin shedding in very dry skin It protects against skin irritation such as washing your face too much andor too aggressively What this all means is that glycerin is a real superstar and helps to maintain the healthy state of our skin in several ways And there is even more If your skin is severely dry you have to read this A largescale study done with 394 guys and girls with dry skin compared two highglycerin containing 25 and 40 glycerin moisturizers to 16 other popular moisturizers on the market that had less than 6 glycerin The two highglycerin ones won hands down They had superior quickacting hydrating properties and they also seemed to create a “reservoir” of moistureholding ability in the skin This means that even after not using the highglycerin moisturizer the skin stayed hydrated longer compared to all the other low glycerin moisturizers You might think now that this is sooo awsome I will go to the pharmacy right now buy some glycerin and put it on my face Well do not do that 100 pure glycerin is not good for the skin either Too much glycerin and in general humectants might attract water out of the lower layers of the skin That’s a problem because once water is in the upper layer some of it will evaporate It’s called transepidermalwaterloss TEWL If too much TEWL happens your skin becomes dry This is confirmed by a study too skin treated to 997 glycerin for 5 days showed that after the treatment the SC do you remember it’s the outermost layer of the skin was not visibly different from the untreated control The same study also examined skin treated with a 25 glycerin lotion and there the SC had a visibly different expanded in other words more hydrated appearance So the thing to know about the optimal amount of glycerin is this it is an effective molecule already from 3 even from 1 at least when combined with skin lipids and the benefits tend to increase up until 2040 Around 10 glycerin seems to have a reals sweet spot in terms of effects and usability This amount is still possible to formulate into a relatively light nonsticky and not too heavy formula yes glycerin is sticky and high is really hard to formulate into a cosmetically elegant formula but 10 also shows all the great therapeutic effects including effective moisturization with a reservoir effect protecting against irritation maintaining a healthy skin barrier and making the skin just smooth and plump So bottom line glycerin is a real goodie and far more than a simple moisturizer In our opinion it is an underappreciated superstar that deserves more spotlight than it is currently getting',\n",
       " 'Its a helper ingredient that improves the freezethaw stability of products Its also a solvent humectant and to some extent a penetration enhancer It has a bad reputation among natural cosmetics advocates but cosmetic scientists and toxicology experts do not agree read more in the geeky details section Propylene Glycol PG is a colorless liquid whose main job usually is to improve the socalled freezethaw stability of the products This means that it makes sure that a product doesn’t freeze or melt in low or high temperatures To achieve this small amounts usually less than 2 is used Other functions of PG include being a humectant helps skin attract water being a solvent for other ingredients and being a penetration enhancer\\nIf you google PG or you like to read around on sites advocating natural cosmetics you might have read some really scary info about this ingredient The two most common accusations are that it’s a strong skin irritant and that it modifies the skin to allow toxins to penetrate it\\nAs for the first one yes PG can be a skin irritant if used 100 on your skin but so can many things in their pure 100 form Think about salt It’s not the same if you try to eat it in itself or if you put a pinch of it on your food So PG used in small amounts in cosmetics is just fine according to every credible scientist and toxicology expert As for the second thing that PG allows toxins to get through our skin it is somewhat true that PG might help some ingredients to penetrate the skin better But it does not work so that a tiny amount of PG allows all the bad stuff to go right into our blood English cosmetic chemist Colin wrote a very good post about this He writes that the skin is very good at keeping things out and getting some good ingredients into it is actually not easy According to his experience PG is not a very good penetration enhancer and fairly large 1025 amount is needed for this function But more than 10 can be irritating so it’s very rare that a cosmetic product contains this large amount The scientists at the Beauty Brains are even more accepting of PG They write that PG is safe for ingestion it can be a food additive AND safe for use in injected drugs so it’s unlikely to cause any problems in a topical cosmetic product applied on intact skin\\nAll in all PG is a helper ingredient and is not especially good for your skin But used in small 5 amounts it’s absolutely fine not poisonous and there is no reason to be afraid of it If you would like to read some more about PG here is the opinion of skin care expert Paula Begoun cosmetic chemists Colin and the Beauty Brains all really good info on the topic',\n",
       " 'An oily kind of ingredient that can magically blend with water all by itself This is called selfemulsifying and SE in its name stands for that\\nThe difference between normal Glyceryl Stearate and this guy is that the SE grade contains a small amount of waterloving soap molecules such as sodium stearate This increases Glyceryl Stearates affinity for water and gives it stronger emulsifying abilities Other than that it’s a nice emollient that gives a smooth and soft appearance to the skin\\nYou can read some more at Glyceryl Stearate',\n",
       " 'A clear colorless emollient ester oily liquid from isopropyl alcohol palmitic acid that makes the skin nice and smooth It has very good spreading properties and gives a silky touch to the products',\n",
       " 'A super common waxy white solid stuff that helps water and oil to mix together gives body to creams and leaves the skin feeling soft and smooth\\nChemically speaking it is the attachment of a glycerin molecule to the fatty acid called stearic acid It can be produced from most vegetable oils in oils three fatty acid molecules are attached to glycerin instead of just one like here in a pretty simple green process that is similar to soap making Its readily biodegradable\\nIt also occurs naturally in our body and is used as a food additive As cosmetic chemist Colins writes it its safety really is beyond any doubt',\n",
       " 'A socalled fatty the good nondrying kind of alcohol that does all kinds of things in a skincare product it makes your skin feel smooth and nice emollient helps to thicken up products and also helps water and oil to blend emulsifier Can be derived from coconut or palm kernel oil',\n",
       " 'An extremely common multitasker ingredient that gives your skin a nice soft feel emollient and gives body to creams and lotions It also helps to stabilize oilwater mixes emulsions though it does not function as an emulsifier in itself Its typical use level in most cream type formulas is 23 It’s a socalled fatty alcohol a mix of cetyl and stearyl alcohol other two emollient fatty alcohols Though chemically speaking it is alcohol as in it has an OH group in its molecule its properties are totally different from the properties of low molecular weight or drying alcohols such as denat alcohol Fatty alcohols have a long oilsoluble and thus emollient tail part that makes them absolutely nondrying and nonirritating and are totally ok for the skin',\n",
       " 'A white waxy emollient that gives body to skincare formulas Comes from coconut or palm kernel oil',\n",
       " 'It’s pretty much the current ITpreservative It’s safe and gentle but even more importantly it’s not a fearedbyeveryonemostlywithoutscientificreason parabenIt’s not something new it was introduced around 1950 and today it can be used up to 1 worldwide It can be found in nature in green tea but the version used in cosmetics is synthetic Other than having a good safety profile and being quite gentle to the skin it has some other advantages too It can be used in many types of formulations as it has great thermal stability can be heated up to 85°C and works on a wide range of pH levels ph 310 It’s often used together with ethylhexylglycerin as it nicely improves the preservative activity of phenoxyethanol',\n",
       " 'A very common waterloving surfactant and emulsifier that helps to keep water and oil mixed nicely together Its often paired with glyceryl stearate the two together form a super effective emulsifier duo thats salt and acid tolerant and works over a wide pH range It also gives a pleasing product aesthetics so no wonder its popular',\n",
       " 'It’s a little helper ingredient that helps to set the pH of a cosmetic formulation to be just right It’s very alkaline you know the opposite of being very acidic a 1 solution has a pH of around 10\\nIt does not have the very best safety reputation but in general you do not have to worry about it What is true is that if a product contains socalled Nnitrogenating agents eg preservatives like 2Bromo2Nitropropane13Diol 5Bromo5Nitro 13Dioxane or sodium nitrate so look out for things with nitro nitra in the name that together with TEA can form some not nice carcinogenic stuff that is called nitrosamines But with proper formulation that does not happen TEA in itself is not a bad guy But let’s assume a bad combination of ingredients were used and the nitrosamines formed Even in that case you are probably fine because as far as we know it cannot penetrate the skin But to be on the safe side if you see Triethanolamine in an INCI and also something with nitra nitro in the name of it just skip the product that cannot hurt',\n",
       " 'A common functional ingredient that helps to keep the oilloving and waterloving ingredients together emulsifier stabilizes and thickens the products Chemically speaking it is ethoxylated Cetearyl alcohol meaning that some ethylene oxide is added to the fatty alcohol to increase the watersoluble part in the molecule The result is that the mainly oil soluble emollient fatty alcohol is converted to an emulsifier molecule that keeps oil and water mixed in creams The number in the name of Ceteareth emulsifiers refers to the average number of ethylene oxide molecules added and 20 makes a good emulsifier',\n",
       " 'An antimicrobial preservative that helps your products not to go wrong too quickly It works especially well against bacteria specifically gramnegative species yeast and moldSomewhat controversial it belongs to an infamous family of formaldehydereleasers That is it slowly breaks down to form formaldehyde when it is added to a formula We have written more about formaldehydereleasing preservatives and the concerns around them at Dmdm Hydantoin but do not get too scared those are more theories than proven factsAs for Diazolidinyl Urea itself a study from 1990 writes that at concentrations up to 04 it was a mild cumulative skin irritant but the CIR Cosmetic Ingredient Review reviewed it in 2006 and found that in concentrations of 05 it is safe as used as the amount of formaldehyde released will be smaller than the recommended limit of less than 02All in all it is up to your personal decision and skin sensitivity',\n",
       " 'If you have spotted ethylhexylglycerin on the ingredient list most probably you will see there also the current ITpreservative phenoxyethanol They are good friends because ethylhexylglycerin can boost the effectiveness of phenoxyethanol and other preservatives and as an added bonus it feels nice on the skin too\\nAlso its an effective deodorant and a medium spreading emollient',\n",
       " 'A big molecule created from repeated subunits a polymer of acrylic acid that magically converts a liquid into a nice gel formula It usually has to be neutralized with a base such as sodium hydroxide for the thickening to occur and it creates viscous clear gels that also feel nice and nontacky on the skin No wonder it is a very popular and common ingredient Typically used at 1 or less in most formulations',\n",
       " 'An easytoformulate commonly used nice to have ingredient that’s also called provitamin B5 As you might guess from the “pro” part it’s a precursor to vitamin B5 whose fancy name is pantothenic acid Its main job in skincare products is to moisturise the skin It’s a humectant meaning that it can help the skin to attract water and then hold onto it There is also research showing that panthenol can help our skin to produce more lovely lipids that are important for a strong and healthy skin barrier Another great thing about panthenol is that it has antiinflammatory and skin protecting abilities A study shows that it can reduce the irritation caused by lessnice other ingredients eg fragrance preservatives or chemical sunscreens in the product\\nResearch also shows that it might be useful for wound healing as it promotes fibroblast nice type of cells in our skin that produce skinfirming collagen proliferation If that wasn’t enough panthenol is also useful in nail and hair care products A study shows that a nail treatment liquide with 2 panthenol could effectively get into the nail and significantly increase the hydration of it\\nAs for the hair the hydration effect is also true there Panthenol might make your hair softer more elastic and helps to comb your hair more easily',\n",
       " 'A controversial preservative that has formaldehydereleasing properties It works great against bacteria and also has mild fungicide abilities Cosmetic chemist Colin wrote a great article about formaldehyde and DMDM Hydantoin He writes that formaldehyde is the perfect example of the dose makes the poison principle Its a natural stuff that can also be found in fresh fruits and vegetables and eating it in tiny amounts is totally ok However in larger amounts according to Wikipedia 30 mL of a solution containing 37 formaldehyde its deadly The amount of formaldehyde used in cosmetics either neat or through formaldehydereleasing preservatives is tiny Probably that is why the Cosmetic Ingredient Review Broad concluded both in 1988 and in 2008 that DMDM Hydantoin is safe as used in cosmetics\\nHowever Colins argues that in the case of formaldehydereleasing preservatives formaldehyde is released slowly and the skin has probably not evolved to deal with that The lingering formaldehyde might be toxic to the Langerhans Cells that are important for the skins defense system Another potential issue is that formaldehydereleasers might also release other things while reacting with amino acids in the skin that is probably the explanation why some people are not allergic to formaldehyde but are allergic to formaldehydereleasing preservatives These are all theories far from proven facts but we feel that there are some justified reasons why formaldehydereleasing preservatives and Dmdm Hydantoin count as controversial All in all its up to you to decide if you wanna avoid this preservative group or not If so there are other less risky and more skinfriendly options out there']"
      ]
     },
     "execution_count": 123,
     "metadata": {},
     "output_type": "execute_result"
    }
   ],
   "source": [
    "find_description(text3)"
   ]
  },
  {
   "cell_type": "code",
   "execution_count": 112,
   "metadata": {},
   "outputs": [],
   "source": [
    "#def clean_ingredient(detect_text):\n",
    "#    for c in string_punctuation:\n",
    "#        for i, item in enumerate(detect_text):\n",
    "#            if c in item:\n",
    "#                item = item.replace(c,'')\n",
    "#                detect_text[i] = item\n",
    "#            return detect_text"
   ]
  },
  {
   "cell_type": "code",
   "execution_count": 47,
   "metadata": {},
   "outputs": [],
   "source": [
    "#def search_list(test_text):\n",
    "#    description_list = []\n",
    "#    for word in text3:\n",
    "#        if word in data[\"names\"].str.lower():\n",
    "#            description_list.append(data[\"description\"])\n",
    "#    return description_list"
   ]
  },
  {
   "cell_type": "code",
   "execution_count": 59,
   "metadata": {},
   "outputs": [
    {
     "data": {
      "text/plain": [
       "[]"
      ]
     },
     "execution_count": 59,
     "metadata": {},
     "output_type": "execute_result"
    }
   ],
   "source": [
    "search_list(test_text)"
   ]
  },
  {
   "cell_type": "code",
   "execution_count": 27,
   "metadata": {
    "scrolled": true
   },
   "outputs": [
    {
     "data": {
      "text/html": [
       "<div>\n",
       "<style scoped>\n",
       "    .dataframe tbody tr th:only-of-type {\n",
       "        vertical-align: middle;\n",
       "    }\n",
       "\n",
       "    .dataframe tbody tr th {\n",
       "        vertical-align: top;\n",
       "    }\n",
       "\n",
       "    .dataframe thead th {\n",
       "        text-align: right;\n",
       "    }\n",
       "</style>\n",
       "<table border=\"1\" class=\"dataframe\">\n",
       "  <thead>\n",
       "    <tr style=\"text-align: right;\">\n",
       "      <th></th>\n",
       "      <th>names</th>\n",
       "      <th>links</th>\n",
       "      <th>description</th>\n",
       "    </tr>\n",
       "  </thead>\n",
       "  <tbody>\n",
       "    <tr>\n",
       "      <th>111</th>\n",
       "      <td>Capryloyl Glycerin/​Sebacic Acid Copolymer</td>\n",
       "      <td>https://incidecoder.com//ingredients/capryloyl...</td>\n",
       "      <td>The friend of Diheptyl Succinate as the duo is...</td>\n",
       "    </tr>\n",
       "    <tr>\n",
       "      <th>256</th>\n",
       "      <td>Diglycerin</td>\n",
       "      <td>https://incidecoder.com//ingredients/diglycerin</td>\n",
       "      <td>The big brother of glycerin Its also a natural...</td>\n",
       "    </tr>\n",
       "    <tr>\n",
       "      <th>314</th>\n",
       "      <td>Ethylhexylglycerin</td>\n",
       "      <td>https://incidecoder.com//ingredients/ethylhexy...</td>\n",
       "      <td>If you have spotted ethylhexylglycerin on the ...</td>\n",
       "    </tr>\n",
       "    <tr>\n",
       "      <th>337</th>\n",
       "      <td>Glycerin</td>\n",
       "      <td>https://incidecoder.com//ingredients/glycerin</td>\n",
       "      <td>A natural moisturizer that’s also in our skin ...</td>\n",
       "    </tr>\n",
       "    <tr>\n",
       "      <th>587</th>\n",
       "      <td>PEG/​PPG/​Polybutylene Glycol-8/​5/​3 Glycerin</td>\n",
       "      <td>https://incidecoder.com//ingredients/peg-ppg-p...</td>\n",
       "      <td>A glycerin derived synthetic oily liquid that ...</td>\n",
       "    </tr>\n",
       "    <tr>\n",
       "      <th>662</th>\n",
       "      <td>Polyglycerin-3</td>\n",
       "      <td>https://incidecoder.com//ingredients/polyglyce...</td>\n",
       "      <td>Three glycerin molecules attached together It ...</td>\n",
       "    </tr>\n",
       "  </tbody>\n",
       "</table>\n",
       "</div>"
      ],
      "text/plain": [
       "                                              names  \\\n",
       "111      Capryloyl Glycerin/​Sebacic Acid Copolymer   \n",
       "256                                      Diglycerin   \n",
       "314                              Ethylhexylglycerin   \n",
       "337                                        Glycerin   \n",
       "587  PEG/​PPG/​Polybutylene Glycol-8/​5/​3 Glycerin   \n",
       "662                                  Polyglycerin-3   \n",
       "\n",
       "                                                 links  \\\n",
       "111  https://incidecoder.com//ingredients/capryloyl...   \n",
       "256    https://incidecoder.com//ingredients/diglycerin   \n",
       "314  https://incidecoder.com//ingredients/ethylhexy...   \n",
       "337      https://incidecoder.com//ingredients/glycerin   \n",
       "587  https://incidecoder.com//ingredients/peg-ppg-p...   \n",
       "662  https://incidecoder.com//ingredients/polyglyce...   \n",
       "\n",
       "                                           description  \n",
       "111  The friend of Diheptyl Succinate as the duo is...  \n",
       "256  The big brother of glycerin Its also a natural...  \n",
       "314  If you have spotted ethylhexylglycerin on the ...  \n",
       "337  A natural moisturizer that’s also in our skin ...  \n",
       "587  A glycerin derived synthetic oily liquid that ...  \n",
       "662  Three glycerin molecules attached together It ...  "
      ]
     },
     "execution_count": 27,
     "metadata": {},
     "output_type": "execute_result"
    }
   ],
   "source": [
    "#Chequeando que el nombre esté en el dataset\n",
    "data.loc[data['names'].str.contains(\"glycerin\", case=False)]"
   ]
  }
 ],
 "metadata": {
  "kernelspec": {
   "display_name": "Python 3 (ipykernel)",
   "language": "python",
   "name": "python3"
  },
  "language_info": {
   "codemirror_mode": {
    "name": "ipython",
    "version": 3
   },
   "file_extension": ".py",
   "mimetype": "text/x-python",
   "name": "python",
   "nbconvert_exporter": "python",
   "pygments_lexer": "ipython3",
   "version": "3.8.12"
  },
  "toc": {
   "base_numbering": 1,
   "nav_menu": {},
   "number_sections": true,
   "sideBar": true,
   "skip_h1_title": false,
   "title_cell": "Table of Contents",
   "title_sidebar": "Contents",
   "toc_cell": false,
   "toc_position": {},
   "toc_section_display": true,
   "toc_window_display": false
  },
  "vscode": {
   "interpreter": {
    "hash": "5b55005f269c91adc96a70acca3d36efd80e335e412bd429a8f71b3b5e2d57cb"
   }
  }
 },
 "nbformat": 4,
 "nbformat_minor": 2
}
