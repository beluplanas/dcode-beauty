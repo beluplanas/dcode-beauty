{
 "cells": [
  {
   "cell_type": "code",
   "execution_count": 4,
   "metadata": {},
   "outputs": [],
   "source": [
    "import requests \n",
    "from bs4 import BeautifulSoup"
   ]
  },
  {
   "cell_type": "code",
   "execution_count": 23,
   "metadata": {},
   "outputs": [],
   "source": [
    "\n",
    "header = {\n",
    "  \"User-Agent\": \"Mozilla/5.0 (X11; Linux x86_64) AppleWebKit/537.36 (KHTML, like Gecko) Chrome/50.0.2661.75 Safari/537.36\",\n",
    "  \"X-Requested-With\": \"XMLHttpRequest\"\n",
    "}\n",
    "URL_BASE = 'https://incidecoder.com/'"
   ]
  },
  {
   "cell_type": "code",
   "execution_count": 6,
   "metadata": {},
   "outputs": [
    {
     "name": "stdout",
     "output_type": "stream",
     "text": [
      "200\n"
     ]
    }
   ],
   "source": [
    "# print(f'scraping page {i}')\n",
    "url = 'https://incidecoder.com/ingredients/all?offset=1'\n",
    "r = requests.get(url, headers=header)\n",
    "print(r.status_code)\n",
    "soup = BeautifulSoup(r.content, \"html.parser\")"
   ]
  },
  {
   "cell_type": "code",
   "execution_count": 48,
   "metadata": {},
   "outputs": [],
   "source": [
    "names = []\n",
    "links = []\n",
    "links_names = {'names':[],'links':[]}"
   ]
  },
  {
   "cell_type": "code",
   "execution_count": 49,
   "metadata": {},
   "outputs": [
    {
     "name": "stdout",
     "output_type": "stream",
     "text": [
      "200\n",
      "scraping webpage number 1\n",
      "200\n",
      "scraping webpage number 2\n",
      "200\n",
      "scraping webpage number 3\n",
      "200\n",
      "scraping webpage number 4\n",
      "200\n",
      "scraping webpage number 5\n",
      "200\n",
      "scraping webpage number 6\n",
      "200\n",
      "scraping webpage number 7\n",
      "200\n",
      "scraping webpage number 8\n",
      "200\n",
      "scraping webpage number 9\n",
      "200\n",
      "scraping webpage number 10\n",
      "200\n",
      "scraping webpage number 11\n",
      "200\n",
      "scraping webpage number 12\n",
      "200\n",
      "scraping webpage number 13\n",
      "200\n",
      "scraping webpage number 14\n",
      "200\n",
      "scraping webpage number 15\n",
      "200\n",
      "scraping webpage number 16\n",
      "200\n",
      "scraping webpage number 17\n",
      "200\n",
      "scraping webpage number 18\n",
      "200\n",
      "scraping webpage number 19\n"
     ]
    }
   ],
   "source": [
    "for i in range(1,20):\n",
    "    url = f'https://incidecoder.com/ingredients/all?offset={i}'\n",
    "    r = requests.get(url, headers=header)\n",
    "    print(r.status_code)\n",
    "    print(f'scraping webpage number {i}')\n",
    "    soup = BeautifulSoup(r.content, \"html.parser\")\n",
    "    div = soup.find('div',class_='paddingtbl')\n",
    "    items = div.find_all('a',href=True)\n",
    "    for item in items:\n",
    "        links_names['links'].append(URL_BASE+item['href'])\n",
    "        links_names['names'].append(item.text)"
   ]
  },
  {
   "cell_type": "code",
   "execution_count": 74,
   "metadata": {},
   "outputs": [],
   "source": [
    "import pandas as pd\n",
    "df_links = pd.DataFrame(links_names)\n",
    "df_links.to_csv('links_decoder.csv')"
   ]
  },
  {
   "cell_type": "markdown",
   "metadata": {},
   "source": [
    "### Extracting details "
   ]
  },
  {
   "cell_type": "code",
   "execution_count": 53,
   "metadata": {},
   "outputs": [],
   "source": [
    "url = 'https://incidecoder.com//ingredients/aluminum-starch-octenylsuccinate'\n",
    "\n",
    "r = requests.get(url, headers=header)\n",
    "soup = BeautifulSoup(r.content, \"html.parser\")\n"
   ]
  },
  {
   "cell_type": "code",
   "execution_count": 59,
   "metadata": {},
   "outputs": [
    {
     "data": {
      "text/plain": [
       "'A handy helper ingredient that comes in a white powder form and works as an anti-caking and oil-absorbing agent. It also gives products good spreadability, long lasting and velvet touch characteristics. It is popular both in skincare and makeup products.'"
      ]
     },
     "execution_count": 59,
     "metadata": {},
     "output_type": "execute_result"
    }
   ],
   "source": [
    "#poca info \n",
    "div = soup.find('div',{'id':'details'})\n",
    "text = div.find('div',class_='showmore-section')\n",
    "text.find('p').text"
   ]
  },
  {
   "cell_type": "code",
   "execution_count": 60,
   "metadata": {},
   "outputs": [
    {
     "name": "stdout",
     "output_type": "stream",
     "text": [
      "200\n"
     ]
    }
   ],
   "source": [
    "#retinol \n",
    "url = 'https://incidecoder.com//ingredients/retinol'\n",
    "\n",
    "r = requests.get(url, headers=header)\n",
    "soup = BeautifulSoup(r.content, \"html.parser\")\n",
    "print(r.status_code)"
   ]
  },
  {
   "cell_type": "code",
   "execution_count": 71,
   "metadata": {},
   "outputs": [
    {
     "name": "stdout",
     "output_type": "stream",
     "text": [
      "<class 'bs4.element.Tag'>\n"
     ]
    }
   ],
   "source": [
    "div = soup.find('div',{'id':'details'})\n",
    "text = div.find('div',class_='showmore-section')\n",
    "print(type(text))"
   ]
  },
  {
   "cell_type": "code",
   "execution_count": 72,
   "metadata": {},
   "outputs": [],
   "source": [
    "\n",
    "if text == None:\n",
    "    print(True)"
   ]
  }
 ],
 "metadata": {
  "kernelspec": {
   "display_name": "lewagon",
   "language": "python",
   "name": "lewagon"
  },
  "language_info": {
   "codemirror_mode": {
    "name": "ipython",
    "version": 3
   },
   "file_extension": ".py",
   "mimetype": "text/x-python",
   "name": "python",
   "nbconvert_exporter": "python",
   "pygments_lexer": "ipython3",
   "version": "3.8.12"
  },
  "orig_nbformat": 4,
  "vscode": {
   "interpreter": {
    "hash": "568a336049c44657398c2775244117b6ee108a1a92168c78317712211184037a"
   }
  }
 },
 "nbformat": 4,
 "nbformat_minor": 2
}
