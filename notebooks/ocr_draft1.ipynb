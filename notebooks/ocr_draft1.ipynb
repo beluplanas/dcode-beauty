{
 "cells": [
  {
   "cell_type": "code",
   "execution_count": 1,
   "metadata": {},
   "outputs": [
    {
     "name": "stdout",
     "output_type": "stream",
     "text": [
      "/home/aveiser/code/diegotorpoco/dcode-beauty/notebooks\r\n"
     ]
    }
   ],
   "source": [
    "!pwd"
   ]
  },
  {
   "cell_type": "code",
   "execution_count": 4,
   "metadata": {},
   "outputs": [],
   "source": [
    "from google.cloud import vision\n",
    "import io\n",
    "import string\n",
    "from dcodebeauty.datos import read_file"
   ]
  },
  {
   "cell_type": "code",
   "execution_count": 2,
   "metadata": {},
   "outputs": [],
   "source": [
    "def detect_text(path):\n",
    "    \"\"\"Detects text in the file.\"\"\"\n",
    "    # from google.cloud import vision\n",
    "    # import io\n",
    "    client = vision.ImageAnnotatorClient()\n",
    "\n",
    "    with io.open(path, 'rb') as image_file:\n",
    "        content = image_file.read()\n",
    "\n",
    "    image = vision.Image(content=content)\n",
    "\n",
    "    response = client.text_detection(image=image)\n",
    "    texts = str((response.text_annotations[0]).description)\n",
    "    return texts.split(',')\n",
    "    "
   ]
  },
  {
   "cell_type": "code",
   "execution_count": null,
   "metadata": {},
   "outputs": [],
   "source": [
    "path1 = \"1.jpeg\"\n",
    "path2 = \"2.jpeg\"\n",
    "path3 = \"3.jpeg\"\n",
    "path4 = \"4.jpeg\"\n",
    "path5 = \"5.jpeg\"\n",
    "path6 = \"6.jpeg\"\n",
    "path7 = \"7.jpeg\"\n",
    "path8 = \"8.jpeg\"\n",
    "path9 = \"9.jpeg\"\n",
    "path10 = \"10.jpeg\"\n",
    "path11 = \"11.jpeg\"\n",
    "path12 = \"12.jpeg\"\n",
    "path13 = \"13.jpeg\"\n",
    "path14 = \"14.jpeg\"\n",
    "path15 = \"15.jpeg\"\n",
    "path16 = \"16.jpeg\"\n",
    "path17 = \"17.jpeg\"\n",
    "\n"
   ]
  },
  {
   "cell_type": "code",
   "execution_count": null,
   "metadata": {},
   "outputs": [],
   "source": [
    "type(detect_text(path3))\n"
   ]
  },
  {
   "cell_type": "code",
   "execution_count": null,
   "metadata": {},
   "outputs": [],
   "source": [
    "detect_text(path3)"
   ]
  },
  {
   "cell_type": "code",
   "execution_count": null,
   "metadata": {},
   "outputs": [],
   "source": [
    "import re\n",
    "\n",
    "string_punctuation = '!\"#$%&r\"\\\"r\"'\"()*+,./:;<=>?@[r\"\n",
    "string_punctuation2 =  \"\\\\\"\"]^_`{|}~\"r\"\\n\"\n",
    "string_punctuation"
   ]
  },
  {
   "cell_type": "code",
   "execution_count": null,
   "metadata": {},
   "outputs": [],
   "source": [
    "def clean_ingredient(detect_text):\n",
    "    for c in string_punctuation:\n",
    "        for i, item in enumerate(detect_text):\n",
    "            if c in item:\n",
    "                item = item.replace(c,'')\n",
    "                detect_text[i] = item\n",
    "            return detect_text"
   ]
  },
  {
   "cell_type": "code",
   "execution_count": null,
   "metadata": {},
   "outputs": [],
   "source": [
    "def cleaning(detect_text):\n",
    "    return [''.join(filter(lambda i: i not in \"#$%&\\'()*+,./:;<=>?@[\\\\]^_`{|}~\\n\", item.lower())) for item in detect_text]"
   ]
  },
  {
   "cell_type": "code",
   "execution_count": null,
   "metadata": {},
   "outputs": [],
   "source": [
    "clean_ingredient(detect_text(path3))"
   ]
  },
  {
   "cell_type": "code",
   "execution_count": null,
   "metadata": {},
   "outputs": [],
   "source": [
    "cleaning(detect_text(path3))"
   ]
  },
  {
   "cell_type": "code",
   "execution_count": null,
   "metadata": {},
   "outputs": [],
   "source": []
  }
 ],
 "metadata": {
  "kernelspec": {
   "display_name": "Python 3 (ipykernel)",
   "language": "python",
   "name": "python3"
  },
  "language_info": {
   "codemirror_mode": {
    "name": "ipython",
    "version": 3
   },
   "file_extension": ".py",
   "mimetype": "text/x-python",
   "name": "python",
   "nbconvert_exporter": "python",
   "pygments_lexer": "ipython3",
   "version": "3.8.12"
  },
  "toc": {
   "base_numbering": 1,
   "nav_menu": {},
   "number_sections": true,
   "sideBar": true,
   "skip_h1_title": false,
   "title_cell": "Table of Contents",
   "title_sidebar": "Contents",
   "toc_cell": false,
   "toc_position": {},
   "toc_section_display": true,
   "toc_window_display": false
  },
  "vscode": {
   "interpreter": {
    "hash": "5b55005f269c91adc96a70acca3d36efd80e335e412bd429a8f71b3b5e2d57cb"
   }
  }
 },
 "nbformat": 4,
 "nbformat_minor": 2
}
