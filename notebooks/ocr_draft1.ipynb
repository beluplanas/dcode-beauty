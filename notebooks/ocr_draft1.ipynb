{
 "cells": [
  {
   "cell_type": "code",
   "execution_count": 98,
   "metadata": {},
   "outputs": [],
   "source": [
    "from google.cloud import vision\n",
    "import io\n",
    "import string"
   ]
  },
  {
   "cell_type": "code",
   "execution_count": 99,
   "metadata": {},
   "outputs": [],
   "source": [
    "def detect_text(path):\n",
    "    \"\"\"Detects text in the file.\"\"\"\n",
    "    # from google.cloud import vision\n",
    "    # import io\n",
    "    client = vision.ImageAnnotatorClient()\n",
    "\n",
    "    with io.open(path, 'rb') as image_file:\n",
    "        content = image_file.read()\n",
    "\n",
    "    image = vision.Image(content=content)\n",
    "\n",
    "    response = client.text_detection(image=image)\n",
    "    texts = str((response.text_annotations[0]).description)\n",
    "    return texts.split(',')\n",
    "    "
   ]
  },
  {
   "cell_type": "code",
   "execution_count": 100,
   "metadata": {},
   "outputs": [],
   "source": [
    "path1 = \"1.jpeg\"\n",
    "path2 = \"2.jpeg\"\n",
    "path3 = \"3.jpeg\"\n",
    "path4 = \"4.jpeg\"\n",
    "path5 = \"5.jpeg\"\n",
    "path6 = \"6.jpeg\"\n",
    "path7 = \"7.jpeg\"\n",
    "path8 = \"8.jpeg\"\n",
    "path9 = \"9.jpeg\"\n",
    "path10 = \"10.jpeg\"\n",
    "path11 = \"11.jpeg\"\n",
    "path12 = \"12.jpeg\"\n",
    "path13 = \"13.jpeg\"\n",
    "path14 = \"14.jpeg\"\n",
    "path15 = \"15.jpeg\"\n",
    "path16 = \"16.jpeg\"\n",
    "path17 = \"17.jpeg\"\n",
    "\n"
   ]
  },
  {
   "cell_type": "code",
   "execution_count": 101,
   "metadata": {},
   "outputs": [
    {
     "data": {
      "text/plain": [
       "list"
      ]
     },
     "execution_count": 101,
     "metadata": {},
     "output_type": "execute_result"
    }
   ],
   "source": [
    "type(detect_text(path3))\n"
   ]
  },
  {
   "cell_type": "code",
   "execution_count": 102,
   "metadata": {},
   "outputs": [
    {
     "data": {
      "text/plain": [
       "['Ingredientes/Ingredients: Aqua',\n",
       " ' Alcohol Denat.',\n",
       " '\\nCI 77891',\n",
       " ' Butyl Methoxydibenzoylmethane',\n",
       " '\\nBis-Ethylhexyloxyphenol Methoxyphenyl Triazine',\n",
       " '\\nDibutyl Adipate',\n",
       " ' Butylene Glycol Dicaprylate/Dicaprate',\n",
       " '\\nC12-15 Alkyl Benzoate',\n",
       " ' Ethylhexyl Salicylate',\n",
       " ' Ethylhexyl\\nTriazone',\n",
       " ' Diethylamino Hydroxybenzoyl Hexyl\\nBenzoate',\n",
       " ' Phenylbenzimidazole Sulfonic Acid',\n",
       " ' Silica',\n",
       " '\\nSilica Dimethyl Silylate',\n",
       " ' Cocoglycerides',\n",
       " ' Copernicia\\nCerifera Cera',\n",
       " ' Carnitine',\n",
       " ' Glycyrrhiza Inflata Root\\nExtract',\n",
       " ' Glycyrrhetinic Acid',\n",
       " ' Glycerin',\n",
       " ' Tapioca Starch',\n",
       " '\\nCarrageenan',\n",
       " ' Hydroxypropyl Methylcellulose',\n",
       " ' Xanthan\\nGum',\n",
       " ' Behenyl Alcohol',\n",
       " ' Cetearyl Alcohol',\n",
       " ' Stearic\\nAcid',\n",
       " ' Myristic Acid',\n",
       " ' Arachidic Acid',\n",
       " ' Oleic Acid',\n",
       " '\\nPalmitic Acid',\n",
       " ' Sodium Stearoyl Glutamate',\n",
       " ' Sodium\\nHydroxide',\n",
       " ' Sodium Chloride',\n",
       " ' Trisodium EDTA',\n",
       " '\\nHydroxyacetophenone',\n",
       " ' Phenoxyethanol',\n",
       " ' CI 77492',\n",
       " '\\nCI 77491',\n",
       " ' CI 77499.']"
      ]
     },
     "execution_count": 102,
     "metadata": {},
     "output_type": "execute_result"
    }
   ],
   "source": [
    "detect_text(path3)"
   ]
  },
  {
   "cell_type": "code",
   "execution_count": null,
   "metadata": {},
   "outputs": [],
   "source": [
    "import re\n",
    "\n",
    "string_punctuation = '!\"#$%&r\"\\\"r\"'\"()*+,./:;<=>?@[r\"\n",
    "string_punctuation2 =  \"\\\\\"\"]^_`{|}~\"r\"\\n\"\n",
    "string_punctuation"
   ]
  },
  {
   "cell_type": "code",
   "execution_count": 112,
   "metadata": {},
   "outputs": [],
   "source": [
    "def clean_ingredient(detect_text):\n",
    "    for c in string_punctuation:\n",
    "        for i, item in enumerate(detect_text):\n",
    "            if c in item:\n",
    "                item = item.replace(c,'')\n",
    "                detect_text[i] = item\n",
    "            return detect_text"
   ]
  },
  {
   "cell_type": "code",
   "execution_count": 114,
   "metadata": {},
   "outputs": [],
   "source": [
    "def cleaning(detect_text):\n",
    "    return [''.join(filter(lambda i: i not in \"#$%&\\'()*+,./:;<=>?@[\\\\]^_`{|}~\\n\", item.lower())) for item in detect_text]"
   ]
  },
  {
   "cell_type": "code",
   "execution_count": 115,
   "metadata": {},
   "outputs": [
    {
     "data": {
      "text/plain": [
       "['Ingredientes/Ingredients: Aqua',\n",
       " ' Alcohol Denat.',\n",
       " '\\nCI 77891',\n",
       " ' Butyl Methoxydibenzoylmethane',\n",
       " '\\nBis-Ethylhexyloxyphenol Methoxyphenyl Triazine',\n",
       " '\\nDibutyl Adipate',\n",
       " ' Butylene Glycol Dicaprylate/Dicaprate',\n",
       " '\\nC12-15 Alkyl Benzoate',\n",
       " ' Ethylhexyl Salicylate',\n",
       " ' Ethylhexyl\\nTriazone',\n",
       " ' Diethylamino Hydroxybenzoyl Hexyl\\nBenzoate',\n",
       " ' Phenylbenzimidazole Sulfonic Acid',\n",
       " ' Silica',\n",
       " '\\nSilica Dimethyl Silylate',\n",
       " ' Cocoglycerides',\n",
       " ' Copernicia\\nCerifera Cera',\n",
       " ' Carnitine',\n",
       " ' Glycyrrhiza Inflata Root\\nExtract',\n",
       " ' Glycyrrhetinic Acid',\n",
       " ' Glycerin',\n",
       " ' Tapioca Starch',\n",
       " '\\nCarrageenan',\n",
       " ' Hydroxypropyl Methylcellulose',\n",
       " ' Xanthan\\nGum',\n",
       " ' Behenyl Alcohol',\n",
       " ' Cetearyl Alcohol',\n",
       " ' Stearic\\nAcid',\n",
       " ' Myristic Acid',\n",
       " ' Arachidic Acid',\n",
       " ' Oleic Acid',\n",
       " '\\nPalmitic Acid',\n",
       " ' Sodium Stearoyl Glutamate',\n",
       " ' Sodium\\nHydroxide',\n",
       " ' Sodium Chloride',\n",
       " ' Trisodium EDTA',\n",
       " '\\nHydroxyacetophenone',\n",
       " ' Phenoxyethanol',\n",
       " ' CI 77492',\n",
       " '\\nCI 77491',\n",
       " ' CI 77499.']"
      ]
     },
     "execution_count": 115,
     "metadata": {},
     "output_type": "execute_result"
    }
   ],
   "source": [
    "clean_ingredient(detect_text(path3))"
   ]
  },
  {
   "cell_type": "code",
   "execution_count": 116,
   "metadata": {},
   "outputs": [
    {
     "data": {
      "text/plain": [
       "['ingredientesingredients aqua',\n",
       " ' alcohol denat',\n",
       " 'ci 77891',\n",
       " ' butyl methoxydibenzoylmethane',\n",
       " 'bis-ethylhexyloxyphenol methoxyphenyl triazine',\n",
       " 'dibutyl adipate',\n",
       " ' butylene glycol dicaprylatedicaprate',\n",
       " 'c12-15 alkyl benzoate',\n",
       " ' ethylhexyl salicylate',\n",
       " ' ethylhexyltriazone',\n",
       " ' diethylamino hydroxybenzoyl hexylbenzoate',\n",
       " ' phenylbenzimidazole sulfonic acid',\n",
       " ' silica',\n",
       " 'silica dimethyl silylate',\n",
       " ' cocoglycerides',\n",
       " ' coperniciacerifera cera',\n",
       " ' carnitine',\n",
       " ' glycyrrhiza inflata rootextract',\n",
       " ' glycyrrhetinic acid',\n",
       " ' glycerin',\n",
       " ' tapioca starch',\n",
       " 'carrageenan',\n",
       " ' hydroxypropyl methylcellulose',\n",
       " ' xanthangum',\n",
       " ' behenyl alcohol',\n",
       " ' cetearyl alcohol',\n",
       " ' stearicacid',\n",
       " ' myristic acid',\n",
       " ' arachidic acid',\n",
       " ' oleic acid',\n",
       " 'palmitic acid',\n",
       " ' sodium stearoyl glutamate',\n",
       " ' sodiumhydroxide',\n",
       " ' sodium chloride',\n",
       " ' trisodium edta',\n",
       " 'hydroxyacetophenone',\n",
       " ' phenoxyethanol',\n",
       " ' ci 77492',\n",
       " 'ci 77491',\n",
       " ' ci 77499']"
      ]
     },
     "execution_count": 116,
     "metadata": {},
     "output_type": "execute_result"
    }
   ],
   "source": [
    "cleaning(detect_text(path3))"
   ]
  },
  {
   "cell_type": "code",
   "execution_count": null,
   "metadata": {},
   "outputs": [],
   "source": []
  }
 ],
 "metadata": {
  "kernelspec": {
   "display_name": "Python 3.10.5 64-bit",
   "language": "python",
   "name": "python3"
  },
  "language_info": {
   "codemirror_mode": {
    "name": "ipython",
    "version": 3
   },
   "file_extension": ".py",
   "mimetype": "text/x-python",
   "name": "python",
   "nbconvert_exporter": "python",
   "pygments_lexer": "ipython3",
   "version": "3.10.5"
  },
  "orig_nbformat": 4,
  "vscode": {
   "interpreter": {
    "hash": "5b55005f269c91adc96a70acca3d36efd80e335e412bd429a8f71b3b5e2d57cb"
   }
  }
 },
 "nbformat": 4,
 "nbformat_minor": 2
}
